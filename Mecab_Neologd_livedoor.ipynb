{
  "nbformat": 4,
  "nbformat_minor": 0,
  "metadata": {
    "colab": {
      "name": "Mecab_Neologd_livedoor.ipynb",
      "provenance": [],
      "collapsed_sections": [],
      "include_colab_link": true
    },
    "kernelspec": {
      "name": "python3",
      "display_name": "Python 3"
    }
  },
  "cells": [
    {
      "cell_type": "markdown",
      "metadata": {
        "id": "view-in-github",
        "colab_type": "text"
      },
      "source": [
        "<a href=\"https://colab.research.google.com/github/mashyko/NLP_Mecab/blob/master/Mecab_Neologd_livedoor.ipynb\" target=\"_parent\"><img src=\"https://colab.research.google.com/assets/colab-badge.svg\" alt=\"Open In Colab\"/></a>"
      ]
    },
    {
      "cell_type": "markdown",
      "metadata": {
        "id": "I5UvSa7Je5IO",
        "colab_type": "text"
      },
      "source": [
        "# MecabとGensim による類似単語検出：Livedoor News を使用"
      ]
    },
    {
      "cell_type": "markdown",
      "metadata": {
        "id": "JlD1ZicLzHn7",
        "colab_type": "text"
      },
      "source": [
        "Mecabとmecab-ipadic-neologdのインストール： \n",
        "\n",
        "NEologd辞書の追加　:\n",
        "NEologdは、Web上から得た新語に対応しており、毎週更新されるMeCab用のシステム辞書です。\n",
        "\n",
        "mecab-python もインストール\n"
      ]
    },
    {
      "cell_type": "code",
      "metadata": {
        "id": "u76ewinykLfe",
        "colab_type": "code",
        "outputId": "136a328f-1741-4371-f7a8-c03ea1880003",
        "colab": {
          "base_uri": "https://localhost:8080/",
          "height": 119
        }
      },
      "source": [
        "!apt-get -q -y install sudo file mecab libmecab-dev mecab-ipadic-utf8 git curl python-mecab > /dev/null\n",
        "!git clone --depth 1 https://github.com/neologd/mecab-ipadic-neologd.git > /dev/null \n",
        "!echo yes | mecab-ipadic-neologd/bin/install-mecab-ipadic-neologd -n > /dev/null 2>&1\n",
        "!pip install mecab-python3 > /dev/null"
      ],
      "execution_count": 1,
      "outputs": [
        {
          "output_type": "stream",
          "text": [
            "Cloning into 'mecab-ipadic-neologd'...\n",
            "remote: Enumerating objects: 75, done.\u001b[K\n",
            "remote: Counting objects: 100% (75/75), done.\u001b[K\n",
            "remote: Compressing objects: 100% (74/74), done.\u001b[K\n",
            "remote: Total 75 (delta 5), reused 54 (delta 0), pack-reused 0\u001b[K\n",
            "Unpacking objects: 100% (75/75), done.\n"
          ],
          "name": "stdout"
        }
      ]
    },
    {
      "cell_type": "markdown",
      "metadata": {
        "id": "IPksPy0RGzR8",
        "colab_type": "text"
      },
      "source": [
        "mecab-ipadic-neologdが保存されているフォルダーを調べる。"
      ]
    },
    {
      "cell_type": "code",
      "metadata": {
        "id": "Od7tNFDj7rKu",
        "colab_type": "code",
        "outputId": "863d5e24-b8da-466c-b111-a520de563d42",
        "colab": {
          "base_uri": "https://localhost:8080/",
          "height": 34
        }
      },
      "source": [
        "!mecab-config --dicdir"
      ],
      "execution_count": 2,
      "outputs": [
        {
          "output_type": "stream",
          "text": [
            "/usr/lib/x86_64-linux-gnu/mecab/dic\n"
          ],
          "name": "stdout"
        }
      ]
    },
    {
      "cell_type": "code",
      "metadata": {
        "id": "XeDmBFs5emsf",
        "colab_type": "code",
        "outputId": "5e4e5c2a-0738-4cfd-a5b5-a757464762d4",
        "colab": {
          "base_uri": "https://localhost:8080/",
          "height": 289
        }
      },
      "source": [
        "!cat /etc/mecabrc"
      ],
      "execution_count": 3,
      "outputs": [
        {
          "output_type": "stream",
          "text": [
            ";\n",
            "; Configuration file of MeCab\n",
            ";\n",
            "; $Id: mecabrc.in,v 1.3 2006/05/29 15:36:08 taku-ku Exp $;\n",
            ";\n",
            "dicdir = /var/lib/mecab/dic/debian\n",
            "\n",
            "; userdic = /home/foo/bar/user.dic\n",
            "\n",
            "; output-format-type = wakati\n",
            "; input-buffer-size = 8192\n",
            "\n",
            "; node-format = %m\\n\n",
            "; bos-format = %S\\n\n",
            "; eos-format = EOS\\n\n",
            "\n"
          ],
          "name": "stdout"
        }
      ]
    },
    {
      "cell_type": "code",
      "metadata": {
        "id": "3od8IYx_mQZu",
        "colab_type": "code",
        "outputId": "612a5629-f346-45f0-ffeb-bd1fb4798278",
        "colab": {
          "base_uri": "https://localhost:8080/",
          "height": 170
        }
      },
      "source": [
        "import MeCab\n",
        "sent = \"スマホでインスタが流行っている\" \n",
        "tagger = MeCab.Tagger ()\n",
        "print(tagger.parse(sent))"
      ],
      "execution_count": 4,
      "outputs": [
        {
          "output_type": "stream",
          "text": [
            "スマホ\t名詞,一般,*,*,*,*,*\n",
            "で\t助詞,格助詞,一般,*,*,*,で,デ,デ\n",
            "インスタ\t名詞,一般,*,*,*,*,*\n",
            "が\t助詞,格助詞,一般,*,*,*,が,ガ,ガ\n",
            "流行っ\t動詞,自立,*,*,五段・ラ行,連用タ接続,流行る,ハヤッ,ハヤッ\n",
            "て\t助詞,接続助詞,*,*,*,*,て,テ,テ\n",
            "いる\t動詞,非自立,*,*,一段,基本形,いる,イル,イル\n",
            "EOS\n",
            "\n"
          ],
          "name": "stdout"
        }
      ]
    },
    {
      "cell_type": "markdown",
      "metadata": {
        "id": "xQKNWveP6ADt",
        "colab_type": "text"
      },
      "source": [
        ""
      ]
    },
    {
      "cell_type": "code",
      "metadata": {
        "id": "rE3f8rUGtZ07",
        "colab_type": "code",
        "outputId": "5d524be7-3955-4ea4-fe4b-77967f84aa4e",
        "colab": {
          "base_uri": "https://localhost:8080/",
          "height": 340
        }
      },
      "source": [
        "!echo \"SMAPのキムタクはポケモンに会いに行き、スマホを売るバイトをしている\" | mecab -d /usr/lib/x86_64-linux-gnu/mecab/dic/mecab-ipadic-neologd"
      ],
      "execution_count": 5,
      "outputs": [
        {
          "output_type": "stream",
          "text": [
            "SMAP\t名詞,固有名詞,一般,*,*,*,SMAP,スマップ,スマップ\n",
            "の\t助詞,連体化,*,*,*,*,の,ノ,ノ\n",
            "キムタク\t名詞,固有名詞,一般,*,*,*,キムタク,キムタク,キムタク\n",
            "は\t助詞,係助詞,*,*,*,*,は,ハ,ワ\n",
            "ポケモン\t名詞,固有名詞,一般,*,*,*,Pokemon!,ポケモン,ポケモン\n",
            "に\t助詞,格助詞,一般,*,*,*,に,ニ,ニ\n",
            "会い\t名詞,一般,*,*,*,*,会意,カイイ,カイー\n",
            "に\t助詞,格助詞,一般,*,*,*,に,ニ,ニ\n",
            "行き\t動詞,自立,*,*,五段・カ行促音便,連用形,行く,イキ,イキ\n",
            "、\t記号,読点,*,*,*,*,、,、,、\n",
            "スマホ\t名詞,固有名詞,一般,*,*,*,スマホ,スマホ,スマホ\n",
            "を\t助詞,格助詞,一般,*,*,*,を,ヲ,ヲ\n",
            "売る\t動詞,自立,*,*,五段・ラ行,基本形,売る,ウル,ウル\n",
            "バイト\t名詞,一般,*,*,*,*,バイト,バイト,バイト\n",
            "を\t助詞,格助詞,一般,*,*,*,を,ヲ,ヲ\n",
            "し\t動詞,自立,*,*,サ変・スル,連用形,する,シ,シ\n",
            "て\t助詞,接続助詞,*,*,*,*,て,テ,テ\n",
            "いる\t動詞,非自立,*,*,一段,基本形,いる,イル,イル\n",
            "EOS\n"
          ],
          "name": "stdout"
        }
      ]
    },
    {
      "cell_type": "markdown",
      "metadata": {
        "id": "dUUoeiX4yjkz",
        "colab_type": "text"
      },
      "source": [
        "ここからLivedoor News を使用しますので、以下のようにファイルをダウンロードして配置してください。\n",
        "\n",
        "/My Drive/NLP/livedoor-news-data/topic-news.xml \n",
        "\n",
        "この文書が入ったMy Drive にmountします。"
      ]
    },
    {
      "cell_type": "code",
      "metadata": {
        "id": "Fd42zsR-YI1A",
        "colab_type": "code",
        "outputId": "bd90a5b9-cae0-4134-e8fb-bffae898681d",
        "colab": {
          "base_uri": "https://localhost:8080/",
          "height": 238
        }
      },
      "source": [
        "! git clone https://github.com/mashyko/NLP_Mecab\n",
        "%cd NLP_Mecab\n",
        "!ls "
      ],
      "execution_count": 6,
      "outputs": [
        {
          "output_type": "stream",
          "text": [
            "Cloning into 'NLP_Mecab'...\n",
            "remote: Enumerating objects: 35, done.\u001b[K\n",
            "remote: Counting objects:   2% (1/35)\u001b[K\rremote: Counting objects:   5% (2/35)\u001b[K\rremote: Counting objects:   8% (3/35)\u001b[K\rremote: Counting objects:  11% (4/35)\u001b[K\rremote: Counting objects:  14% (5/35)\u001b[K\rremote: Counting objects:  17% (6/35)\u001b[K\rremote: Counting objects:  20% (7/35)\u001b[K\rremote: Counting objects:  22% (8/35)\u001b[K\rremote: Counting objects:  25% (9/35)\u001b[K\rremote: Counting objects:  28% (10/35)\u001b[K\rremote: Counting objects:  31% (11/35)\u001b[K\rremote: Counting objects:  34% (12/35)\u001b[K\rremote: Counting objects:  37% (13/35)\u001b[K\rremote: Counting objects:  40% (14/35)\u001b[K\rremote: Counting objects:  42% (15/35)\u001b[K\rremote: Counting objects:  45% (16/35)\u001b[K\rremote: Counting objects:  48% (17/35)\u001b[K\rremote: Counting objects:  51% (18/35)\u001b[K\rremote: Counting objects:  54% (19/35)\u001b[K\rremote: Counting objects:  57% (20/35)\u001b[K\rremote: Counting objects:  60% (21/35)\u001b[K\rremote: Counting objects:  62% (22/35)\u001b[K\rremote: Counting objects:  65% (23/35)\u001b[K\rremote: Counting objects:  68% (24/35)\u001b[K\rremote: Counting objects:  71% (25/35)\u001b[K\rremote: Counting objects:  74% (26/35)\u001b[K\rremote: Counting objects:  77% (27/35)\u001b[K\rremote: Counting objects:  80% (28/35)\u001b[K\rremote: Counting objects:  82% (29/35)\u001b[K\rremote: Counting objects:  85% (30/35)\u001b[K\rremote: Counting objects:  88% (31/35)\u001b[K\rremote: Counting objects:  91% (32/35)\u001b[K\rremote: Counting objects:  94% (33/35)\u001b[K\rremote: Counting objects:  97% (34/35)\u001b[K\rremote: Counting objects: 100% (35/35)\u001b[K\rremote: Counting objects: 100% (35/35), done.\u001b[K\n",
            "remote: Compressing objects: 100% (35/35), done.\u001b[K\n",
            "remote: Total 137 (delta 13), reused 0 (delta 0), pack-reused 102\u001b[K\n",
            "Receiving objects: 100% (137/137), 12.59 MiB | 20.02 MiB/s, done.\n",
            "Resolving deltas: 100% (54/54), done.\n",
            "/content/NLP_Mecab\n",
            "ChatBot_1.ipynb       gensim_topic.ipynb\t  Mecab_Intro.ipynb\n",
            "corpora\t\t      gensim_tutor_English.ipynb  MeCab.ipynb\n",
            "datasets\t      livedoor-news-data\t  Mecab_janome.ipynb\n",
            "fasttext_intro.ipynb  Livedoor-text\t\t  Mecab_Neologd.ipynb\n",
            "Gensim_doc2vec.ipynb  MeCab_1.ipynb\t\t  README.md\n"
          ],
          "name": "stdout"
        }
      ]
    },
    {
      "cell_type": "markdown",
      "metadata": {
        "id": "hf6VtawdsZzK",
        "colab_type": "text"
      },
      "source": [
        "分かち書きファイルの作成と保存"
      ]
    },
    {
      "cell_type": "code",
      "metadata": {
        "id": "7KlA2W80KvFJ",
        "colab_type": "code",
        "colab": {}
      },
      "source": [
        "!mecab  -Owakati ./livedoor-news-data/topic-news.txt -o ./livedoor-news-data/topic-wakati.txt"
      ],
      "execution_count": 0,
      "outputs": []
    },
    {
      "cell_type": "markdown",
      "metadata": {
        "id": "BziNsMXetTmf",
        "colab_type": "text"
      },
      "source": [
        "gemsim向けのトークン化されたファイルの作成"
      ]
    },
    {
      "cell_type": "code",
      "metadata": {
        "id": "mciS_QRgrFbp",
        "colab_type": "code",
        "colab": {}
      },
      "source": [
        "import MeCab\n",
        "tagger = MeCab.Tagger('-F\\s%f[6] -d /usr/lib/x86_64-linux-gnu/mecab/dic/mecab-ipadic-neologd')\n",
        "\n",
        "raw = open('./livedoor-news-data/topic-news.xml', 'r')\n",
        "text = open('./livedoor-news-data/topic-news_text.xml', 'w')\n",
        "\n",
        "line = raw.readline()\n",
        "while line:\n",
        "    result = tagger.parse(line)\n",
        "    text.write(result[1:]) # skip first \\s\n",
        "    line = raw.readline()\n",
        "\n",
        "raw.close()\n",
        "text.close()"
      ],
      "execution_count": 0,
      "outputs": []
    },
    {
      "cell_type": "code",
      "metadata": {
        "id": "K9WnQTExV3Pj",
        "colab_type": "code",
        "outputId": "73723998-5d6e-4fc7-ed70-d88e068b3b7e",
        "colab": {
          "base_uri": "https://localhost:8080/",
          "height": 34
        }
      },
      "source": [
        "!ls livedoor-news-data/"
      ],
      "execution_count": 9,
      "outputs": [
        {
          "output_type": "stream",
          "text": [
            "topic-news_text.xml  topic-news.txt  topic-news.xml\n"
          ],
          "name": "stdout"
        }
      ]
    },
    {
      "cell_type": "markdown",
      "metadata": {
        "id": "TSXkq4Oly4NQ",
        "colab_type": "text"
      },
      "source": [
        "Gensimのインストール"
      ]
    },
    {
      "cell_type": "code",
      "metadata": {
        "id": "loyBHfB1xLl8",
        "colab_type": "code",
        "outputId": "8a212ecb-d753-4129-943b-1e9d6fe4fd44",
        "colab": {
          "base_uri": "https://localhost:8080/",
          "height": 326
        }
      },
      "source": [
        "!pip install gensim"
      ],
      "execution_count": 10,
      "outputs": [
        {
          "output_type": "stream",
          "text": [
            "Requirement already satisfied: gensim in /usr/local/lib/python3.6/dist-packages (3.6.0)\n",
            "Requirement already satisfied: scipy>=0.18.1 in /usr/local/lib/python3.6/dist-packages (from gensim) (1.4.1)\n",
            "Requirement already satisfied: smart-open>=1.2.1 in /usr/local/lib/python3.6/dist-packages (from gensim) (2.0.0)\n",
            "Requirement already satisfied: numpy>=1.11.3 in /usr/local/lib/python3.6/dist-packages (from gensim) (1.18.5)\n",
            "Requirement already satisfied: six>=1.5.0 in /usr/local/lib/python3.6/dist-packages (from gensim) (1.12.0)\n",
            "Requirement already satisfied: requests in /usr/local/lib/python3.6/dist-packages (from smart-open>=1.2.1->gensim) (2.23.0)\n",
            "Requirement already satisfied: boto in /usr/local/lib/python3.6/dist-packages (from smart-open>=1.2.1->gensim) (2.49.0)\n",
            "Requirement already satisfied: boto3 in /usr/local/lib/python3.6/dist-packages (from smart-open>=1.2.1->gensim) (1.13.23)\n",
            "Requirement already satisfied: idna<3,>=2.5 in /usr/local/lib/python3.6/dist-packages (from requests->smart-open>=1.2.1->gensim) (2.9)\n",
            "Requirement already satisfied: urllib3!=1.25.0,!=1.25.1,<1.26,>=1.21.1 in /usr/local/lib/python3.6/dist-packages (from requests->smart-open>=1.2.1->gensim) (1.24.3)\n",
            "Requirement already satisfied: chardet<4,>=3.0.2 in /usr/local/lib/python3.6/dist-packages (from requests->smart-open>=1.2.1->gensim) (3.0.4)\n",
            "Requirement already satisfied: certifi>=2017.4.17 in /usr/local/lib/python3.6/dist-packages (from requests->smart-open>=1.2.1->gensim) (2020.4.5.1)\n",
            "Requirement already satisfied: s3transfer<0.4.0,>=0.3.0 in /usr/local/lib/python3.6/dist-packages (from boto3->smart-open>=1.2.1->gensim) (0.3.3)\n",
            "Requirement already satisfied: jmespath<1.0.0,>=0.7.1 in /usr/local/lib/python3.6/dist-packages (from boto3->smart-open>=1.2.1->gensim) (0.10.0)\n",
            "Requirement already satisfied: botocore<1.17.0,>=1.16.23 in /usr/local/lib/python3.6/dist-packages (from boto3->smart-open>=1.2.1->gensim) (1.16.23)\n",
            "Requirement already satisfied: python-dateutil<3.0.0,>=2.1 in /usr/local/lib/python3.6/dist-packages (from botocore<1.17.0,>=1.16.23->boto3->smart-open>=1.2.1->gensim) (2.8.1)\n",
            "Requirement already satisfied: docutils<0.16,>=0.10 in /usr/local/lib/python3.6/dist-packages (from botocore<1.17.0,>=1.16.23->boto3->smart-open>=1.2.1->gensim) (0.15.2)\n"
          ],
          "name": "stdout"
        }
      ]
    },
    {
      "cell_type": "markdown",
      "metadata": {
        "id": "AmWvx2UltqRO",
        "colab_type": "text"
      },
      "source": [
        "word2vec による辞書の作成"
      ]
    },
    {
      "cell_type": "code",
      "metadata": {
        "id": "McGpM4XQvwIK",
        "colab_type": "code",
        "outputId": "51d832a9-d12e-473d-dff0-69139d4c68f1",
        "colab": {
          "base_uri": "https://localhost:8080/",
          "height": 836
        }
      },
      "source": [
        "from gensim.models import word2vec\n",
        "import logging\n",
        "\n",
        "logging.basicConfig(format='%(asctime)s : %(levelname)s : %(message)s', level=logging.INFO)\n",
        "\n",
        "sentences = word2vec.LineSentence('./livedoor-news-data/topic-news_text.xml')\n",
        "model = word2vec.Word2Vec(sentences,\n",
        "                          sg=1,\n",
        "                          size=100,\n",
        "                          min_count=1,\n",
        "                          window=10,\n",
        "                          hs=1,\n",
        "                          negative=0)\n",
        "model.save('./livedoor-news-data/topic-news.model')\n"
      ],
      "execution_count": 11,
      "outputs": [
        {
          "output_type": "stream",
          "text": [
            "2020-06-15 01:54:51,122 : INFO : collecting all words and their counts\n",
            "/usr/local/lib/python3.6/dist-packages/smart_open/smart_open_lib.py:253: UserWarning: This function is deprecated, use smart_open.open instead. See the migration notes for details: https://github.com/RaRe-Technologies/smart_open/blob/master/README.rst#migrating-to-the-new-open-function\n",
            "  'See the migration notes for details: %s' % _MIGRATION_NOTES_URL\n",
            "2020-06-15 01:54:51,125 : INFO : PROGRESS: at sentence #0, processed 0 words, keeping 0 word types\n",
            "2020-06-15 01:54:51,209 : INFO : PROGRESS: at sentence #10000, processed 215781 words, keeping 14028 word types\n",
            "2020-06-15 01:54:51,275 : INFO : collected 19365 word types from a corpus of 377586 raw words and 16734 sentences\n",
            "2020-06-15 01:54:51,276 : INFO : Loading a fresh vocabulary\n",
            "2020-06-15 01:54:51,313 : INFO : effective_min_count=1 retains 19365 unique words (100% of original 19365, drops 0)\n",
            "2020-06-15 01:54:51,314 : INFO : effective_min_count=1 leaves 377586 word corpus (100% of original 377586, drops 0)\n",
            "2020-06-15 01:54:51,376 : INFO : deleting the raw counts dictionary of 19365 items\n",
            "2020-06-15 01:54:51,378 : INFO : sample=0.001 downsamples 37 most-common words\n",
            "2020-06-15 01:54:51,380 : INFO : downsampling leaves estimated 209242 word corpus (55.4% of prior 377586)\n",
            "2020-06-15 01:54:51,401 : INFO : constructing a huffman tree from 19365 words\n",
            "2020-06-15 01:54:51,960 : INFO : built huffman tree with maximum node depth 19\n",
            "2020-06-15 01:54:51,968 : INFO : estimated required memory for 19365 words and 100 dimensions: 29047500 bytes\n",
            "2020-06-15 01:54:51,969 : INFO : resetting layer weights\n",
            "2020-06-15 01:54:55,765 : INFO : training model with 3 workers on 19365 vocabulary and 100 features, using sg=1 hs=1 sample=0.001 negative=0 window=10\n",
            "2020-06-15 01:54:56,796 : INFO : EPOCH 1 - PROGRESS: at 55.80% examples, 106520 words/s, in_qsize 4, out_qsize 1\n",
            "2020-06-15 01:54:57,514 : INFO : worker thread finished; awaiting finish of 2 more threads\n",
            "2020-06-15 01:54:57,544 : INFO : worker thread finished; awaiting finish of 1 more threads\n",
            "2020-06-15 01:54:57,551 : INFO : worker thread finished; awaiting finish of 0 more threads\n",
            "2020-06-15 01:54:57,552 : INFO : EPOCH - 1 : training on 377586 raw words (209003 effective words) took 1.8s, 117371 effective words/s\n",
            "2020-06-15 01:54:58,573 : INFO : EPOCH 2 - PROGRESS: at 55.72% examples, 107743 words/s, in_qsize 5, out_qsize 0\n",
            "2020-06-15 01:54:59,261 : INFO : worker thread finished; awaiting finish of 2 more threads\n",
            "2020-06-15 01:54:59,288 : INFO : worker thread finished; awaiting finish of 1 more threads\n",
            "2020-06-15 01:54:59,326 : INFO : worker thread finished; awaiting finish of 0 more threads\n",
            "2020-06-15 01:54:59,327 : INFO : EPOCH - 2 : training on 377586 raw words (209713 effective words) took 1.8s, 118435 effective words/s\n",
            "2020-06-15 01:55:00,337 : INFO : EPOCH 3 - PROGRESS: at 55.72% examples, 108963 words/s, in_qsize 5, out_qsize 0\n",
            "2020-06-15 01:55:01,046 : INFO : worker thread finished; awaiting finish of 2 more threads\n",
            "2020-06-15 01:55:01,071 : INFO : worker thread finished; awaiting finish of 1 more threads\n",
            "2020-06-15 01:55:01,105 : INFO : worker thread finished; awaiting finish of 0 more threads\n",
            "2020-06-15 01:55:01,106 : INFO : EPOCH - 3 : training on 377586 raw words (209300 effective words) took 1.8s, 118097 effective words/s\n",
            "2020-06-15 01:55:02,127 : INFO : EPOCH 4 - PROGRESS: at 55.63% examples, 107810 words/s, in_qsize 5, out_qsize 0\n",
            "2020-06-15 01:55:02,831 : INFO : worker thread finished; awaiting finish of 2 more threads\n",
            "2020-06-15 01:55:02,879 : INFO : worker thread finished; awaiting finish of 1 more threads\n",
            "2020-06-15 01:55:02,884 : INFO : worker thread finished; awaiting finish of 0 more threads\n",
            "2020-06-15 01:55:02,885 : INFO : EPOCH - 4 : training on 377586 raw words (209257 effective words) took 1.8s, 117971 effective words/s\n",
            "2020-06-15 01:55:03,896 : INFO : EPOCH 5 - PROGRESS: at 58.14% examples, 114531 words/s, in_qsize 5, out_qsize 0\n",
            "2020-06-15 01:55:04,625 : INFO : worker thread finished; awaiting finish of 2 more threads\n",
            "2020-06-15 01:55:04,627 : INFO : worker thread finished; awaiting finish of 1 more threads\n",
            "2020-06-15 01:55:04,645 : INFO : worker thread finished; awaiting finish of 0 more threads\n",
            "2020-06-15 01:55:04,646 : INFO : EPOCH - 5 : training on 377586 raw words (209544 effective words) took 1.8s, 119395 effective words/s\n",
            "2020-06-15 01:55:04,647 : INFO : training on a 1887930 raw words (1046817 effective words) took 8.9s, 117874 effective words/s\n",
            "2020-06-15 01:55:04,648 : INFO : saving Word2Vec object under ./livedoor-news-data/topic-news.model, separately None\n",
            "2020-06-15 01:55:04,649 : INFO : not storing attribute vectors_norm\n",
            "2020-06-15 01:55:04,650 : INFO : not storing attribute cum_table\n",
            "2020-06-15 01:55:05,080 : INFO : saved ./livedoor-news-data/topic-news.model\n"
          ],
          "name": "stderr"
        }
      ]
    },
    {
      "cell_type": "markdown",
      "metadata": {
        "id": "w8zGKq7mrJVC",
        "colab_type": "text"
      },
      "source": [
        "類似の単語を20個検出します。ここでは、「嵐」"
      ]
    },
    {
      "cell_type": "code",
      "metadata": {
        "id": "fCcSR1y1u3Ju",
        "colab_type": "code",
        "outputId": "27f0262b-6b24-4c4e-e875-dd8367fe804e",
        "colab": {
          "base_uri": "https://localhost:8080/",
          "height": 581
        }
      },
      "source": [
        "model = word2vec.Word2Vec.load('./livedoor-news-data/topic-news.model')\n",
        "model.wv.most_similar(positive=['嵐'],topn=20)"
      ],
      "execution_count": 12,
      "outputs": [
        {
          "output_type": "stream",
          "text": [
            "2020-06-15 01:55:05,087 : INFO : loading Word2Vec object from ./livedoor-news-data/topic-news.model\n",
            "/usr/local/lib/python3.6/dist-packages/smart_open/smart_open_lib.py:253: UserWarning: This function is deprecated, use smart_open.open instead. See the migration notes for details: https://github.com/RaRe-Technologies/smart_open/blob/master/README.rst#migrating-to-the-new-open-function\n",
            "  'See the migration notes for details: %s' % _MIGRATION_NOTES_URL\n",
            "2020-06-15 01:55:05,335 : INFO : loading wv recursively from ./livedoor-news-data/topic-news.model.wv.* with mmap=None\n",
            "2020-06-15 01:55:05,336 : INFO : setting ignored attribute vectors_norm to None\n",
            "2020-06-15 01:55:05,337 : INFO : loading vocabulary recursively from ./livedoor-news-data/topic-news.model.vocabulary.* with mmap=None\n",
            "2020-06-15 01:55:05,338 : INFO : loading trainables recursively from ./livedoor-news-data/topic-news.model.trainables.* with mmap=None\n",
            "2020-06-15 01:55:05,338 : INFO : setting ignored attribute cum_table to None\n",
            "2020-06-15 01:55:05,339 : INFO : loaded ./livedoor-news-data/topic-news.model\n",
            "2020-06-15 01:55:05,362 : INFO : precomputing L2-norms of word weight vectors\n",
            "/usr/local/lib/python3.6/dist-packages/gensim/matutils.py:737: FutureWarning: Conversion of the second argument of issubdtype from `int` to `np.signedinteger` is deprecated. In future, it will be treated as `np.int64 == np.dtype(int).type`.\n",
            "  if np.issubdtype(vec.dtype, np.int):\n"
          ],
          "name": "stderr"
        },
        {
          "output_type": "execute_result",
          "data": {
            "text/plain": [
              "[('生歌', 0.8238643407821655),\n",
              " ('機材', 0.7589198350906372),\n",
              " ('続々', 0.6356038451194763),\n",
              " ('FNS歌謡祭', 0.6247184872627258),\n",
              " ('吹き荒れる', 0.6204281449317932),\n",
              " ('騒然', 0.6174483299255371),\n",
              " ('板野友美', 0.6095362901687622),\n",
              " ('酷', 0.6053171157836914),\n",
              " ('批判デモ', 0.5994373559951782),\n",
              " ('轟々', 0.5975573062896729),\n",
              " ('婦人公論', 0.5893675088882446),\n",
              " ('吉高由里子', 0.5866955518722534),\n",
              " ('偏向報道', 0.5862089395523071),\n",
              " ('めちゃ×2イケてる', 0.5842294692993164),\n",
              " ('小嶋陽菜', 0.5830409526824951),\n",
              " ('めろ', 0.5812135338783264),\n",
              " ('振舞い', 0.577261209487915),\n",
              " ('またもや', 0.5765401721000671),\n",
              " ('韓流ゴリ押し', 0.574148416519165),\n",
              " ('口移し', 0.5711820125579834)]"
            ]
          },
          "metadata": {
            "tags": []
          },
          "execution_count": 12
        }
      ]
    },
    {
      "cell_type": "markdown",
      "metadata": {
        "id": "bMr0Ycd_Gkyf",
        "colab_type": "text"
      },
      "source": [
        "以上"
      ]
    }
  ]
}