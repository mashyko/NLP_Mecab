{
  "nbformat": 4,
  "nbformat_minor": 0,
  "metadata": {
    "kernelspec": {
      "display_name": "Python 3",
      "language": "python",
      "name": "python3"
    },
    "language_info": {
      "codemirror_mode": {
        "name": "ipython",
        "version": 3
      },
      "file_extension": ".py",
      "mimetype": "text/x-python",
      "name": "python",
      "nbconvert_exporter": "python",
      "pygments_lexer": "ipython3",
      "version": "3.6.5"
    },
    "colab": {
      "name": "Mecab_janome.ipynb",
      "provenance": [],
      "collapsed_sections": [],
      "include_colab_link": true
    }
  },
  "cells": [
    {
      "cell_type": "markdown",
      "metadata": {
        "id": "view-in-github",
        "colab_type": "text"
      },
      "source": [
        "<a href=\"https://colab.research.google.com/github/mashyko/NLP_Mecab/blob/master/Mecab_janome.ipynb\" target=\"_parent\"><img src=\"https://colab.research.google.com/assets/colab-badge.svg\" alt=\"Open In Colab\"/></a>"
      ]
    },
    {
      "cell_type": "markdown",
      "metadata": {
        "id": "pOEIoxzq3zzh",
        "colab_type": "text"
      },
      "source": [
        "日本語文書の単語トークン化：語彙の辞書とBOW（Bag-Of-Words）のOne-hot 表現"
      ]
    },
    {
      "cell_type": "code",
      "metadata": {
        "id": "f1tKEDdG2d65",
        "colab_type": "code",
        "colab": {
          "base_uri": "https://localhost:8080/",
          "height": 122
        },
        "outputId": "7ab34cfb-8942-440d-9e56-dafaa0d4f935"
      },
      "source": [
        "!pip install mecab-python3"
      ],
      "execution_count": 1,
      "outputs": [
        {
          "output_type": "stream",
          "text": [
            "Collecting mecab-python3\n",
            "\u001b[?25l  Downloading https://files.pythonhosted.org/packages/bf/c5/acaa5eeb3f61a98cf31d8aacbbbf23f3e1c9eadfe6e2d508add82e7e9039/mecab_python3-0.996.3-cp36-cp36m-manylinux2010_x86_64.whl (17.1MB)\n",
            "\u001b[K     |████████████████████████████████| 17.1MB 1.2MB/s \n",
            "\u001b[?25hInstalling collected packages: mecab-python3\n",
            "Successfully installed mecab-python3-0.996.3\n"
          ],
          "name": "stdout"
        }
      ]
    },
    {
      "cell_type": "code",
      "metadata": {
        "id": "qpzTqPij0Pzu",
        "colab_type": "code",
        "colab": {
          "base_uri": "https://localhost:8080/",
          "height": 68
        },
        "outputId": "cb784faa-efc2-47c9-c04d-66f6a35872e9"
      },
      "source": [
        "import MeCab\n",
        "sentence = '私はワインを飲みますが、彼女はワインを飲みません。'\n",
        "\n",
        "#分かち書き\n",
        "tagger = MeCab.Tagger(\"-Owakati\")\n",
        "\n",
        "text = tagger.parse(sentence)\n",
        "print('text = ',text)\n",
        "\n",
        "text = text.replace('。','\\n')\n",
        "text = text.replace('、','\\n') \n",
        "\n",
        "words =text.split(' ')\n",
        "print (words)\n",
        "\n"
      ],
      "execution_count": 2,
      "outputs": [
        {
          "output_type": "stream",
          "text": [
            "text =  私 は ワイン を 飲み ます が 、 彼女 は ワイン を 飲み ませ ん 。 \n",
            "\n",
            "['私', 'は', 'ワイン', 'を', '飲み', 'ます', 'が', '\\n', '彼女', 'は', 'ワイン', 'を', '飲み', 'ませ', 'ん', '\\n', '\\n']\n"
          ],
          "name": "stdout"
        }
      ]
    },
    {
      "cell_type": "code",
      "metadata": {
        "scrolled": true,
        "id": "iRmKGdsD0Pzw",
        "colab_type": "code",
        "colab": {
          "base_uri": "https://localhost:8080/",
          "height": 119
        },
        "outputId": "c65c4856-4208-49ac-a8d5-5825c7dfc06e"
      },
      "source": [
        "import numpy as np\n",
        "\n",
        "word_to_id = {}\n",
        "id_to_word = {}\n",
        "for word in words:\n",
        "    if word not in word_to_id:\n",
        "        new_id = len(word_to_id)\n",
        "        word_to_id[word] = new_id\n",
        "        id_to_word[new_id] = word\n",
        "\n",
        "corpus = np.array([word_to_id[w] for w in words])\n",
        "\n",
        "print ('id_to_word \\n', id_to_word)\n",
        "print ('word_to_id \\n', word_to_id)\n",
        "print ('corpus \\n',corpus)"
      ],
      "execution_count": 3,
      "outputs": [
        {
          "output_type": "stream",
          "text": [
            "id_to_word \n",
            " {0: '私', 1: 'は', 2: 'ワイン', 3: 'を', 4: '飲み', 5: 'ます', 6: 'が', 7: '\\n', 8: '彼女', 9: 'ませ', 10: 'ん'}\n",
            "word_to_id \n",
            " {'私': 0, 'は': 1, 'ワイン': 2, 'を': 3, '飲み': 4, 'ます': 5, 'が': 6, '\\n': 7, '彼女': 8, 'ませ': 9, 'ん': 10}\n",
            "corpus \n",
            " [ 0  1  2  3  4  5  6  7  8  1  2  3  4  9 10  7  7]\n"
          ],
          "name": "stdout"
        }
      ]
    },
    {
      "cell_type": "code",
      "metadata": {
        "id": "O6mxcThq0Pzy",
        "colab_type": "code",
        "colab": {
          "base_uri": "https://localhost:8080/",
          "height": 527
        },
        "outputId": "5eb8bc06-1bc2-444d-e290-9e4449f76b92"
      },
      "source": [
        "vocab_size = len(word_to_id)\n",
        "N = corpus.shape[0]\n",
        "\n",
        "one_hot = np.zeros((N, vocab_size), dtype=np.int32)\n",
        "for idx, word_id in enumerate(corpus):\n",
        "    one_hot[idx, word_id] = 1\n",
        "\n",
        "\n",
        "print ('one-hot 表現 \\n',one_hot)\n",
        "\n",
        "\n",
        "def create_co_matrix(corpus, vocab_size, window_size=1):\n",
        "    '''共起行列の作成\n",
        "\n",
        "    :param corpus: コーパス（単語IDのリスト）\n",
        "    :param vocab_size:語彙数\n",
        "    :param window_size:ウィンドウサイズ（ウィンドウサイズが1のときは、単語の左右1単語がコンテキスト）\n",
        "    :return: 共起行列\n",
        "    '''\n",
        "    corpus_size = len(corpus)\n",
        "    co_matrix = np.zeros((vocab_size, vocab_size), dtype=np.int32)\n",
        "\n",
        "    for idx, word_id in enumerate(corpus):\n",
        "        for i in range(1, window_size + 1):\n",
        "            left_idx = idx - i\n",
        "            right_idx = idx + i\n",
        "\n",
        "            if left_idx >= 0:\n",
        "                left_word_id = corpus[left_idx]\n",
        "                co_matrix[word_id, left_word_id] += 1\n",
        "\n",
        "            if right_idx < corpus_size:\n",
        "                right_word_id = corpus[right_idx]\n",
        "                co_matrix[word_id, right_word_id] += 1\n",
        "\n",
        "    return co_matrix\n",
        "\n",
        "matrix = create_co_matrix(corpus, vocab_size, window_size=1)\n",
        "print ('co-matrix = \\n',matrix)"
      ],
      "execution_count": 4,
      "outputs": [
        {
          "output_type": "stream",
          "text": [
            "one-hot 表現 \n",
            " [[1 0 0 0 0 0 0 0 0 0 0]\n",
            " [0 1 0 0 0 0 0 0 0 0 0]\n",
            " [0 0 1 0 0 0 0 0 0 0 0]\n",
            " [0 0 0 1 0 0 0 0 0 0 0]\n",
            " [0 0 0 0 1 0 0 0 0 0 0]\n",
            " [0 0 0 0 0 1 0 0 0 0 0]\n",
            " [0 0 0 0 0 0 1 0 0 0 0]\n",
            " [0 0 0 0 0 0 0 1 0 0 0]\n",
            " [0 0 0 0 0 0 0 0 1 0 0]\n",
            " [0 1 0 0 0 0 0 0 0 0 0]\n",
            " [0 0 1 0 0 0 0 0 0 0 0]\n",
            " [0 0 0 1 0 0 0 0 0 0 0]\n",
            " [0 0 0 0 1 0 0 0 0 0 0]\n",
            " [0 0 0 0 0 0 0 0 0 1 0]\n",
            " [0 0 0 0 0 0 0 0 0 0 1]\n",
            " [0 0 0 0 0 0 0 1 0 0 0]\n",
            " [0 0 0 0 0 0 0 1 0 0 0]]\n",
            "co-matrix = \n",
            " [[0 1 0 0 0 0 0 0 0 0 0]\n",
            " [1 0 2 0 0 0 0 0 1 0 0]\n",
            " [0 2 0 2 0 0 0 0 0 0 0]\n",
            " [0 0 2 0 2 0 0 0 0 0 0]\n",
            " [0 0 0 2 0 1 0 0 0 1 0]\n",
            " [0 0 0 0 1 0 1 0 0 0 0]\n",
            " [0 0 0 0 0 1 0 1 0 0 0]\n",
            " [0 0 0 0 0 0 1 2 1 0 1]\n",
            " [0 1 0 0 0 0 0 1 0 0 0]\n",
            " [0 0 0 0 1 0 0 0 0 0 1]\n",
            " [0 0 0 0 0 0 0 1 0 1 0]]\n"
          ],
          "name": "stdout"
        }
      ]
    },
    {
      "cell_type": "markdown",
      "metadata": {
        "id": "6AQbQ0Mn0Pzg",
        "colab_type": "text"
      },
      "source": [
        "Janomeによる形態素解析:\n",
        "頻出単語の検出\n"
      ]
    },
    {
      "cell_type": "code",
      "metadata": {
        "id": "5PvVwV9H1EXt",
        "colab_type": "code",
        "colab": {
          "base_uri": "https://localhost:8080/",
          "height": 122
        },
        "outputId": "af207347-702a-4e6d-faee-91533cf73f1f"
      },
      "source": [
        "!pip install janome"
      ],
      "execution_count": 5,
      "outputs": [
        {
          "output_type": "stream",
          "text": [
            "Collecting janome\n",
            "\u001b[?25l  Downloading https://files.pythonhosted.org/packages/79/f0/bd7f90806132d7d9d642d418bdc3e870cfdff5947254ea3cab27480983a7/Janome-0.3.10-py2.py3-none-any.whl (21.5MB)\n",
            "\u001b[K     |████████████████████████████████| 21.5MB 217kB/s \n",
            "\u001b[?25hInstalling collected packages: janome\n",
            "Successfully installed janome-0.3.10\n"
          ],
          "name": "stdout"
        }
      ]
    },
    {
      "cell_type": "code",
      "metadata": {
        "id": "LBfDx0dl7_EA",
        "colab_type": "code",
        "outputId": "d73ab238-34a7-49dd-a08b-8a6794de0dbe",
        "colab": {
          "base_uri": "https://localhost:8080/",
          "height": 122
        }
      },
      "source": [
        "from google.colab import drive\n",
        "drive.mount('/content/drive')"
      ],
      "execution_count": 6,
      "outputs": [
        {
          "output_type": "stream",
          "text": [
            "Go to this URL in a browser: https://accounts.google.com/o/oauth2/auth?client_id=947318989803-6bn6qk8qdgf4n4g3pfee6491hc0brc4i.apps.googleusercontent.com&redirect_uri=urn%3aietf%3awg%3aoauth%3a2.0%3aoob&response_type=code&scope=email%20https%3a%2f%2fwww.googleapis.com%2fauth%2fdocs.test%20https%3a%2f%2fwww.googleapis.com%2fauth%2fdrive%20https%3a%2f%2fwww.googleapis.com%2fauth%2fdrive.photos.readonly%20https%3a%2f%2fwww.googleapis.com%2fauth%2fpeopleapi.readonly\n",
            "\n",
            "Enter your authorization code:\n",
            "··········\n",
            "Mounted at /content/drive\n"
          ],
          "name": "stdout"
        }
      ]
    },
    {
      "cell_type": "code",
      "metadata": {
        "id": "UP3v7Zv20Pzj",
        "colab_type": "code",
        "colab": {
          "base_uri": "https://localhost:8080/",
          "height": 54
        },
        "outputId": "7456ddf3-f507-488f-92e0-44221da6ae45"
      },
      "source": [
        "from janome.tokenizer import Tokenizer\n",
        "\n",
        "blog = open(\"/content/drive/My Drive/NLP/corpora/blog.txt\", \"r\")\n",
        "txt = blog.read()\n",
        "\n",
        "t = Tokenizer()\n",
        "\n",
        "word_dic = {}\n",
        "lines = txt.split(\"\\r\\n\")\n",
        "for line in lines:\n",
        "    blog_txt = t.tokenize(line)\n",
        "    for w in blog_txt:\n",
        "        word = w.surface\n",
        "        ps = w.part_of_speech\n",
        "        if ps.find('名詞') < 0: continue\n",
        "        if not word in word_dic:\n",
        "            word_dic[word] = 0\n",
        "        word_dic[word] += 1\n",
        "\n",
        "keys = sorted(word_dic.items(), key=lambda x:x[1], reverse=True)\n",
        "for word,cnt in keys[:50]:\n",
        "    print(\"{0}({1}) \".format(word,cnt), end=\"\")\n",
        "\n"
      ],
      "execution_count": 7,
      "outputs": [
        {
          "output_type": "stream",
          "text": [
            "AI(29) こと(20) セミナー(16) よう(13) 理解(13) 参加(10) の(10) 的(8) 説明(7) 大変(6) 仕組み(6) 内容(6) イメージ(5) 自分(5) プログラミング(5) 知識(5) 作成(5) サービス(4) 非常(4) 今回(4) もの(4) 人工(4) 知能(4) 学習(4) 技術(3) ため(3) 満足(3) 今後(3) 活用(3) 提供(3) 丁寧(3) 入門(3) 操作(3) 具体(3) 機械(3) 簡単(3) 体験(3) お話(2) 午後(2) 数学(2) これ(2) 私(2) 興味(2) 開発(2) 講師(2) ご(2) 講義(2) 事(2) 性(2) 感謝(2) "
          ],
          "name": "stdout"
        }
      ]
    },
    {
      "cell_type": "code",
      "metadata": {
        "id": "NXjRmOnN0Pzo",
        "colab_type": "code",
        "colab": {
          "base_uri": "https://localhost:8080/",
          "height": 54
        },
        "outputId": "718ea365-b15c-4c5b-9324-f39474a1b7d6"
      },
      "source": [
        "from janome.tokenizer import Tokenizer\n",
        "\n",
        "blog = open(\"/content/drive/My Drive/NLP/corpora/kokoro.txt\", \"r\")\n",
        "txt = blog.read()\n",
        "\n",
        "t = Tokenizer()\n",
        "\n",
        "word_dic = {}\n",
        "lines = txt.split(\"\\r\\n\")\n",
        "for line in lines:\n",
        "    blog_txt = t.tokenize(line)\n",
        "    for w in blog_txt:\n",
        "        word = w.surface\n",
        "        ps = w.part_of_speech\n",
        "        if ps.find('名詞') < 0: continue\n",
        "        if not word in word_dic:\n",
        "            word_dic[word] = 0\n",
        "        word_dic[word] += 1\n",
        "\n",
        "keys = sorted(word_dic.items(), key=lambda x:x[1], reverse=True)\n",
        "for word,cnt in keys[:50]:\n",
        "    print(\"{0}({1}) \".format(word,cnt), end=\"\")\n",
        "\n"
      ],
      "execution_count": 8,
      "outputs": [
        {
          "output_type": "stream",
          "text": [
            "私(2697) の(1483) 先生(597) 事(576) よう(523) それ(408) もの(393) 人(389) 奥さん(388) 時(379) 彼(314) 父(272) 自分(264) 二(263) 中(257) 何(251) 一(246) ん(241) うち(238) い(234) 十(201) 方(200) あなた(187) 母(171) 前(168) お嬢さん(166) 上(154) 気(150) 今(150) 顔(135) め(133) 言葉(128) ため(126) 三(123) 日(123) 眼(123) 字(122) そこ(120) 心(116) ［＃(113) ［＃「(112) 下げ(111) 見出し(111) ５(109) 妻(108) 口(107) 通り(105) お(105) 家(96) 間(93) "
          ],
          "name": "stdout"
        }
      ]
    },
    {
      "cell_type": "code",
      "metadata": {
        "id": "bCV4kebE0Pzr",
        "colab_type": "code",
        "colab": {
          "base_uri": "https://localhost:8080/",
          "height": 54
        },
        "outputId": "0dedc67f-42ce-4b62-bdd2-b00d382e6771"
      },
      "source": [
        "from janome.tokenizer import Tokenizer\n",
        "\n",
        "blog = open(\"/content/drive/My Drive/NLP/livedoor-news-data/topic-news.txt\", \"r\")\n",
        "txt = blog.read()\n",
        "\n",
        "t = Tokenizer()\n",
        "\n",
        "word_dic = {}\n",
        "lines = txt.split(\"\\r\\n\")\n",
        "for line in lines:\n",
        "    blog_txt = t.tokenize(line)\n",
        "    for w in blog_txt:\n",
        "        word = w.surface\n",
        "        ps = w.part_of_speech\n",
        "        if ps.find('名詞') < 0: continue\n",
        "        if not word in word_dic:\n",
        "            word_dic[word] = 0\n",
        "        word_dic[word] += 1\n",
        "\n",
        "keys = sorted(word_dic.items(), key=lambda x:x[1], reverse=True)\n",
        "for word,cnt in keys[:50]:\n",
        "    print(\"{0}({1}) \".format(word,cnt), end=\"\")\n",
        "\n"
      ],
      "execution_count": 10,
      "outputs": [
        {
          "output_type": "stream",
          "text": [
            "/(3711) .(2061) -(1848) ネット(1595) :(1578) の(1450) こと(1322) 日(1229) livedoor(1143) 関連(1124) 韓国(1069) 掲示板(1055) 記事(1050) ://(946) http(927) com(908) 人(894) news(874) detail(861) 声(845) 00(833) article(832) +(774) T(771) 0900(770) 日本(739) 情報(729) ん(603) 2012(600) 者(598) 氏(598) 批判(579) 話題(572) )(526) 番組(524) ユーザー(514) よう(510) AKB(455) 放送(451) ((440) 2(436) 月(435) 的(435) 年(434) これ(426) 発言(417) ニュース(417) 上(381) 12(379) 10(355) "
          ],
          "name": "stdout"
        }
      ]
    },
    {
      "cell_type": "code",
      "metadata": {
        "id": "s43avOBl0Pz2",
        "colab_type": "code",
        "colab": {}
      },
      "source": [
        ""
      ],
      "execution_count": 0,
      "outputs": []
    }
  ]
}