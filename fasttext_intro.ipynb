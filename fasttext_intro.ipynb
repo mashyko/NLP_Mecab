{
  "nbformat": 4,
  "nbformat_minor": 0,
  "metadata": {
    "colab": {
      "name": "fasttext_intro.ipynb",
      "provenance": [],
      "collapsed_sections": [],
      "include_colab_link": true
    },
    "kernelspec": {
      "name": "python3",
      "display_name": "Python 3"
    },
    "accelerator": "GPU"
  },
  "cells": [
    {
      "cell_type": "markdown",
      "metadata": {
        "id": "view-in-github",
        "colab_type": "text"
      },
      "source": [
        "<a href=\"https://colab.research.google.com/github/mashyko/NLP_Mecab/blob/master/fasttext_intro.ipynb\" target=\"_parent\"><img src=\"https://colab.research.google.com/assets/colab-badge.svg\" alt=\"Open In Colab\"/></a>"
      ]
    },
    {
      "cell_type": "markdown",
      "metadata": {
        "id": "9ipnW8MNXLhM",
        "colab_type": "text"
      },
      "source": [
        "Text classification: Fasttextを用いたテキスト分類"
      ]
    },
    {
      "cell_type": "markdown",
      "metadata": {
        "id": "-2gu__8ngKcM",
        "colab_type": "text"
      },
      "source": [
        "# Fasttextのインストール\n",
        "\n",
        "コマンド　./fasttext は機能しないので、使用しません。\n"
      ]
    },
    {
      "cell_type": "code",
      "metadata": {
        "id": "__a4ABQaoyTW",
        "colab_type": "code",
        "outputId": "2241b439-6dcc-4f2a-d517-6f32c26a2475",
        "colab": {
          "base_uri": "https://localhost:8080/",
          "height": 119
        }
      },
      "source": [
        "!git clone https://github.com/facebookresearch/fastText.git\n",
        "!cd fastText\n",
        "!make\n",
        "# for python bindings :\n",
        "!pip install fasttext"
      ],
      "execution_count": 2,
      "outputs": [
        {
          "output_type": "stream",
          "text": [
            "fatal: destination path 'fastText' already exists and is not an empty directory.\n",
            "make: *** No targets specified and no makefile found.  Stop.\n",
            "Requirement already satisfied: fasttext in /usr/local/lib/python3.6/dist-packages (0.9.1)\n",
            "Requirement already satisfied: setuptools>=0.7.0 in /usr/local/lib/python3.6/dist-packages (from fasttext) (42.0.2)\n",
            "Requirement already satisfied: numpy in /usr/local/lib/python3.6/dist-packages (from fasttext) (1.17.4)\n",
            "Requirement already satisfied: pybind11>=2.2 in /usr/local/lib/python3.6/dist-packages (from fasttext) (2.4.3)\n"
          ],
          "name": "stdout"
        }
      ]
    },
    {
      "cell_type": "code",
      "metadata": {
        "id": "As22gTeqc7yF",
        "colab_type": "code",
        "outputId": "9de85e46-037e-4a47-9fb6-00208f2e8415",
        "colab": {
          "base_uri": "https://localhost:8080/",
          "height": 1000
        }
      },
      "source": [
        "import fasttext\n",
        "help(fasttext.FastText)"
      ],
      "execution_count": 3,
      "outputs": [
        {
          "output_type": "stream",
          "text": [
            "Help on module fasttext.FastText in fasttext:\n",
            "\n",
            "NAME\n",
            "    fasttext.FastText\n",
            "\n",
            "DESCRIPTION\n",
            "    # Copyright (c) 2017-present, Facebook, Inc.\n",
            "    # All rights reserved.\n",
            "    #\n",
            "    # This source code is licensed under the MIT license found in the\n",
            "    # LICENSE file in the root directory of this source tree.\n",
            "\n",
            "FUNCTIONS\n",
            "    cbow(*kargs, **kwargs)\n",
            "    \n",
            "    eprint(cls, *args, **kwargs)\n",
            "    \n",
            "    load_model(path)\n",
            "        Load a model given a filepath and return a model object.\n",
            "    \n",
            "    read_args(arg_list, arg_dict, arg_names, default_values)\n",
            "    \n",
            "    skipgram(*kargs, **kwargs)\n",
            "    \n",
            "    supervised(*kargs, **kwargs)\n",
            "    \n",
            "    tokenize(text)\n",
            "        Given a string of text, tokenize it and return a list of tokens\n",
            "    \n",
            "    train_supervised(*kargs, **kwargs)\n",
            "        Train a supervised model and return a model object.\n",
            "        \n",
            "        input must be a filepath. The input text does not need to be tokenized\n",
            "        as per the tokenize function, but it must be preprocessed and encoded\n",
            "        as UTF-8. You might want to consult standard preprocessing scripts such\n",
            "        as tokenizer.perl mentioned here: http://www.statmt.org/wmt07/baseline.html\n",
            "        \n",
            "        The input file must must contain at least one label per line. For an\n",
            "        example consult the example datasets which are part of the fastText\n",
            "        repository such as the dataset pulled by classification-example.sh.\n",
            "    \n",
            "    train_unsupervised(*kargs, **kwargs)\n",
            "        Train an unsupervised model and return a model object.\n",
            "        \n",
            "        input must be a filepath. The input text does not need to be tokenized\n",
            "        as per the tokenize function, but it must be preprocessed and encoded\n",
            "        as UTF-8. You might want to consult standard preprocessing scripts such\n",
            "        as tokenizer.perl mentioned here: http://www.statmt.org/wmt07/baseline.html\n",
            "        \n",
            "        The input field must not contain any labels or use the specified label prefix\n",
            "        unless it is ok for those words to be ignored. For an example consult the\n",
            "        dataset pulled by the example script word-vector-example.sh, which is\n",
            "        part of the fastText repository.\n",
            "\n",
            "DATA\n",
            "    BOW = '<'\n",
            "    EOS = '</s>'\n",
            "    EOW = '>'\n",
            "    absolute_import = _Feature((2, 5, 0, 'alpha', 1), (3, 0, 0, 'alpha', 0...\n",
            "    division = _Feature((2, 2, 0, 'alpha', 2), (3, 0, 0, 'alpha', 0), 8192...\n",
            "    print_function = _Feature((2, 6, 0, 'alpha', 2), (3, 0, 0, 'alpha', 0)...\n",
            "    unicode_literals = _Feature((2, 6, 0, 'alpha', 2), (3, 0, 0, 'alpha', ...\n",
            "    unsupervised_default = {'bucket': 2000000, 'dim': 100, 'epoch': 5, 'la...\n",
            "\n",
            "FILE\n",
            "    /usr/local/lib/python3.6/dist-packages/fasttext/FastText.py\n",
            "\n",
            "\n"
          ],
          "name": "stdout"
        }
      ]
    },
    {
      "cell_type": "markdown",
      "metadata": {
        "id": "PrJ-3GoDgya6",
        "colab_type": "text"
      },
      "source": [
        "Fasttextのチュートリアルに従って、cooking.stackexchangeのデータを読み込む（英文です\n",
        "）\n",
        "日本語と異なり、英文は分析がシンプルです。\n"
      ]
    },
    {
      "cell_type": "code",
      "metadata": {
        "id": "cLsl1MDNkh5q",
        "colab_type": "code",
        "outputId": "87917894-f515-41dd-d8af-c65afda6da49",
        "colab": {
          "base_uri": "https://localhost:8080/",
          "height": 425
        }
      },
      "source": [
        "!wget https://dl.fbaipublicfiles.com/fasttext/data/cooking.stackexchange.tar.gz && tar xvzf cooking.stackexchange.tar.gz\n",
        "!head cooking.stackexchange.txt"
      ],
      "execution_count": 4,
      "outputs": [
        {
          "output_type": "stream",
          "text": [
            "--2020-01-03 01:38:02--  https://dl.fbaipublicfiles.com/fasttext/data/cooking.stackexchange.tar.gz\n",
            "Resolving dl.fbaipublicfiles.com (dl.fbaipublicfiles.com)... 104.20.6.166, 104.20.22.166, 2606:4700:10::6814:6a6, ...\n",
            "Connecting to dl.fbaipublicfiles.com (dl.fbaipublicfiles.com)|104.20.6.166|:443... connected.\n",
            "HTTP request sent, awaiting response... 200 OK\n",
            "Length: 457609 (447K) [application/x-tar]\n",
            "Saving to: ‘cooking.stackexchange.tar.gz’\n",
            "\n",
            "cooking.stackexchan 100%[===================>] 446.88K   675KB/s    in 0.7s    \n",
            "\n",
            "2020-01-03 01:38:04 (675 KB/s) - ‘cooking.stackexchange.tar.gz’ saved [457609/457609]\n",
            "\n",
            "cooking.stackexchange.id\n",
            "cooking.stackexchange.txt\n",
            "readme.txt\n",
            "__label__sauce __label__cheese How much does potato starch affect a cheese sauce recipe?\n",
            "__label__food-safety __label__acidity Dangerous pathogens capable of growing in acidic environments\n",
            "__label__cast-iron __label__stove How do I cover up the white spots on my cast iron stove?\n",
            "__label__restaurant Michelin Three Star Restaurant; but if the chef is not there\n",
            "__label__knife-skills __label__dicing Without knife skills, how can I quickly and accurately dice vegetables?\n",
            "__label__storage-method __label__equipment __label__bread What's the purpose of a bread box?\n",
            "__label__baking __label__food-safety __label__substitutions __label__peanuts how to seperate peanut oil from roasted peanuts at home?\n",
            "__label__chocolate American equivalent for British chocolate terms\n",
            "__label__baking __label__oven __label__convection Fan bake vs bake\n",
            "__label__sauce __label__storage-lifetime __label__acidity __label__mayonnaise Regulation and balancing of readymade packed mayonnaise and other sauces\n"
          ],
          "name": "stdout"
        }
      ]
    },
    {
      "cell_type": "code",
      "metadata": {
        "id": "c1P7vCDbknQD",
        "colab_type": "code",
        "outputId": "a4444154-6b2d-42b7-8746-2a31c5889657",
        "colab": {
          "base_uri": "https://localhost:8080/",
          "height": 34
        }
      },
      "source": [
        "!wc cooking.stackexchange.txt"
      ],
      "execution_count": 5,
      "outputs": [
        {
          "output_type": "stream",
          "text": [
            "  15404  169582 1401900 cooking.stackexchange.txt\n"
          ],
          "name": "stdout"
        }
      ]
    },
    {
      "cell_type": "markdown",
      "metadata": {
        "id": "7iYHHL6zlGxi",
        "colab_type": "text"
      },
      "source": [
        "datasetは 15404 examplesから構成されます。 これを12404 examplesのtraining setと 3000 examplesのvalidation setに分割します。\n"
      ]
    },
    {
      "cell_type": "code",
      "metadata": {
        "id": "zNsjowitlElq",
        "colab_type": "code",
        "colab": {}
      },
      "source": [
        "!head -n 12404 cooking.stackexchange.txt > cooking.train\n",
        "!tail -n 3000 cooking.stackexchange.txt > cooking.valid"
      ],
      "execution_count": 0,
      "outputs": []
    },
    {
      "cell_type": "markdown",
      "metadata": {
        "id": "u_Ez624imt-W",
        "colab_type": "text"
      },
      "source": [
        "単純なclassifierを作成：label付きなので、train_supervised を使用します。labelがないときは、train_unsupervisedを使います。"
      ]
    },
    {
      "cell_type": "code",
      "metadata": {
        "id": "JDHFJsGPligs",
        "colab_type": "code",
        "colab": {}
      },
      "source": [
        "model = fasttext.train_supervised(input=\"cooking.train\")"
      ],
      "execution_count": 0,
      "outputs": []
    },
    {
      "cell_type": "code",
      "metadata": {
        "id": "spAD77cXnC6e",
        "colab_type": "code",
        "colab": {}
      },
      "source": [
        "model.save_model(\"model_cooking.bin\")"
      ],
      "execution_count": 0,
      "outputs": []
    },
    {
      "cell_type": "markdown",
      "metadata": {
        "id": "2De4jnemhpKG",
        "colab_type": "text"
      },
      "source": [
        "モデルを検証します\n"
      ]
    },
    {
      "cell_type": "code",
      "metadata": {
        "id": "7WFz7xnllpGY",
        "colab_type": "code",
        "outputId": "0096501f-65d1-4e95-b184-61ae0a967607",
        "colab": {
          "base_uri": "https://localhost:8080/",
          "height": 34
        }
      },
      "source": [
        "model.predict(\"Which baking dish is best to bake a banana bread ?\")"
      ],
      "execution_count": 9,
      "outputs": [
        {
          "output_type": "execute_result",
          "data": {
            "text/plain": [
              "(('__label__baking',), array([0.0723336]))"
            ]
          },
          "metadata": {
            "tags": []
          },
          "execution_count": 9
        }
      ]
    },
    {
      "cell_type": "code",
      "metadata": {
        "id": "ML_alfqJl-h0",
        "colab_type": "code",
        "outputId": "c87b06fb-1d32-442a-b948-95174c15721b",
        "colab": {
          "base_uri": "https://localhost:8080/",
          "height": 119
        }
      },
      "source": [
        "model.predict(\"Why not put knives in the dishwasher?\", k=5)"
      ],
      "execution_count": 10,
      "outputs": [
        {
          "output_type": "execute_result",
          "data": {
            "text/plain": [
              "(('__label__food-safety',\n",
              "  '__label__baking',\n",
              "  '__label__bread',\n",
              "  '__label__substitutions',\n",
              "  '__label__equipment'),\n",
              " array([0.07458788, 0.0736473 , 0.0439545 , 0.03730712, 0.03408002]))"
            ]
          },
          "metadata": {
            "tags": []
          },
          "execution_count": 10
        }
      ]
    },
    {
      "cell_type": "code",
      "metadata": {
        "id": "iGoafFD1ng5e",
        "colab_type": "code",
        "outputId": "a7eb9ff7-2dec-4f13-97c6-951087e3c900",
        "colab": {
          "base_uri": "https://localhost:8080/",
          "height": 34
        }
      },
      "source": [
        "model.test(\"cooking.valid\")"
      ],
      "execution_count": 11,
      "outputs": [
        {
          "output_type": "execute_result",
          "data": {
            "text/plain": [
              "(3000, 0.13533333333333333, 0.05852674066599395)"
            ]
          },
          "metadata": {
            "tags": []
          },
          "execution_count": 11
        }
      ]
    },
    {
      "cell_type": "markdown",
      "metadata": {
        "id": "lhqzZarHhtSU",
        "colab_type": "text"
      },
      "source": [
        "少し複雑なclassifierを作成"
      ]
    },
    {
      "cell_type": "code",
      "metadata": {
        "id": "mNWlb1d4pU4M",
        "colab_type": "code",
        "outputId": "c03e05ba-9252-4249-c5de-47b5d39049b0",
        "colab": {
          "base_uri": "https://localhost:8080/",
          "height": 51
        }
      },
      "source": [
        "model = fasttext.train_supervised(input=\"cooking.train\", lr=0.5, epoch=25, wordNgrams=2, bucket=200000, dim=50, loss='ova')\n",
        "model.predict(\"Which baking dish is best to bake a banana bread ?\", k=-1, threshold=0.5)"
      ],
      "execution_count": 12,
      "outputs": [
        {
          "output_type": "execute_result",
          "data": {
            "text/plain": [
              "(('__label__baking', '__label__bananas', '__label__bread'),\n",
              " array([1.00001001, 0.9603712 , 0.64423513]))"
            ]
          },
          "metadata": {
            "tags": []
          },
          "execution_count": 12
        }
      ]
    },
    {
      "cell_type": "markdown",
      "metadata": {
        "id": "NuC-hPCLXZrl",
        "colab_type": "text"
      },
      "source": [
        "Word representations"
      ]
    },
    {
      "cell_type": "markdown",
      "metadata": {
        "id": "cgq0sdjpSrPd",
        "colab_type": "text"
      },
      "source": [
        "English Wikipediaの一部を使用します。データをMatt Mahoney's websiteからダウンロードします。"
      ]
    },
    {
      "cell_type": "code",
      "metadata": {
        "id": "rs22qZmhSZuB",
        "colab_type": "code",
        "outputId": "ed427488-2af8-436f-cca1-2f1bd2e7bad4",
        "colab": {
          "base_uri": "https://localhost:8080/",
          "height": 187
        }
      },
      "source": [
        "!cd fastText/\n",
        "!mkdir data\n",
        "!wget -c http://mattmahoney.net/dc/enwik9.zip -P data\n",
        "!unzip data/enwik9.zip -d data"
      ],
      "execution_count": 22,
      "outputs": [
        {
          "output_type": "stream",
          "text": [
            "mkdir: cannot create directory ‘data’: File exists\n",
            "--2020-01-03 01:57:09--  http://mattmahoney.net/dc/enwik9.zip\n",
            "Resolving mattmahoney.net (mattmahoney.net)... 67.195.197.75\n",
            "Connecting to mattmahoney.net (mattmahoney.net)|67.195.197.75|:80... connected.\n",
            "HTTP request sent, awaiting response... 416 Requested Range Not Satisfiable\n",
            "\n",
            "    The file is already fully retrieved; nothing to do.\n",
            "\n",
            "Archive:  data/enwik9.zip\n",
            "  inflating: data/enwik9             \n"
          ],
          "name": "stdout"
        }
      ]
    },
    {
      "cell_type": "code",
      "metadata": {
        "id": "rpeVVXYVS7Fb",
        "colab_type": "code",
        "outputId": "85e17df0-0ac2-450f-85f3-15e4415e152e",
        "colab": {
          "base_uri": "https://localhost:8080/",
          "height": 85
        }
      },
      "source": [
        "!perl fastText/wikifil.pl data/enwik9 > data/fil9\n",
        "!ls\n",
        "!head -c 80 data/fil9"
      ],
      "execution_count": 23,
      "outputs": [
        {
          "output_type": "stream",
          "text": [
            "cooking.stackexchange.id      cooking.train  fastText\t\tresult\n",
            "cooking.stackexchange.tar.gz  cooking.valid  model_cooking.bin\tsample_data\n",
            "cooking.stackexchange.txt     data\t     readme.txt\n",
            " anarchism originated as a term of abuse first used against early working class "
          ],
          "name": "stdout"
        }
      ]
    },
    {
      "cell_type": "markdown",
      "metadata": {
        "id": "s7eDDkSE-UKm",
        "colab_type": "text"
      },
      "source": [
        "Python API の fasttext.train_unsupervised が正常に作動しないようです。理由はわかりません。Commandline を用いた方が無難です。\n"
      ]
    },
    {
      "cell_type": "markdown",
      "metadata": {
        "id": "GUyxskqVVrIa",
        "colab_type": "text"
      },
      "source": [
        "fastText の　makeコマンドが有効ではないので、以下の !./fasttext コマンドラインを用いた処理の多くはこのColabでは実行できません。ダウンロードして、各自のPCで利用ください。"
      ]
    },
    {
      "cell_type": "code",
      "metadata": {
        "id": "GstfInWqTPZa",
        "colab_type": "code",
        "colab": {
          "base_uri": "https://localhost:8080/",
          "height": 51
        },
        "outputId": "14a76076-e75a-42f3-ee82-b0893fbd955d"
      },
      "source": [
        "! mkdir result\n",
        "! ./fasttext skipgram -input data/fil9 -output result/fil9\n"
      ],
      "execution_count": 24,
      "outputs": [
        {
          "output_type": "stream",
          "text": [
            "mkdir: cannot create directory ‘result’: File exists\n",
            "/bin/bash: ./fasttext: No such file or directory\n"
          ],
          "name": "stdout"
        }
      ]
    },
    {
      "cell_type": "code",
      "metadata": {
        "id": "cpNg43XTTWYP",
        "colab_type": "code",
        "colab": {
          "base_uri": "https://localhost:8080/",
          "height": 34
        },
        "outputId": "956690f6-97a7-4f3b-8f2f-622b67dbfd4d"
      },
      "source": [
        "! ls -l result\n"
      ],
      "execution_count": 16,
      "outputs": [
        {
          "output_type": "stream",
          "text": [
            "total 0\n"
          ],
          "name": "stdout"
        }
      ]
    },
    {
      "cell_type": "code",
      "metadata": {
        "id": "DXyl-pREU_5I",
        "colab_type": "code",
        "colab": {
          "base_uri": "https://localhost:8080/",
          "height": 34
        },
        "outputId": "d13b562e-1c5c-4507-dfef-b49a42ab7854"
      },
      "source": [
        "! head -n 4 result/fil9.vec\n"
      ],
      "execution_count": 17,
      "outputs": [
        {
          "output_type": "stream",
          "text": [
            "head: cannot open 'result/fil9.vec' for reading: No such file or directory\n"
          ],
          "name": "stdout"
        }
      ]
    },
    {
      "cell_type": "code",
      "metadata": {
        "id": "XfYoa7aJVvSr",
        "colab_type": "code",
        "colab": {
          "base_uri": "https://localhost:8080/",
          "height": 34
        },
        "outputId": "43abd9f3-93df-4e88-82f5-7a437e8912c8"
      },
      "source": [
        "! echo \"asparagus pidgey yellow\" | ./fasttext print-word-vectors result/fil9.bin\n"
      ],
      "execution_count": 18,
      "outputs": [
        {
          "output_type": "stream",
          "text": [
            "/bin/bash: ./fasttext: No such file or directory\n"
          ],
          "name": "stdout"
        }
      ]
    },
    {
      "cell_type": "code",
      "metadata": {
        "id": "jsKe1ZcoV-GY",
        "colab_type": "code",
        "colab": {
          "base_uri": "https://localhost:8080/",
          "height": 51
        },
        "outputId": "8bd1c3ab-971f-4e8a-c9c6-019870577f7d"
      },
      "source": [
        "!./fasttext nn result/fil9.bin\n",
        "\n",
        "Query word?"
      ],
      "execution_count": 19,
      "outputs": [
        {
          "output_type": "stream",
          "text": [
            "/bin/bash: ./fasttext: No such file or directory\n",
            "Object `word` not found.\n"
          ],
          "name": "stdout"
        }
      ]
    },
    {
      "cell_type": "markdown",
      "metadata": {
        "id": "DUf6sXnhWZg_",
        "colab_type": "text"
      },
      "source": [
        "Word analogies"
      ]
    },
    {
      "cell_type": "code",
      "metadata": {
        "id": "N5sPl5ZZ409E",
        "colab_type": "code",
        "colab": {
          "base_uri": "https://localhost:8080/",
          "height": 130
        },
        "outputId": "1b4e3e88-c658-4436-a6f8-909d094e103d"
      },
      "source": [
        "!./fasttext analogies result/fil9.bin\n",
        "\n",
        "Query triplet (A - B + C)? berlin germany france\n"
      ],
      "execution_count": 20,
      "outputs": [
        {
          "output_type": "error",
          "ename": "SyntaxError",
          "evalue": "ignored",
          "traceback": [
            "\u001b[0;36m  File \u001b[0;32m\"<ipython-input-20-2189e82d4113>\"\u001b[0;36m, line \u001b[0;32m3\u001b[0m\n\u001b[0;31m    Query triplet (A - B + C)? berlin germany france\u001b[0m\n\u001b[0m                ^\u001b[0m\n\u001b[0;31mSyntaxError\u001b[0m\u001b[0;31m:\u001b[0m invalid syntax\n"
          ]
        }
      ]
    },
    {
      "cell_type": "markdown",
      "metadata": {
        "id": "Leu6z2jPgDdD",
        "colab_type": "text"
      },
      "source": [
        "Mecabのインストール\n"
      ]
    },
    {
      "cell_type": "code",
      "metadata": {
        "id": "u76ewinykLfe",
        "colab_type": "code",
        "colab": {}
      },
      "source": [
        "!apt-get -q -y install sudo file mecab libmecab-dev mecab-ipadic-utf8 git curl python-mecab > /dev/null\n",
        "!git clone --depth 1 https://github.com/neologd/mecab-ipadic-neologd.git > /dev/null \n",
        "!echo yes | mecab-ipadic-neologd/bin/install-mecab-ipadic-neologd -n > /dev/null 2>&1\n",
        "!pip install mecab-python3 > /dev/null"
      ],
      "execution_count": 0,
      "outputs": []
    },
    {
      "cell_type": "markdown",
      "metadata": {
        "id": "W01Jgjmmcr4i",
        "colab_type": "text"
      },
      "source": [
        "日本語wikiの文書ファイルを使用する。\n",
        "\n",
        "単語の分散表現を学習させる際、Wikipedia 全体のサイズが必要ないときに使われるコーパスとして text8 があります。 text8 は、Wikipedia に対してクリーニング等の処理をした後、100MB分切り出して作成されています。 text8 は前処理済みで簡単に使えるので、チュートリアル等でよく利用されています。日本語バージョンのtext8コーパスをダウンロードします。"
      ]
    },
    {
      "cell_type": "code",
      "metadata": {
        "id": "Y5up89eJWHRQ",
        "colab_type": "code",
        "colab": {}
      },
      "source": [
        "!wget -c https://s3-ap-northeast-1.amazonaws.com/dev.tech-sketch.jp/chakki/public/ja.text8.zip -P data"
      ],
      "execution_count": 0,
      "outputs": []
    },
    {
      "cell_type": "code",
      "metadata": {
        "id": "1MwgBmJY_tuz",
        "colab_type": "code",
        "colab": {}
      },
      "source": [
        "!./fasttext skipgram -input data/ja.text8 -output result/ja.text8_model"
      ],
      "execution_count": 0,
      "outputs": []
    },
    {
      "cell_type": "code",
      "metadata": {
        "id": "ZLmLXQ6XAfGf",
        "colab_type": "code",
        "colab": {}
      },
      "source": [
        "! head -n 4 result/fil9.vec"
      ],
      "execution_count": 0,
      "outputs": []
    },
    {
      "cell_type": "code",
      "metadata": {
        "id": "nPmdFlwHAk6U",
        "colab_type": "code",
        "colab": {}
      },
      "source": [
        "!./fasttext nn ~/NLP/corpora/ja.text8_model.bin\n",
        "\n",
        "Query word? 利根川"
      ],
      "execution_count": 0,
      "outputs": []
    },
    {
      "cell_type": "markdown",
      "metadata": {
        "id": "hrI7PSVbAxEt",
        "colab_type": "text"
      },
      "source": [
        "元荒川 0.844393\n",
        "鳴瀬川 0.832339\n",
        "綾瀬川 0.830789\n",
        "常盤川 0.807554\n",
        "永野川 0.807308\n",
        "狩野川 0.807213\n",
        "用水路 0.80265\n",
        "吉野川 0.798709\n",
        "品井沼 0.795811\n",
        "大野川 0.792659\n"
      ]
    },
    {
      "cell_type": "markdown",
      "metadata": {
        "id": "34mloNVeA8-r",
        "colab_type": "text"
      },
      "source": [
        "以上"
      ]
    }
  ]
}