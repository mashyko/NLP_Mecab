{
  "nbformat": 4,
  "nbformat_minor": 0,
  "metadata": {
    "kernelspec": {
      "display_name": "Python 3",
      "language": "python",
      "name": "python3"
    },
    "language_info": {
      "codemirror_mode": {
        "name": "ipython",
        "version": 3
      },
      "file_extension": ".py",
      "mimetype": "text/x-python",
      "name": "python",
      "nbconvert_exporter": "python",
      "pygments_lexer": "ipython3",
      "version": "3.6.5"
    },
    "colab": {
      "name": "gensim_topic.ipynb",
      "provenance": [],
      "collapsed_sections": [],
      "include_colab_link": true
    }
  },
  "cells": [
    {
      "cell_type": "markdown",
      "metadata": {
        "id": "view-in-github",
        "colab_type": "text"
      },
      "source": [
        "<a href=\"https://colab.research.google.com/github/mashyko/NLP_Mecab/blob/master/gensim_topic.ipynb\" target=\"_parent\"><img src=\"https://colab.research.google.com/assets/colab-badge.svg\" alt=\"Open In Colab\"/></a>"
      ]
    },
    {
      "cell_type": "markdown",
      "metadata": {
        "id": "oIWTIC5mAeUD",
        "colab_type": "text"
      },
      "source": [
        "MeCabとGensimを用いた自然言語分析:類似度とトピック分析\n"
      ]
    },
    {
      "cell_type": "markdown",
      "metadata": {
        "id": "QdJvPpn_AY55",
        "colab_type": "text"
      },
      "source": [
        "gensimのインストール\n",
        "\n",
        "$ pip install gensim\n",
        "\n",
        "公式サイト：\n",
        "https://radimrehurek.com/gensim/tutorial.html\n",
        "\n",
        "\n",
        "コーパスとして「livedoorニュース」を以下からダウンロードする。\n",
        "https://www.rondhuit.com/download/livedoor-news-data.tar.gz\n",
        "サイズは64メガ"
      ]
    },
    {
      "cell_type": "code",
      "metadata": {
        "id": "Y_rIQ7qNBGWt",
        "colab_type": "code",
        "colab": {
          "base_uri": "https://localhost:8080/",
          "height": 343
        },
        "outputId": "cdbc5fb9-28cb-4ab0-cb8b-2dea70623e8b"
      },
      "source": [
        "\n",
        "!pip install mecab-python3\n",
        "!pip install gensim\n"
      ],
      "execution_count": 1,
      "outputs": [
        {
          "output_type": "stream",
          "text": [
            "Requirement already satisfied: mecab-python3 in /usr/local/lib/python3.6/dist-packages (0.996.3)\n",
            "Requirement already satisfied: gensim in /usr/local/lib/python3.6/dist-packages (3.6.0)\n",
            "Requirement already satisfied: scipy>=0.18.1 in /usr/local/lib/python3.6/dist-packages (from gensim) (1.3.3)\n",
            "Requirement already satisfied: smart-open>=1.2.1 in /usr/local/lib/python3.6/dist-packages (from gensim) (1.9.0)\n",
            "Requirement already satisfied: numpy>=1.11.3 in /usr/local/lib/python3.6/dist-packages (from gensim) (1.17.4)\n",
            "Requirement already satisfied: six>=1.5.0 in /usr/local/lib/python3.6/dist-packages (from gensim) (1.12.0)\n",
            "Requirement already satisfied: requests in /usr/local/lib/python3.6/dist-packages (from smart-open>=1.2.1->gensim) (2.21.0)\n",
            "Requirement already satisfied: boto>=2.32 in /usr/local/lib/python3.6/dist-packages (from smart-open>=1.2.1->gensim) (2.49.0)\n",
            "Requirement already satisfied: boto3 in /usr/local/lib/python3.6/dist-packages (from smart-open>=1.2.1->gensim) (1.10.40)\n",
            "Requirement already satisfied: chardet<3.1.0,>=3.0.2 in /usr/local/lib/python3.6/dist-packages (from requests->smart-open>=1.2.1->gensim) (3.0.4)\n",
            "Requirement already satisfied: urllib3<1.25,>=1.21.1 in /usr/local/lib/python3.6/dist-packages (from requests->smart-open>=1.2.1->gensim) (1.24.3)\n",
            "Requirement already satisfied: idna<2.9,>=2.5 in /usr/local/lib/python3.6/dist-packages (from requests->smart-open>=1.2.1->gensim) (2.8)\n",
            "Requirement already satisfied: certifi>=2017.4.17 in /usr/local/lib/python3.6/dist-packages (from requests->smart-open>=1.2.1->gensim) (2019.11.28)\n",
            "Requirement already satisfied: jmespath<1.0.0,>=0.7.1 in /usr/local/lib/python3.6/dist-packages (from boto3->smart-open>=1.2.1->gensim) (0.9.4)\n",
            "Requirement already satisfied: s3transfer<0.3.0,>=0.2.0 in /usr/local/lib/python3.6/dist-packages (from boto3->smart-open>=1.2.1->gensim) (0.2.1)\n",
            "Requirement already satisfied: botocore<1.14.0,>=1.13.40 in /usr/local/lib/python3.6/dist-packages (from boto3->smart-open>=1.2.1->gensim) (1.13.40)\n",
            "Requirement already satisfied: python-dateutil<2.8.1,>=2.1; python_version >= \"2.7\" in /usr/local/lib/python3.6/dist-packages (from botocore<1.14.0,>=1.13.40->boto3->smart-open>=1.2.1->gensim) (2.6.1)\n",
            "Requirement already satisfied: docutils<0.16,>=0.10 in /usr/local/lib/python3.6/dist-packages (from botocore<1.14.0,>=1.13.40->boto3->smart-open>=1.2.1->gensim) (0.15.2)\n"
          ],
          "name": "stdout"
        }
      ]
    },
    {
      "cell_type": "code",
      "metadata": {
        "id": "LBfDx0dl7_EA",
        "colab_type": "code",
        "outputId": "829dca9c-42ec-497a-89b0-cd76a704cfd0",
        "colab": {
          "base_uri": "https://localhost:8080/",
          "height": 34
        }
      },
      "source": [
        "from google.colab import drive\n",
        "drive.mount('/content/drive')"
      ],
      "execution_count": 2,
      "outputs": [
        {
          "output_type": "stream",
          "text": [
            "Drive already mounted at /content/drive; to attempt to forcibly remount, call drive.mount(\"/content/drive\", force_remount=True).\n"
          ],
          "name": "stdout"
        }
      ]
    },
    {
      "cell_type": "code",
      "metadata": {
        "id": "VREyckSQAY6N",
        "colab_type": "code",
        "colab": {}
      },
      "source": [
        "\n",
        "import MeCab\n",
        "\n",
        "#tagger = MeCab.Tagger('-F\\s%f[6] -d /usr/local/lib/mecab/dic/mecab-ipadic-neologd')\n",
        "tagger = MeCab.Tagger('-F\\s%f[6] -U\\s%m -E\\\\n')\n",
        "\n",
        "raw = open('/content/drive/My Drive/NLP/corpora/kokoro.txt', 'r')\n",
        "text = open('/content/drive/My Drive/NLP/corpora/kokoro_txt.txt', 'w')\n",
        "\n",
        "line = raw.readline()\n",
        "while line:\n",
        "    result = tagger.parse(line)\n",
        "    text.write(result[1:]) # skip first \\s\n",
        "    line = raw.readline()\n",
        "\n",
        "raw.close()\n",
        "text.close()"
      ],
      "execution_count": 0,
      "outputs": []
    },
    {
      "cell_type": "code",
      "metadata": {
        "id": "7r7_cFGjAY6P",
        "colab_type": "code",
        "outputId": "271235b9-534c-4682-d33b-3819656cfb0b",
        "colab": {
          "base_uri": "https://localhost:8080/",
          "height": 734
        }
      },
      "source": [
        "from gensim.models import word2vec\n",
        "import logging\n",
        "import sys\n",
        "\n",
        "logging.basicConfig(format='%(asctime)s : %(levelname)s : %(message)s', level=logging.INFO)\n",
        "\n",
        "sentences = word2vec.LineSentence('/content/drive/My Drive/NLP/corpora/kokoro_txt.txt')\n",
        "model = word2vec.Word2Vec(sentences,\n",
        "                          sg=1,\n",
        "                          size=100,\n",
        "                          min_count=1,\n",
        "                          window=10,\n",
        "                          hs=1,\n",
        "                          negative=0)\n",
        "model.save('/content/drive/My Drive/NLP/corpora/kokoro_txt.model')"
      ],
      "execution_count": 4,
      "outputs": [
        {
          "output_type": "stream",
          "text": [
            "2019-12-28 06:20:38,708 : INFO : collecting all words and their counts\n",
            "/usr/local/lib/python3.6/dist-packages/smart_open/smart_open_lib.py:402: UserWarning: This function is deprecated, use smart_open.open instead. See the migration notes for details: https://github.com/RaRe-Technologies/smart_open/blob/master/README.rst#migrating-to-the-new-open-function\n",
            "  'See the migration notes for details: %s' % _MIGRATION_NOTES_URL\n",
            "2019-12-28 06:20:38,713 : INFO : PROGRESS: at sentence #0, processed 0 words, keeping 0 word types\n",
            "2019-12-28 06:20:38,754 : INFO : collected 6636 word types from a corpus of 124410 raw words and 1346 sentences\n",
            "2019-12-28 06:20:38,755 : INFO : Loading a fresh vocabulary\n",
            "2019-12-28 06:20:38,833 : INFO : effective_min_count=1 retains 6636 unique words (100% of original 6636, drops 0)\n",
            "2019-12-28 06:20:38,835 : INFO : effective_min_count=1 leaves 124410 word corpus (100% of original 124410, drops 0)\n",
            "2019-12-28 06:20:38,861 : INFO : deleting the raw counts dictionary of 6636 items\n",
            "2019-12-28 06:20:38,863 : INFO : sample=0.001 downsamples 44 most-common words\n",
            "2019-12-28 06:20:38,867 : INFO : downsampling leaves estimated 71710 word corpus (57.6% of prior 124410)\n",
            "2019-12-28 06:20:38,878 : INFO : constructing a huffman tree from 6636 words\n",
            "2019-12-28 06:20:39,055 : INFO : built huffman tree with maximum node depth 17\n",
            "2019-12-28 06:20:39,060 : INFO : estimated required memory for 6636 words and 100 dimensions: 9954000 bytes\n",
            "2019-12-28 06:20:39,062 : INFO : resetting layer weights\n",
            "2019-12-28 06:20:40,632 : INFO : training model with 3 workers on 6636 vocabulary and 100 features, using sg=1 hs=1 sample=0.001 negative=0 window=10\n",
            "2019-12-28 06:20:41,232 : INFO : worker thread finished; awaiting finish of 2 more threads\n",
            "2019-12-28 06:20:41,274 : INFO : worker thread finished; awaiting finish of 1 more threads\n",
            "2019-12-28 06:20:41,282 : INFO : worker thread finished; awaiting finish of 0 more threads\n",
            "2019-12-28 06:20:41,283 : INFO : EPOCH - 1 : training on 124410 raw words (71815 effective words) took 0.6s, 111246 effective words/s\n",
            "2019-12-28 06:20:41,894 : INFO : worker thread finished; awaiting finish of 2 more threads\n",
            "2019-12-28 06:20:41,909 : INFO : worker thread finished; awaiting finish of 1 more threads\n",
            "2019-12-28 06:20:41,941 : INFO : worker thread finished; awaiting finish of 0 more threads\n",
            "2019-12-28 06:20:41,942 : INFO : EPOCH - 2 : training on 124410 raw words (71580 effective words) took 0.6s, 110337 effective words/s\n",
            "2019-12-28 06:20:42,539 : INFO : worker thread finished; awaiting finish of 2 more threads\n",
            "2019-12-28 06:20:42,542 : INFO : worker thread finished; awaiting finish of 1 more threads\n",
            "2019-12-28 06:20:42,580 : INFO : worker thread finished; awaiting finish of 0 more threads\n",
            "2019-12-28 06:20:42,581 : INFO : EPOCH - 3 : training on 124410 raw words (71657 effective words) took 0.6s, 113438 effective words/s\n",
            "2019-12-28 06:20:43,156 : INFO : worker thread finished; awaiting finish of 2 more threads\n",
            "2019-12-28 06:20:43,201 : INFO : worker thread finished; awaiting finish of 1 more threads\n",
            "2019-12-28 06:20:43,212 : INFO : worker thread finished; awaiting finish of 0 more threads\n",
            "2019-12-28 06:20:43,214 : INFO : EPOCH - 4 : training on 124410 raw words (71829 effective words) took 0.6s, 114379 effective words/s\n",
            "2019-12-28 06:20:43,827 : INFO : worker thread finished; awaiting finish of 2 more threads\n",
            "2019-12-28 06:20:43,844 : INFO : worker thread finished; awaiting finish of 1 more threads\n",
            "2019-12-28 06:20:43,870 : INFO : worker thread finished; awaiting finish of 0 more threads\n",
            "2019-12-28 06:20:43,871 : INFO : EPOCH - 5 : training on 124410 raw words (71715 effective words) took 0.7s, 110127 effective words/s\n",
            "2019-12-28 06:20:43,872 : INFO : training on a 622050 raw words (358596 effective words) took 3.2s, 110715 effective words/s\n",
            "2019-12-28 06:20:43,873 : INFO : saving Word2Vec object under /content/drive/My Drive/NLP/corpora/kokoro_txt.model, separately None\n",
            "2019-12-28 06:20:43,874 : INFO : not storing attribute vectors_norm\n",
            "2019-12-28 06:20:43,877 : INFO : not storing attribute cum_table\n",
            "2019-12-28 06:20:44,032 : INFO : saved /content/drive/My Drive/NLP/corpora/kokoro_txt.model\n"
          ],
          "name": "stderr"
        }
      ]
    },
    {
      "cell_type": "code",
      "metadata": {
        "id": "C1jjc6HKAY6R",
        "colab_type": "code",
        "colab": {
          "base_uri": "https://localhost:8080/",
          "height": 190
        },
        "outputId": "f7a05a79-a794-4a83-8d4e-7849008f0d59"
      },
      "source": [
        "model = word2vec.Word2Vec.load('/content/drive/My Drive/NLP/corpora/kokoro_txt.model')"
      ],
      "execution_count": 5,
      "outputs": [
        {
          "output_type": "stream",
          "text": [
            "2019-12-28 06:20:44,042 : INFO : loading Word2Vec object from /content/drive/My Drive/NLP/corpora/kokoro_txt.model\n",
            "/usr/local/lib/python3.6/dist-packages/smart_open/smart_open_lib.py:402: UserWarning: This function is deprecated, use smart_open.open instead. See the migration notes for details: https://github.com/RaRe-Technologies/smart_open/blob/master/README.rst#migrating-to-the-new-open-function\n",
            "  'See the migration notes for details: %s' % _MIGRATION_NOTES_URL\n",
            "2019-12-28 06:20:44,145 : INFO : loading wv recursively from /content/drive/My Drive/NLP/corpora/kokoro_txt.model.wv.* with mmap=None\n",
            "2019-12-28 06:20:44,146 : INFO : setting ignored attribute vectors_norm to None\n",
            "2019-12-28 06:20:44,155 : INFO : loading vocabulary recursively from /content/drive/My Drive/NLP/corpora/kokoro_txt.model.vocabulary.* with mmap=None\n",
            "2019-12-28 06:20:44,157 : INFO : loading trainables recursively from /content/drive/My Drive/NLP/corpora/kokoro_txt.model.trainables.* with mmap=None\n",
            "2019-12-28 06:20:44,158 : INFO : setting ignored attribute cum_table to None\n",
            "2019-12-28 06:20:44,162 : INFO : loaded /content/drive/My Drive/NLP/corpora/kokoro_txt.model\n"
          ],
          "name": "stderr"
        }
      ]
    },
    {
      "cell_type": "code",
      "metadata": {
        "id": "yISabawiAY6T",
        "colab_type": "code",
        "outputId": "78aa3902-20bb-4cbe-d2ad-dee3fa137f7c",
        "colab": {
          "base_uri": "https://localhost:8080/",
          "height": 428
        }
      },
      "source": [
        "model.wv.most_similar(positive=['人間'],topn=20)"
      ],
      "execution_count": 6,
      "outputs": [
        {
          "output_type": "stream",
          "text": [
            "2019-12-28 06:20:44,189 : INFO : precomputing L2-norms of word weight vectors\n",
            "/usr/local/lib/python3.6/dist-packages/gensim/matutils.py:737: FutureWarning: Conversion of the second argument of issubdtype from `int` to `np.signedinteger` is deprecated. In future, it will be treated as `np.int64 == np.dtype(int).type`.\n",
            "  if np.issubdtype(vec.dtype, np.int):\n"
          ],
          "name": "stderr"
        },
        {
          "output_type": "execute_result",
          "data": {
            "text/plain": [
              "[('幸福', 0.771507978439331),\n",
              " ('世間', 0.7598836421966553),\n",
              " ('近づく', 0.7403764724731445),\n",
              " ('淋しい', 0.730438232421875),\n",
              " ('若い', 0.720270037651062),\n",
              " ('一種', 0.7200936079025269),\n",
              " ('隠す', 0.7186206579208374),\n",
              " ('考え', 0.7169820070266724),\n",
              " ('嫌い', 0.7152837514877319),\n",
              " ('義務', 0.7065376043319702),\n",
              " ('違い', 0.7057519555091858),\n",
              " ('信用', 0.7014422416687012),\n",
              " ('べし', 0.6995497941970825),\n",
              " ('世の中', 0.695746123790741),\n",
              " ('資格', 0.6923626661300659),\n",
              " ('推移', 0.6915768384933472),\n",
              " ('切り離す', 0.6910260915756226),\n",
              " ('過去', 0.6881538033485413),\n",
              " ('弱い', 0.6874821186065674),\n",
              " ('何だか', 0.6855754852294922)]"
            ]
          },
          "metadata": {
            "tags": []
          },
          "execution_count": 6
        }
      ]
    },
    {
      "cell_type": "markdown",
      "metadata": {
        "id": "P92AR_MqKp2x",
        "colab_type": "text"
      },
      "source": [
        "以下のコードでは、Livedoor News を使用します"
      ]
    },
    {
      "cell_type": "code",
      "metadata": {
        "id": "-6I2zjT5AY58",
        "colab_type": "code",
        "colab": {}
      },
      "source": [
        "import MeCab\n",
        "\n",
        "tagger = MeCab.Tagger('-F\\s%f[6]')\n",
        "raw = open('/content/drive/My Drive/NLP/livedoor-news-data/topic-news.xml', 'r')\n",
        "text = open('/content/drive/My Drive/NLP/livedoor-news-data/topic-news_text.xml', 'w')\n",
        "\n",
        "line = raw.readline()\n",
        "while line:\n",
        "    result = tagger.parse(line)\n",
        "    text.write(result[1:]) # skip first \\s\n",
        "    line = raw.readline()\n",
        "\n",
        "raw.close()\n",
        "text.close()"
      ],
      "execution_count": 0,
      "outputs": []
    },
    {
      "cell_type": "code",
      "metadata": {
        "scrolled": false,
        "id": "ezj0s_heAY6A",
        "colab_type": "code",
        "outputId": "51d251d2-1bea-4f02-e49d-3449988a6587",
        "colab": {
          "base_uri": "https://localhost:8080/",
          "height": 836
        }
      },
      "source": [
        "from gensim.models import word2vec\n",
        "import logging\n",
        "#import sys\n",
        "\n",
        "logging.basicConfig(format='%(asctime)s : %(levelname)s : %(message)s', level=logging.INFO)\n",
        "\n",
        "sentences = word2vec.LineSentence('/content/drive/My Drive/NLP/livedoor-news-data/topic-news_text.xml')\n",
        "\n",
        "model = word2vec.Word2Vec(sentences,\n",
        "                          sg=1,\n",
        "                          size=100,\n",
        "                          min_count=1,\n",
        "                          window=10,\n",
        "                          hs=1,\n",
        "                          negative=0)\n",
        "model.save('/content/drive/My Drive/NLP/livedoor-news-data/topic-news.model')"
      ],
      "execution_count": 8,
      "outputs": [
        {
          "output_type": "stream",
          "text": [
            "2019-12-28 06:20:44,924 : INFO : collecting all words and their counts\n",
            "/usr/local/lib/python3.6/dist-packages/smart_open/smart_open_lib.py:402: UserWarning: This function is deprecated, use smart_open.open instead. See the migration notes for details: https://github.com/RaRe-Technologies/smart_open/blob/master/README.rst#migrating-to-the-new-open-function\n",
            "  'See the migration notes for details: %s' % _MIGRATION_NOTES_URL\n",
            "2019-12-28 06:20:44,939 : INFO : PROGRESS: at sentence #0, processed 0 words, keeping 0 word types\n",
            "2019-12-28 06:20:45,014 : INFO : PROGRESS: at sentence #10000, processed 177139 words, keeping 10652 word types\n",
            "2019-12-28 06:20:45,073 : INFO : collected 13804 word types from a corpus of 314191 raw words and 16734 sentences\n",
            "2019-12-28 06:20:45,075 : INFO : Loading a fresh vocabulary\n",
            "2019-12-28 06:20:45,103 : INFO : effective_min_count=1 retains 13804 unique words (100% of original 13804, drops 0)\n",
            "2019-12-28 06:20:45,105 : INFO : effective_min_count=1 leaves 314191 word corpus (100% of original 314191, drops 0)\n",
            "2019-12-28 06:20:45,153 : INFO : deleting the raw counts dictionary of 13804 items\n",
            "2019-12-28 06:20:45,155 : INFO : sample=0.001 downsamples 39 most-common words\n",
            "2019-12-28 06:20:45,161 : INFO : downsampling leaves estimated 196487 word corpus (62.5% of prior 314191)\n",
            "2019-12-28 06:20:45,177 : INFO : constructing a huffman tree from 13804 words\n",
            "2019-12-28 06:20:45,605 : INFO : built huffman tree with maximum node depth 18\n",
            "2019-12-28 06:20:45,612 : INFO : estimated required memory for 13804 words and 100 dimensions: 20706000 bytes\n",
            "2019-12-28 06:20:45,615 : INFO : resetting layer weights\n",
            "2019-12-28 06:20:48,775 : INFO : training model with 3 workers on 13804 vocabulary and 100 features, using sg=1 hs=1 sample=0.001 negative=0 window=10\n",
            "2019-12-28 06:20:49,839 : INFO : EPOCH 1 - PROGRESS: at 60.35% examples, 105910 words/s, in_qsize 5, out_qsize 0\n",
            "2019-12-28 06:20:50,470 : INFO : worker thread finished; awaiting finish of 2 more threads\n",
            "2019-12-28 06:20:50,476 : INFO : worker thread finished; awaiting finish of 1 more threads\n",
            "2019-12-28 06:20:50,511 : INFO : worker thread finished; awaiting finish of 0 more threads\n",
            "2019-12-28 06:20:50,512 : INFO : EPOCH - 1 : training on 314191 raw words (196363 effective words) took 1.7s, 113428 effective words/s\n",
            "2019-12-28 06:20:51,603 : INFO : EPOCH 2 - PROGRESS: at 60.35% examples, 103105 words/s, in_qsize 5, out_qsize 0\n",
            "2019-12-28 06:20:52,227 : INFO : worker thread finished; awaiting finish of 2 more threads\n",
            "2019-12-28 06:20:52,251 : INFO : worker thread finished; awaiting finish of 1 more threads\n",
            "2019-12-28 06:20:52,270 : INFO : worker thread finished; awaiting finish of 0 more threads\n",
            "2019-12-28 06:20:52,271 : INFO : EPOCH - 2 : training on 314191 raw words (196335 effective words) took 1.8s, 112002 effective words/s\n",
            "2019-12-28 06:20:53,300 : INFO : EPOCH 3 - PROGRESS: at 57.54% examples, 103840 words/s, in_qsize 5, out_qsize 0\n",
            "2019-12-28 06:20:53,916 : INFO : worker thread finished; awaiting finish of 2 more threads\n",
            "2019-12-28 06:20:53,968 : INFO : worker thread finished; awaiting finish of 1 more threads\n",
            "2019-12-28 06:20:53,998 : INFO : worker thread finished; awaiting finish of 0 more threads\n",
            "2019-12-28 06:20:54,000 : INFO : EPOCH - 3 : training on 314191 raw words (196739 effective words) took 1.7s, 114308 effective words/s\n",
            "2019-12-28 06:20:55,043 : INFO : EPOCH 4 - PROGRESS: at 54.79% examples, 95692 words/s, in_qsize 5, out_qsize 0\n",
            "2019-12-28 06:20:55,725 : INFO : worker thread finished; awaiting finish of 2 more threads\n",
            "2019-12-28 06:20:55,755 : INFO : worker thread finished; awaiting finish of 1 more threads\n",
            "2019-12-28 06:20:55,764 : INFO : worker thread finished; awaiting finish of 0 more threads\n",
            "2019-12-28 06:20:55,765 : INFO : EPOCH - 4 : training on 314191 raw words (196514 effective words) took 1.8s, 111566 effective words/s\n",
            "2019-12-28 06:20:56,834 : INFO : EPOCH 5 - PROGRESS: at 60.35% examples, 105403 words/s, in_qsize 5, out_qsize 0\n",
            "2019-12-28 06:20:57,449 : INFO : worker thread finished; awaiting finish of 2 more threads\n",
            "2019-12-28 06:20:57,480 : INFO : worker thread finished; awaiting finish of 1 more threads\n",
            "2019-12-28 06:20:57,486 : INFO : worker thread finished; awaiting finish of 0 more threads\n",
            "2019-12-28 06:20:57,488 : INFO : EPOCH - 5 : training on 314191 raw words (196594 effective words) took 1.7s, 114500 effective words/s\n",
            "2019-12-28 06:20:57,488 : INFO : training on a 1570955 raw words (982545 effective words) took 8.7s, 112799 effective words/s\n",
            "2019-12-28 06:20:57,499 : INFO : saving Word2Vec object under /content/drive/My Drive/NLP/livedoor-news-data/topic-news.model, separately None\n",
            "2019-12-28 06:20:57,500 : INFO : not storing attribute vectors_norm\n",
            "2019-12-28 06:20:57,503 : INFO : not storing attribute cum_table\n",
            "2019-12-28 06:20:57,807 : INFO : saved /content/drive/My Drive/NLP/livedoor-news-data/topic-news.model\n"
          ],
          "name": "stderr"
        }
      ]
    },
    {
      "cell_type": "code",
      "metadata": {
        "scrolled": true,
        "id": "Z1AQ7OrUAY6D",
        "colab_type": "code",
        "outputId": "ae44d871-d63e-40c5-945a-3bce78a6b29c",
        "colab": {
          "base_uri": "https://localhost:8080/",
          "height": 190
        }
      },
      "source": [
        "from gensim.models import word2vec\n",
        "model = word2vec.Word2Vec.load('/content/drive/My Drive/NLP/livedoor-news-data/topic-news.model')\n",
        "#model.wv['SMAP']\n"
      ],
      "execution_count": 9,
      "outputs": [
        {
          "output_type": "stream",
          "text": [
            "2019-12-28 06:20:57,819 : INFO : loading Word2Vec object from /content/drive/My Drive/NLP/livedoor-news-data/topic-news.model\n",
            "/usr/local/lib/python3.6/dist-packages/smart_open/smart_open_lib.py:402: UserWarning: This function is deprecated, use smart_open.open instead. See the migration notes for details: https://github.com/RaRe-Technologies/smart_open/blob/master/README.rst#migrating-to-the-new-open-function\n",
            "  'See the migration notes for details: %s' % _MIGRATION_NOTES_URL\n",
            "2019-12-28 06:20:58,100 : INFO : loading wv recursively from /content/drive/My Drive/NLP/livedoor-news-data/topic-news.model.wv.* with mmap=None\n",
            "2019-12-28 06:20:58,101 : INFO : setting ignored attribute vectors_norm to None\n",
            "2019-12-28 06:20:58,103 : INFO : loading vocabulary recursively from /content/drive/My Drive/NLP/livedoor-news-data/topic-news.model.vocabulary.* with mmap=None\n",
            "2019-12-28 06:20:58,104 : INFO : loading trainables recursively from /content/drive/My Drive/NLP/livedoor-news-data/topic-news.model.trainables.* with mmap=None\n",
            "2019-12-28 06:20:58,106 : INFO : setting ignored attribute cum_table to None\n",
            "2019-12-28 06:20:58,108 : INFO : loaded /content/drive/My Drive/NLP/livedoor-news-data/topic-news.model\n"
          ],
          "name": "stderr"
        }
      ]
    },
    {
      "cell_type": "code",
      "metadata": {
        "scrolled": true,
        "id": "VyVaZ0fSAY6G",
        "colab_type": "code",
        "outputId": "d3defa1f-8c99-40fc-b646-024bd6cf278e",
        "colab": {
          "base_uri": "https://localhost:8080/",
          "height": 428
        }
      },
      "source": [
        "model.wv.most_similar(positive=['源'],topn=20)"
      ],
      "execution_count": 10,
      "outputs": [
        {
          "output_type": "stream",
          "text": [
            "2019-12-28 06:20:58,150 : INFO : precomputing L2-norms of word weight vectors\n",
            "/usr/local/lib/python3.6/dist-packages/gensim/matutils.py:737: FutureWarning: Conversion of the second argument of issubdtype from `int` to `np.signedinteger` is deprecated. In future, it will be treated as `np.int64 == np.dtype(int).type`.\n",
            "  if np.issubdtype(vec.dtype, np.int):\n"
          ],
          "name": "stderr"
        },
        {
          "output_type": "execute_result",
          "data": {
            "text/plain": [
              "[('断つ', 0.8538624048233032),\n",
              " ('寄生', 0.8251950740814209),\n",
              " ('浴室', 0.7818044424057007),\n",
              " ('採り入れる', 0.7754155397415161),\n",
              " ('眉', 0.7729788422584534),\n",
              " ('凌ぐ', 0.7706416845321655),\n",
              " ('不眠症', 0.7702297568321228),\n",
              " ('老齢', 0.7690596580505371),\n",
              " ('乗り入れる', 0.7657880783081055),\n",
              " ('ガラス張り', 0.7626549005508423),\n",
              " ('逝く', 0.7598652839660645),\n",
              " ('拭える', 0.7577399015426636),\n",
              " ('メタンガス', 0.7547956705093384),\n",
              " ('口論', 0.7539457678794861),\n",
              " ('押し倒す', 0.750339925289154),\n",
              " ('急死', 0.7470813989639282),\n",
              " ('幻覚', 0.747037410736084),\n",
              " ('余りに', 0.7450692057609558),\n",
              " ('吹っかける', 0.7440354228019714),\n",
              " ('測る', 0.7429507374763489)]"
            ]
          },
          "metadata": {
            "tags": []
          },
          "execution_count": 10
        }
      ]
    },
    {
      "cell_type": "code",
      "metadata": {
        "scrolled": false,
        "id": "5mLB7WV0AY6J",
        "colab_type": "code",
        "outputId": "af1dfdcb-b4b7-4319-a57b-e9bd10115835",
        "colab": {
          "base_uri": "https://localhost:8080/",
          "height": 411
        }
      },
      "source": [
        "model.wv.most_similar(positive=['太陽'],topn=20)"
      ],
      "execution_count": 11,
      "outputs": [
        {
          "output_type": "stream",
          "text": [
            "/usr/local/lib/python3.6/dist-packages/gensim/matutils.py:737: FutureWarning: Conversion of the second argument of issubdtype from `int` to `np.signedinteger` is deprecated. In future, it will be treated as `np.int64 == np.dtype(int).type`.\n",
            "  if np.issubdtype(vec.dtype, np.int):\n"
          ],
          "name": "stderr"
        },
        {
          "output_type": "execute_result",
          "data": {
            "text/plain": [
              "[('杉浦', 0.891534149646759),\n",
              " ('憤死', 0.8426682949066162),\n",
              " ('石黒', 0.8162329196929932),\n",
              " ('宅配', 0.7974973917007446),\n",
              " ('デリバリー', 0.7820749282836914),\n",
              " ('満載', 0.7805725336074829),\n",
              " ('花王', 0.7780963778495789),\n",
              " ('厨', 0.7663440704345703),\n",
              " ('見どころ', 0.7587323188781738),\n",
              " ('会す', 0.7532551288604736),\n",
              " ('ちゃぶ台', 0.7526101469993591),\n",
              " ('明治大', 0.7523665428161621),\n",
              " ('治', 0.7485888004302979),\n",
              " ('王妃', 0.7411164045333862),\n",
              " ('岩沢', 0.7367631793022156),\n",
              " ('ＣＳ', 0.7278300523757935),\n",
              " ('ＳＢＳ', 0.7251868844032288),\n",
              " ('祭典', 0.7246068120002747),\n",
              " ('関西国際空港', 0.7243754267692566),\n",
              " ('装着', 0.7217563986778259)]"
            ]
          },
          "metadata": {
            "tags": []
          },
          "execution_count": 11
        }
      ]
    },
    {
      "cell_type": "code",
      "metadata": {
        "id": "kWFjh01CAY6L",
        "colab_type": "code",
        "outputId": "56b2de0e-b115-4318-adbc-54a7686e312c",
        "colab": {
          "base_uri": "https://localhost:8080/",
          "height": 88
        }
      },
      "source": [
        "model.wv.similarity('太陽', '月')"
      ],
      "execution_count": 12,
      "outputs": [
        {
          "output_type": "stream",
          "text": [
            "/usr/local/lib/python3.6/dist-packages/gensim/matutils.py:737: FutureWarning: Conversion of the second argument of issubdtype from `int` to `np.signedinteger` is deprecated. In future, it will be treated as `np.int64 == np.dtype(int).type`.\n",
            "  if np.issubdtype(vec.dtype, np.int):\n"
          ],
          "name": "stderr"
        },
        {
          "output_type": "execute_result",
          "data": {
            "text/plain": [
              "0.1244869"
            ]
          },
          "metadata": {
            "tags": []
          },
          "execution_count": 12
        }
      ]
    },
    {
      "cell_type": "code",
      "metadata": {
        "id": "L1l8mPK1AY6V",
        "colab_type": "code",
        "colab": {}
      },
      "source": [
        ""
      ],
      "execution_count": 0,
      "outputs": []
    },
    {
      "cell_type": "code",
      "metadata": {
        "id": "IYY5MAUpAY6X",
        "colab_type": "code",
        "colab": {}
      },
      "source": [
        ""
      ],
      "execution_count": 0,
      "outputs": []
    }
  ]
}