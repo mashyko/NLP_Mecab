{
  "nbformat": 4,
  "nbformat_minor": 0,
  "metadata": {
    "kernelspec": {
      "name": "python3",
      "display_name": "Python 3"
    },
    "language_info": {
      "codemirror_mode": {
        "name": "ipython",
        "version": 3
      },
      "file_extension": ".py",
      "mimetype": "text/x-python",
      "name": "python",
      "nbconvert_exporter": "python",
      "pygments_lexer": "ipython3",
      "version": "3.6.5"
    },
    "colab": {
      "name": "gensim_tutor_English.ipynb",
      "provenance": [],
      "collapsed_sections": [],
      "include_colab_link": true
    },
    "accelerator": "GPU"
  },
  "cells": [
    {
      "cell_type": "markdown",
      "metadata": {
        "id": "view-in-github",
        "colab_type": "text"
      },
      "source": [
        "<a href=\"https://colab.research.google.com/github/mashyko/NLP_Mecab/blob/master/gensim_tutor_English.ipynb\" target=\"_parent\"><img src=\"https://colab.research.google.com/assets/colab-badge.svg\" alt=\"Open In Colab\"/></a>"
      ]
    },
    {
      "cell_type": "markdown",
      "metadata": {
        "id": "dVbCwnzrs8iY",
        "colab_type": "text"
      },
      "source": [
        "Tutorial 1: Corpora and Vector Spaces\n"
      ]
    },
    {
      "cell_type": "code",
      "metadata": {
        "id": "nDNSMWxYtEsv",
        "colab_type": "code",
        "outputId": "c4637f48-ebde-4183-eea5-51bde54923c4",
        "colab": {
          "base_uri": "https://localhost:8080/",
          "height": 326
        }
      },
      "source": [
        "!pip install gensim"
      ],
      "execution_count": 0,
      "outputs": [
        {
          "output_type": "stream",
          "text": [
            "Requirement already satisfied: gensim in /usr/local/lib/python3.6/dist-packages (3.6.0)\n",
            "Requirement already satisfied: six>=1.5.0 in /usr/local/lib/python3.6/dist-packages (from gensim) (1.12.0)\n",
            "Requirement already satisfied: scipy>=0.18.1 in /usr/local/lib/python3.6/dist-packages (from gensim) (1.3.3)\n",
            "Requirement already satisfied: smart-open>=1.2.1 in /usr/local/lib/python3.6/dist-packages (from gensim) (1.9.0)\n",
            "Requirement already satisfied: numpy>=1.11.3 in /usr/local/lib/python3.6/dist-packages (from gensim) (1.17.4)\n",
            "Requirement already satisfied: boto>=2.32 in /usr/local/lib/python3.6/dist-packages (from smart-open>=1.2.1->gensim) (2.49.0)\n",
            "Requirement already satisfied: boto3 in /usr/local/lib/python3.6/dist-packages (from smart-open>=1.2.1->gensim) (1.10.40)\n",
            "Requirement already satisfied: requests in /usr/local/lib/python3.6/dist-packages (from smart-open>=1.2.1->gensim) (2.21.0)\n",
            "Requirement already satisfied: jmespath<1.0.0,>=0.7.1 in /usr/local/lib/python3.6/dist-packages (from boto3->smart-open>=1.2.1->gensim) (0.9.4)\n",
            "Requirement already satisfied: botocore<1.14.0,>=1.13.40 in /usr/local/lib/python3.6/dist-packages (from boto3->smart-open>=1.2.1->gensim) (1.13.40)\n",
            "Requirement already satisfied: s3transfer<0.3.0,>=0.2.0 in /usr/local/lib/python3.6/dist-packages (from boto3->smart-open>=1.2.1->gensim) (0.2.1)\n",
            "Requirement already satisfied: chardet<3.1.0,>=3.0.2 in /usr/local/lib/python3.6/dist-packages (from requests->smart-open>=1.2.1->gensim) (3.0.4)\n",
            "Requirement already satisfied: urllib3<1.25,>=1.21.1 in /usr/local/lib/python3.6/dist-packages (from requests->smart-open>=1.2.1->gensim) (1.24.3)\n",
            "Requirement already satisfied: certifi>=2017.4.17 in /usr/local/lib/python3.6/dist-packages (from requests->smart-open>=1.2.1->gensim) (2019.11.28)\n",
            "Requirement already satisfied: idna<2.9,>=2.5 in /usr/local/lib/python3.6/dist-packages (from requests->smart-open>=1.2.1->gensim) (2.8)\n",
            "Requirement already satisfied: docutils<0.16,>=0.10 in /usr/local/lib/python3.6/dist-packages (from botocore<1.14.0,>=1.13.40->boto3->smart-open>=1.2.1->gensim) (0.15.2)\n",
            "Requirement already satisfied: python-dateutil<2.8.1,>=2.1; python_version >= \"2.7\" in /usr/local/lib/python3.6/dist-packages (from botocore<1.14.0,>=1.13.40->boto3->smart-open>=1.2.1->gensim) (2.6.1)\n"
          ],
          "name": "stdout"
        }
      ]
    },
    {
      "cell_type": "code",
      "metadata": {
        "id": "1GKH5Wt6s8ib",
        "colab_type": "code",
        "colab": {}
      },
      "source": [
        "import logging\n",
        "logging.basicConfig(format='%(asctime)s : %(levelname)s : %(message)s', level=logging.INFO)"
      ],
      "execution_count": 0,
      "outputs": []
    },
    {
      "cell_type": "code",
      "metadata": {
        "id": "V0DswRl0s8if",
        "colab_type": "code",
        "outputId": "490320ab-ff7b-46e9-9feb-0e2f5b6f047a",
        "colab": {
          "base_uri": "https://localhost:8080/",
          "height": 34
        }
      },
      "source": [
        "from gensim import corpora\n"
      ],
      "execution_count": 0,
      "outputs": [
        {
          "output_type": "stream",
          "text": [
            "2019-12-25 06:18:53,827 : INFO : 'pattern' package not found; tag filters are not available for English\n"
          ],
          "name": "stderr"
        }
      ]
    },
    {
      "cell_type": "code",
      "metadata": {
        "id": "q3ozxpmRs8im",
        "colab_type": "code",
        "colab": {}
      },
      "source": [
        "documents = [\"Human machine interface for lab abc computer applications\",\n",
        "             \"A survey of user opinion of computer system response time\",\n",
        "             \"The EPS user interface management system\",\n",
        "             \"System and human system engineering testing of EPS\",              \n",
        "             \"Relation of user perceived response time to error measurement\",\n",
        "             \"The generation of random binary unordered trees\",\n",
        "             \"The intersection graph of paths in trees\",\n",
        "             \"Graph minors IV Widths of trees and well quasi ordering\",\n",
        "             \"Graph minors A survey\"]"
      ],
      "execution_count": 0,
      "outputs": []
    },
    {
      "cell_type": "code",
      "metadata": {
        "id": "tEPFz6uys8ip",
        "colab_type": "code",
        "outputId": "835b73a8-1d27-470f-c027-459f51b0c6ae",
        "colab": {
          "base_uri": "https://localhost:8080/",
          "height": 170
        }
      },
      "source": [
        "# remove common words and tokenize\n",
        "stoplist = set('for a of the and to in'.split())\n",
        "texts = [[word for word in document.lower().split() if word not in stoplist]\n",
        "         for document in documents]\n",
        "\n",
        "# remove words that appear only once\n",
        "from collections import defaultdict\n",
        "frequency = defaultdict(int)\n",
        "for text in texts:\n",
        "    for token in text:\n",
        "        frequency[token] += 1\n",
        "\n",
        "texts = [[token for token in text if frequency[token] > 1] for text in texts]\n",
        "\n",
        "from pprint import pprint  # pretty-printer\n",
        "pprint(texts)\n"
      ],
      "execution_count": 0,
      "outputs": [
        {
          "output_type": "stream",
          "text": [
            "[['human', 'interface', 'computer'],\n",
            " ['survey', 'user', 'computer', 'system', 'response', 'time'],\n",
            " ['eps', 'user', 'interface', 'system'],\n",
            " ['system', 'human', 'system', 'eps'],\n",
            " ['user', 'response', 'time'],\n",
            " ['trees'],\n",
            " ['graph', 'trees'],\n",
            " ['graph', 'minors', 'trees'],\n",
            " ['graph', 'minors', 'survey']]\n"
          ],
          "name": "stdout"
        }
      ]
    },
    {
      "cell_type": "code",
      "metadata": {
        "id": "kzGcUWK9s8ir",
        "colab_type": "code",
        "outputId": "890b531e-b853-4fa8-cf45-561294719190",
        "colab": {
          "base_uri": "https://localhost:8080/",
          "height": 34
        }
      },
      "source": [
        "import os\n",
        "import tempfile\n",
        "TEMP_FOLDER = tempfile.gettempdir()\n",
        "print('Folder \"{}\" will be used to save temporary dictionary and corpus.'.format(TEMP_FOLDER))"
      ],
      "execution_count": 0,
      "outputs": [
        {
          "output_type": "stream",
          "text": [
            "Folder \"/tmp\" will be used to save temporary dictionary and corpus.\n"
          ],
          "name": "stdout"
        }
      ]
    },
    {
      "cell_type": "code",
      "metadata": {
        "id": "Y1dCvv5Is8iu",
        "colab_type": "code",
        "outputId": "b7e297eb-2c2e-414b-ca12-38d7c6ed5614",
        "colab": {
          "base_uri": "https://localhost:8080/",
          "height": 156
        }
      },
      "source": [
        "dictionary = corpora.Dictionary(texts)\n",
        "dictionary.save(os.path.join(TEMP_FOLDER, 'deerwester.dict'))  # store the dictionary, for future reference\n",
        "print(dictionary)"
      ],
      "execution_count": 0,
      "outputs": [
        {
          "output_type": "stream",
          "text": [
            "2019-12-25 06:18:53,875 : INFO : adding document #0 to Dictionary(0 unique tokens: [])\n",
            "2019-12-25 06:18:53,876 : INFO : built Dictionary(12 unique tokens: ['computer', 'human', 'interface', 'response', 'survey']...) from 9 documents (total 29 corpus positions)\n",
            "2019-12-25 06:18:53,877 : INFO : saving Dictionary object under /tmp/deerwester.dict, separately None\n",
            "/usr/local/lib/python3.6/dist-packages/smart_open/smart_open_lib.py:402: UserWarning: This function is deprecated, use smart_open.open instead. See the migration notes for details: https://github.com/RaRe-Technologies/smart_open/blob/master/README.rst#migrating-to-the-new-open-function\n",
            "  'See the migration notes for details: %s' % _MIGRATION_NOTES_URL\n",
            "2019-12-25 06:18:53,883 : INFO : saved /tmp/deerwester.dict\n"
          ],
          "name": "stderr"
        },
        {
          "output_type": "stream",
          "text": [
            "Dictionary(12 unique tokens: ['computer', 'human', 'interface', 'response', 'survey']...)\n"
          ],
          "name": "stdout"
        }
      ]
    },
    {
      "cell_type": "code",
      "metadata": {
        "id": "_6730x36s8iy",
        "colab_type": "code",
        "outputId": "039666fd-4c8f-4b3d-a412-2fecc31576d8",
        "colab": {
          "base_uri": "https://localhost:8080/",
          "height": 34
        }
      },
      "source": [
        "print(dictionary.token2id)"
      ],
      "execution_count": 0,
      "outputs": [
        {
          "output_type": "stream",
          "text": [
            "{'computer': 0, 'human': 1, 'interface': 2, 'response': 3, 'survey': 4, 'system': 5, 'time': 6, 'user': 7, 'eps': 8, 'trees': 9, 'graph': 10, 'minors': 11}\n"
          ],
          "name": "stdout"
        }
      ]
    },
    {
      "cell_type": "code",
      "metadata": {
        "id": "mh5MIOLos8i1",
        "colab_type": "code",
        "outputId": "3348bacb-5638-4450-9637-61443efffe3b",
        "colab": {
          "base_uri": "https://localhost:8080/",
          "height": 34
        }
      },
      "source": [
        "new_doc = \"Human computer interaction\"\n",
        "new_vec = dictionary.doc2bow(new_doc.lower().split())\n",
        "print(new_vec)  # the word \"interaction\" does not appear in the dictionary and is ignored"
      ],
      "execution_count": 0,
      "outputs": [
        {
          "output_type": "stream",
          "text": [
            "[(0, 1), (1, 1)]\n"
          ],
          "name": "stdout"
        }
      ]
    },
    {
      "cell_type": "code",
      "metadata": {
        "id": "CWTaJGefs8i3",
        "colab_type": "code",
        "outputId": "781dd48d-9f8c-4078-9417-584cb8d54cde",
        "colab": {
          "base_uri": "https://localhost:8080/",
          "height": 309
        }
      },
      "source": [
        "corpus = [dictionary.doc2bow(text) for text in texts]\n",
        "corpora.MmCorpus.serialize(os.path.join(TEMP_FOLDER, 'deerwester.mm'), corpus)  # store to disk, for later use\n",
        "for c in corpus:\n",
        "    print(c)"
      ],
      "execution_count": 0,
      "outputs": [
        {
          "output_type": "stream",
          "text": [
            "2019-12-25 06:18:53,908 : INFO : storing corpus in Matrix Market format to /tmp/deerwester.mm\n",
            "/usr/local/lib/python3.6/dist-packages/smart_open/smart_open_lib.py:402: UserWarning: This function is deprecated, use smart_open.open instead. See the migration notes for details: https://github.com/RaRe-Technologies/smart_open/blob/master/README.rst#migrating-to-the-new-open-function\n",
            "  'See the migration notes for details: %s' % _MIGRATION_NOTES_URL\n",
            "2019-12-25 06:18:53,910 : INFO : saving sparse matrix to /tmp/deerwester.mm\n",
            "2019-12-25 06:18:53,911 : INFO : PROGRESS: saving document #0\n",
            "2019-12-25 06:18:53,913 : INFO : saved 9x12 matrix, density=25.926% (28/108)\n",
            "2019-12-25 06:18:53,914 : INFO : saving MmCorpus index to /tmp/deerwester.mm.index\n"
          ],
          "name": "stderr"
        },
        {
          "output_type": "stream",
          "text": [
            "[(0, 1), (1, 1), (2, 1)]\n",
            "[(0, 1), (3, 1), (4, 1), (5, 1), (6, 1), (7, 1)]\n",
            "[(2, 1), (5, 1), (7, 1), (8, 1)]\n",
            "[(1, 1), (5, 2), (8, 1)]\n",
            "[(3, 1), (6, 1), (7, 1)]\n",
            "[(9, 1)]\n",
            "[(9, 1), (10, 1)]\n",
            "[(9, 1), (10, 1), (11, 1)]\n",
            "[(4, 1), (10, 1), (11, 1)]\n"
          ],
          "name": "stdout"
        }
      ]
    },
    {
      "cell_type": "markdown",
      "metadata": {
        "id": "0et3ncKts8i5",
        "colab_type": "text"
      },
      "source": [
        "By now it should be clear that the vector feature with id=10 represents the number of times the word \"graph\" occurs in the document. The answer is “zero” for the first six documents and “one” for the remaining three. As a matter of fact, we have arrived at exactly the same corpus of vectors as in the Quick Example. If you're running this notebook yourself the word IDs may differ, but you should be able to check the consistency between documents comparing their vectors.\n",
        "\n",
        "Corpus Streaming – One Document at a Time\n",
        "\n",
        "Note that corpus above resides fully in memory, as a plain Python list. In this simple example, it doesn’t matter much, but just to make things clear, let’s assume there are millions of documents in the corpus. Storing all of them in RAM won’t do. Instead, let’s assume the documents are stored in a file on disk, one document per line. Gensim only requires that a corpus be able to return one document vector at a time:\n"
      ]
    },
    {
      "cell_type": "code",
      "metadata": {
        "id": "maoH45ijueAh",
        "colab_type": "code",
        "outputId": "731be0b2-833e-49e9-88ac-33d2c8b3c7cf",
        "colab": {
          "base_uri": "https://localhost:8080/",
          "height": 122
        }
      },
      "source": [
        "from google.colab import drive\n",
        "drive.mount('/content/drive')"
      ],
      "execution_count": 0,
      "outputs": [
        {
          "output_type": "stream",
          "text": [
            "Go to this URL in a browser: https://accounts.google.com/o/oauth2/auth?client_id=947318989803-6bn6qk8qdgf4n4g3pfee6491hc0brc4i.apps.googleusercontent.com&redirect_uri=urn%3aietf%3awg%3aoauth%3a2.0%3aoob&response_type=code&scope=email%20https%3a%2f%2fwww.googleapis.com%2fauth%2fdocs.test%20https%3a%2f%2fwww.googleapis.com%2fauth%2fdrive%20https%3a%2f%2fwww.googleapis.com%2fauth%2fdrive.photos.readonly%20https%3a%2f%2fwww.googleapis.com%2fauth%2fpeopleapi.readonly\n",
            "\n",
            "Enter your authorization code:\n",
            "··········\n",
            "Mounted at /content/drive\n"
          ],
          "name": "stdout"
        }
      ]
    },
    {
      "cell_type": "code",
      "metadata": {
        "id": "3bPtL_m8s8i6",
        "colab_type": "code",
        "colab": {}
      },
      "source": [
        "from smart_open import smart_open\n",
        "class MyCorpus(object):\n",
        "    def __iter__(self):\n",
        "        for line in smart_open('/content/drive/My Drive/NLP/datasets/mycorpus.txt', 'rb'):\n",
        "            # assume there's one document per line, tokens separated by whitespace\n",
        "            yield dictionary.doc2bow(line.lower().split())"
      ],
      "execution_count": 0,
      "outputs": []
    },
    {
      "cell_type": "code",
      "metadata": {
        "id": "44SHr99_s8i9",
        "colab_type": "code",
        "outputId": "b2e91560-4e3b-4775-8ce9-791d5078d816",
        "colab": {
          "base_uri": "https://localhost:8080/",
          "height": 34
        }
      },
      "source": [
        "corpus_memory_friendly = MyCorpus() # doesn't load the corpus into memory!\n",
        "print(corpus_memory_friendly)"
      ],
      "execution_count": 0,
      "outputs": [
        {
          "output_type": "stream",
          "text": [
            "<__main__.MyCorpus object at 0x7f1b0c9b6908>\n"
          ],
          "name": "stdout"
        }
      ]
    },
    {
      "cell_type": "code",
      "metadata": {
        "id": "ctI62WZQs8jA",
        "colab_type": "code",
        "outputId": "58556ee3-9400-4414-a588-f29eb160e359",
        "colab": {
          "base_uri": "https://localhost:8080/",
          "height": 224
        }
      },
      "source": [
        "for vector in corpus_memory_friendly:  # load one vector into memory at a time\n",
        "    print(vector)"
      ],
      "execution_count": 0,
      "outputs": [
        {
          "output_type": "stream",
          "text": [
            "/usr/local/lib/python3.6/dist-packages/smart_open/smart_open_lib.py:402: UserWarning: This function is deprecated, use smart_open.open instead. See the migration notes for details: https://github.com/RaRe-Technologies/smart_open/blob/master/README.rst#migrating-to-the-new-open-function\n",
            "  'See the migration notes for details: %s' % _MIGRATION_NOTES_URL\n"
          ],
          "name": "stderr"
        },
        {
          "output_type": "stream",
          "text": [
            "[(0, 1), (1, 1), (2, 1)]\n",
            "[(0, 1), (3, 1), (4, 1), (5, 1), (6, 1), (7, 1)]\n",
            "[(2, 1), (5, 1), (7, 1), (8, 1)]\n",
            "[(1, 1), (5, 2), (8, 1)]\n",
            "[(3, 1), (6, 1), (7, 1)]\n",
            "[(9, 1)]\n",
            "[(9, 1), (10, 1)]\n",
            "[(9, 1), (10, 1), (11, 1)]\n",
            "[(4, 1), (10, 1), (11, 1)]\n"
          ],
          "name": "stdout"
        }
      ]
    },
    {
      "cell_type": "code",
      "metadata": {
        "id": "YiSijW1qs8jC",
        "colab_type": "code",
        "outputId": "46fb334f-1085-4926-95cc-dfb58fd41475",
        "colab": {
          "base_uri": "https://localhost:8080/",
          "height": 122
        }
      },
      "source": [
        "from six import iteritems\n",
        "from smart_open import smart_open\n",
        "\n",
        "# collect statistics about all tokens\n",
        "dictionary = corpora.Dictionary(line.lower().split() for line in smart_open('/content/drive/My Drive/NLP/datasets/mycorpus.txt', 'rb'))\n",
        "\n",
        "# remove stop words and words that appear only once\n",
        "stop_ids = [dictionary.token2id[stopword] for stopword in stoplist \n",
        "            if stopword in dictionary.token2id]\n",
        "once_ids = [tokenid for tokenid, docfreq in iteritems(dictionary.dfs) if docfreq == 1]\n",
        "\n",
        "# remove stop words and words that appear only once\n",
        "dictionary.filter_tokens(stop_ids + once_ids)\n",
        "print(dictionary)"
      ],
      "execution_count": 0,
      "outputs": [
        {
          "output_type": "stream",
          "text": [
            "/usr/local/lib/python3.6/dist-packages/smart_open/smart_open_lib.py:402: UserWarning: This function is deprecated, use smart_open.open instead. See the migration notes for details: https://github.com/RaRe-Technologies/smart_open/blob/master/README.rst#migrating-to-the-new-open-function\n",
            "  'See the migration notes for details: %s' % _MIGRATION_NOTES_URL\n",
            "2019-12-25 06:25:59,977 : INFO : adding document #0 to Dictionary(0 unique tokens: [])\n",
            "2019-12-25 06:25:59,979 : INFO : built Dictionary(42 unique tokens: ['abc', 'applications', 'computer', 'for', 'human']...) from 9 documents (total 69 corpus positions)\n"
          ],
          "name": "stderr"
        },
        {
          "output_type": "stream",
          "text": [
            "Dictionary(12 unique tokens: ['computer', 'human', 'interface', 'response', 'survey']...)\n"
          ],
          "name": "stdout"
        }
      ]
    },
    {
      "cell_type": "markdown",
      "metadata": {
        "collapsed": true,
        "id": "CyY8quRqs8jE",
        "colab_type": "text"
      },
      "source": [
        "Corpus Formats\n",
        "There exist several file formats for serializing a Vector Space corpus (~sequence of vectors) to disk. Gensim implements them via the streaming corpus interface mentioned earlier: documents are read from (or stored to) disk in a lazy fashion, one document at a time, without the whole corpus being read into main memory at once."
      ]
    },
    {
      "cell_type": "code",
      "metadata": {
        "id": "SILjwwIxs8jF",
        "colab_type": "code",
        "outputId": "4ea52f90-5476-4028-dd2e-7155918f5191",
        "colab": {
          "base_uri": "https://localhost:8080/",
          "height": 156
        }
      },
      "source": [
        "# create a toy corpus of 2 documents, as a plain Python list\n",
        "corpus = [[(1, 0.5)], []]  # make one document empty, for the heck of it\n",
        "\n",
        "corpora.MmCorpus.serialize(os.path.join(TEMP_FOLDER, 'corpus.mm'), corpus)"
      ],
      "execution_count": 0,
      "outputs": [
        {
          "output_type": "stream",
          "text": [
            "2019-12-25 06:26:13,105 : INFO : storing corpus in Matrix Market format to /tmp/corpus.mm\n",
            "/usr/local/lib/python3.6/dist-packages/smart_open/smart_open_lib.py:402: UserWarning: This function is deprecated, use smart_open.open instead. See the migration notes for details: https://github.com/RaRe-Technologies/smart_open/blob/master/README.rst#migrating-to-the-new-open-function\n",
            "  'See the migration notes for details: %s' % _MIGRATION_NOTES_URL\n",
            "2019-12-25 06:26:13,108 : INFO : saving sparse matrix to /tmp/corpus.mm\n",
            "2019-12-25 06:26:13,109 : INFO : PROGRESS: saving document #0\n",
            "2019-12-25 06:26:13,110 : INFO : saved 2x2 matrix, density=25.000% (1/4)\n",
            "2019-12-25 06:26:13,113 : INFO : saving MmCorpus index to /tmp/corpus.mm.index\n"
          ],
          "name": "stderr"
        }
      ]
    },
    {
      "cell_type": "code",
      "metadata": {
        "id": "2SS2tzKls8jI",
        "colab_type": "code",
        "outputId": "26a106d9-aacb-4f56-9c4a-08a427146da3",
        "colab": {
          "base_uri": "https://localhost:8080/",
          "height": 241
        }
      },
      "source": [
        "corpora.SvmLightCorpus.serialize(os.path.join(TEMP_FOLDER, 'corpus.svmlight'), corpus)\n",
        "corpora.BleiCorpus.serialize(os.path.join(TEMP_FOLDER, 'corpus.lda-c'), corpus)\n",
        "corpora.LowCorpus.serialize(os.path.join(TEMP_FOLDER, 'corpus.low'), corpus)\n"
      ],
      "execution_count": 0,
      "outputs": [
        {
          "output_type": "stream",
          "text": [
            "2019-12-25 06:26:16,730 : INFO : converting corpus to SVMlight format: /tmp/corpus.svmlight\n",
            "/usr/local/lib/python3.6/dist-packages/smart_open/smart_open_lib.py:402: UserWarning: This function is deprecated, use smart_open.open instead. See the migration notes for details: https://github.com/RaRe-Technologies/smart_open/blob/master/README.rst#migrating-to-the-new-open-function\n",
            "  'See the migration notes for details: %s' % _MIGRATION_NOTES_URL\n",
            "2019-12-25 06:26:16,732 : INFO : saving SvmLightCorpus index to /tmp/corpus.svmlight.index\n",
            "2019-12-25 06:26:16,735 : INFO : no word id mapping provided; initializing from corpus\n",
            "2019-12-25 06:26:16,738 : INFO : storing corpus in Blei's LDA-C format into /tmp/corpus.lda-c\n",
            "2019-12-25 06:26:16,740 : INFO : saving vocabulary of 2 words to /tmp/corpus.lda-c.vocab\n",
            "2019-12-25 06:26:16,743 : INFO : saving BleiCorpus index to /tmp/corpus.lda-c.index\n",
            "2019-12-25 06:26:16,745 : INFO : no word id mapping provided; initializing from corpus\n",
            "2019-12-25 06:26:16,749 : INFO : storing corpus in List-Of-Words format into /tmp/corpus.low\n",
            "2019-12-25 06:26:16,750 : WARNING : List-of-words format can only save vectors with integer elements; 1 float entries were truncated to integer value\n",
            "2019-12-25 06:26:16,751 : INFO : saving LowCorpus index to /tmp/corpus.low.index\n"
          ],
          "name": "stderr"
        }
      ]
    },
    {
      "cell_type": "code",
      "metadata": {
        "id": "76kbLd05s8jK",
        "colab_type": "code",
        "outputId": "44e5d92b-cb51-4c03-e357-e06bb6687374",
        "colab": {
          "base_uri": "https://localhost:8080/",
          "height": 122
        }
      },
      "source": [
        "corpus = corpora.MmCorpus(os.path.join(TEMP_FOLDER, 'corpus.mm'))"
      ],
      "execution_count": 0,
      "outputs": [
        {
          "output_type": "stream",
          "text": [
            "/usr/local/lib/python3.6/dist-packages/smart_open/smart_open_lib.py:402: UserWarning: This function is deprecated, use smart_open.open instead. See the migration notes for details: https://github.com/RaRe-Technologies/smart_open/blob/master/README.rst#migrating-to-the-new-open-function\n",
            "  'See the migration notes for details: %s' % _MIGRATION_NOTES_URL\n",
            "2019-12-25 06:26:21,514 : INFO : loaded corpus index from /tmp/corpus.mm.index\n",
            "2019-12-25 06:26:21,515 : INFO : initializing cython corpus reader from /tmp/corpus.mm\n",
            "2019-12-25 06:26:21,516 : INFO : accepted corpus with 2 documents, 2 features, 1 non-zero entries\n"
          ],
          "name": "stderr"
        }
      ]
    },
    {
      "cell_type": "code",
      "metadata": {
        "id": "ydFOUS4-s8jN",
        "colab_type": "code",
        "outputId": "02e51bf0-c882-4caa-cd7d-5cfbb9f7130b",
        "colab": {
          "base_uri": "https://localhost:8080/",
          "height": 34
        }
      },
      "source": [
        "print(corpus)"
      ],
      "execution_count": 0,
      "outputs": [
        {
          "output_type": "stream",
          "text": [
            "MmCorpus(2 documents, 2 features, 1 non-zero entries)\n"
          ],
          "name": "stdout"
        }
      ]
    },
    {
      "cell_type": "code",
      "metadata": {
        "id": "oVMKssRes8jP",
        "colab_type": "code",
        "outputId": "d4dad42f-90e3-45b8-9265-6b1c7065277c",
        "colab": {
          "base_uri": "https://localhost:8080/",
          "height": 88
        }
      },
      "source": [
        "# one way of printing a corpus: load it entirely into memory\n",
        "print(list(corpus))  # calling list() will convert any sequence to a plain Python list"
      ],
      "execution_count": 0,
      "outputs": [
        {
          "output_type": "stream",
          "text": [
            "[[(1, 0.5)], []]\n"
          ],
          "name": "stdout"
        },
        {
          "output_type": "stream",
          "text": [
            "/usr/local/lib/python3.6/dist-packages/smart_open/smart_open_lib.py:402: UserWarning: This function is deprecated, use smart_open.open instead. See the migration notes for details: https://github.com/RaRe-Technologies/smart_open/blob/master/README.rst#migrating-to-the-new-open-function\n",
            "  'See the migration notes for details: %s' % _MIGRATION_NOTES_URL\n"
          ],
          "name": "stderr"
        }
      ]
    },
    {
      "cell_type": "code",
      "metadata": {
        "id": "5ecH08MSs8jT",
        "colab_type": "code",
        "outputId": "789970ab-a6c9-4a6f-f88d-857494c7d484",
        "colab": {
          "base_uri": "https://localhost:8080/",
          "height": 105
        }
      },
      "source": [
        "# another way of doing it: print one document at a time, making use of the streaming interface\n",
        "for doc in corpus:\n",
        "    print(doc)"
      ],
      "execution_count": 0,
      "outputs": [
        {
          "output_type": "stream",
          "text": [
            "[(1, 0.5)]\n",
            "[]\n"
          ],
          "name": "stdout"
        },
        {
          "output_type": "stream",
          "text": [
            "/usr/local/lib/python3.6/dist-packages/smart_open/smart_open_lib.py:402: UserWarning: This function is deprecated, use smart_open.open instead. See the migration notes for details: https://github.com/RaRe-Technologies/smart_open/blob/master/README.rst#migrating-to-the-new-open-function\n",
            "  'See the migration notes for details: %s' % _MIGRATION_NOTES_URL\n"
          ],
          "name": "stderr"
        }
      ]
    },
    {
      "cell_type": "code",
      "metadata": {
        "scrolled": true,
        "id": "HMR8gFo2s8jV",
        "colab_type": "code",
        "outputId": "b6fcf7d4-6f04-435d-ab35-c97232c5e9c8",
        "colab": {
          "base_uri": "https://localhost:8080/",
          "height": 139
        }
      },
      "source": [
        "corpora.BleiCorpus.serialize(os.path.join(TEMP_FOLDER, 'corpus.lda-c'), corpus)"
      ],
      "execution_count": 0,
      "outputs": [
        {
          "output_type": "stream",
          "text": [
            "2019-12-25 06:26:34,923 : INFO : no word id mapping provided; initializing from corpus\n",
            "/usr/local/lib/python3.6/dist-packages/smart_open/smart_open_lib.py:402: UserWarning: This function is deprecated, use smart_open.open instead. See the migration notes for details: https://github.com/RaRe-Technologies/smart_open/blob/master/README.rst#migrating-to-the-new-open-function\n",
            "  'See the migration notes for details: %s' % _MIGRATION_NOTES_URL\n",
            "2019-12-25 06:26:34,926 : INFO : storing corpus in Blei's LDA-C format into /tmp/corpus.lda-c\n",
            "2019-12-25 06:26:34,927 : INFO : saving vocabulary of 2 words to /tmp/corpus.lda-c.vocab\n",
            "2019-12-25 06:26:34,928 : INFO : saving BleiCorpus index to /tmp/corpus.lda-c.index\n"
          ],
          "name": "stderr"
        }
      ]
    },
    {
      "cell_type": "markdown",
      "metadata": {
        "id": "CEZTtOa7s8jZ",
        "colab_type": "text"
      },
      "source": [
        "Compatibility with NumPy and SciPy\n",
        "Gensim also contains efficient utility functions to help converting from/to numpy matrices:"
      ]
    },
    {
      "cell_type": "code",
      "metadata": {
        "id": "9jl8iSB3s8ja",
        "colab_type": "code",
        "outputId": "ece29cc6-096f-4670-d9b9-558e75535c6e",
        "colab": {
          "base_uri": "https://localhost:8080/",
          "height": 71
        }
      },
      "source": [
        "import gensim\n",
        "import numpy as np\n",
        "numpy_matrix = np.random.randint(10, size=[5,2])\n",
        "corpus = gensim.matutils.Dense2Corpus(numpy_matrix)\n",
        "numpy_matrix_dense = gensim.matutils.corpus2dense(corpus, num_terms=10)"
      ],
      "execution_count": 0,
      "outputs": [
        {
          "output_type": "stream",
          "text": [
            "/usr/local/lib/python3.6/dist-packages/gensim/matutils.py:502: FutureWarning: arrays to stack must be passed as a \"sequence\" type such as list or tuple. Support for non-sequence iterables such as generators is deprecated as of NumPy 1.16 and will raise an error in the future.\n",
            "  result = np.column_stack(sparse2full(doc, num_terms) for doc in corpus)\n"
          ],
          "name": "stderr"
        }
      ]
    },
    {
      "cell_type": "code",
      "metadata": {
        "id": "YFcfYXFYs8jd",
        "colab_type": "code",
        "colab": {}
      },
      "source": [
        "import scipy.sparse\n",
        "scipy_sparse_matrix = scipy.sparse.random(5,2)\n",
        "corpus = gensim.matutils.Sparse2Corpus(scipy_sparse_matrix)\n",
        "scipy_csc_matrix = gensim.matutils.corpus2csc(corpus)"
      ],
      "execution_count": 0,
      "outputs": []
    },
    {
      "cell_type": "markdown",
      "metadata": {
        "id": "NmNiDOAFs8jg",
        "colab_type": "text"
      },
      "source": [
        "Topics and Transformation"
      ]
    },
    {
      "cell_type": "code",
      "metadata": {
        "id": "xloi5n_es8jh",
        "colab_type": "code",
        "outputId": "deab3518-9205-4f7e-9b7f-40df8f1a7169",
        "colab": {
          "base_uri": "https://localhost:8080/",
          "height": 34
        }
      },
      "source": [
        "import logging\n",
        "\n",
        "logging.basicConfig(format='%(asctime)s : %(levelname)s : %(message)s', level=logging.INFO)\n",
        "import tempfile\n",
        "import os.path\n",
        "\n",
        "TEMP_FOLDER = tempfile.gettempdir()\n",
        "print('Folder \"{}\" will be used to save temporary dictionary and corpus.'.format(TEMP_FOLDER))"
      ],
      "execution_count": 0,
      "outputs": [
        {
          "output_type": "stream",
          "text": [
            "Folder \"/tmp\" will be used to save temporary dictionary and corpus.\n"
          ],
          "name": "stdout"
        }
      ]
    },
    {
      "cell_type": "code",
      "metadata": {
        "id": "VUQO1jEls8jj",
        "colab_type": "code",
        "outputId": "002b431d-a726-4f3b-d31c-2cd963f3e2e9",
        "colab": {
          "base_uri": "https://localhost:8080/",
          "height": 173
        }
      },
      "source": [
        "from gensim import corpora, models, similarities\n",
        "if os.path.isfile(os.path.join(TEMP_FOLDER, 'deerwester.dict')):\n",
        "    dictionary = corpora.Dictionary.load(os.path.join(TEMP_FOLDER, 'deerwester.dict'))\n",
        "    corpus = corpora.MmCorpus(os.path.join(TEMP_FOLDER, 'deerwester.mm'))\n",
        "    print(\"Used files generated from first tutorial\")\n",
        "else:\n",
        "    print(\"Please run first tutorial to generate data set\")"
      ],
      "execution_count": 0,
      "outputs": [
        {
          "output_type": "stream",
          "text": [
            "2019-12-25 06:26:55,128 : INFO : loading Dictionary object from /tmp/deerwester.dict\n",
            "/usr/local/lib/python3.6/dist-packages/smart_open/smart_open_lib.py:402: UserWarning: This function is deprecated, use smart_open.open instead. See the migration notes for details: https://github.com/RaRe-Technologies/smart_open/blob/master/README.rst#migrating-to-the-new-open-function\n",
            "  'See the migration notes for details: %s' % _MIGRATION_NOTES_URL\n",
            "2019-12-25 06:26:55,132 : INFO : loaded /tmp/deerwester.dict\n",
            "2019-12-25 06:26:55,134 : INFO : loaded corpus index from /tmp/deerwester.mm.index\n",
            "2019-12-25 06:26:55,135 : INFO : initializing cython corpus reader from /tmp/deerwester.mm\n",
            "2019-12-25 06:26:55,136 : INFO : accepted corpus with 9 documents, 12 features, 28 non-zero entries\n"
          ],
          "name": "stderr"
        },
        {
          "output_type": "stream",
          "text": [
            "Used files generated from first tutorial\n"
          ],
          "name": "stdout"
        }
      ]
    },
    {
      "cell_type": "code",
      "metadata": {
        "id": "w9hR6W4ks8jl",
        "colab_type": "code",
        "outputId": "7524e1bf-34e8-44fd-f9c6-de640f4a79f0",
        "colab": {
          "base_uri": "https://localhost:8080/",
          "height": 68
        }
      },
      "source": [
        "print(dictionary[0])\n",
        "print(dictionary[1])\n",
        "print(dictionary[2])"
      ],
      "execution_count": 0,
      "outputs": [
        {
          "output_type": "stream",
          "text": [
            "computer\n",
            "human\n",
            "interface\n"
          ],
          "name": "stdout"
        }
      ]
    },
    {
      "cell_type": "code",
      "metadata": {
        "id": "bk009K-Ps8jn",
        "colab_type": "code",
        "outputId": "1b508891-b30e-400a-c903-11cb6a045b38",
        "colab": {
          "base_uri": "https://localhost:8080/",
          "height": 122
        }
      },
      "source": [
        "tfidf = models.TfidfModel(corpus) # step 1 -- initialize a model"
      ],
      "execution_count": 0,
      "outputs": [
        {
          "output_type": "stream",
          "text": [
            "2019-12-25 06:27:03,476 : INFO : collecting document frequencies\n",
            "/usr/local/lib/python3.6/dist-packages/smart_open/smart_open_lib.py:402: UserWarning: This function is deprecated, use smart_open.open instead. See the migration notes for details: https://github.com/RaRe-Technologies/smart_open/blob/master/README.rst#migrating-to-the-new-open-function\n",
            "  'See the migration notes for details: %s' % _MIGRATION_NOTES_URL\n",
            "2019-12-25 06:27:03,478 : INFO : PROGRESS: processing document #0\n",
            "2019-12-25 06:27:03,480 : INFO : calculating IDF weights for 9 documents and 11 features (28 matrix non-zeros)\n"
          ],
          "name": "stderr"
        }
      ]
    },
    {
      "cell_type": "code",
      "metadata": {
        "id": "dt59HFX-s8jq",
        "colab_type": "code",
        "outputId": "e1907ac6-c19c-45a3-e13c-5f31b261bd6f",
        "colab": {
          "base_uri": "https://localhost:8080/",
          "height": 34
        }
      },
      "source": [
        "doc_bow = [(0, 1), (1, 1)]\n",
        "print(tfidf[doc_bow]) # step 2 -- use the model to transform vectors"
      ],
      "execution_count": 0,
      "outputs": [
        {
          "output_type": "stream",
          "text": [
            "[(0, 0.7071067811865476), (1, 0.7071067811865476)]\n"
          ],
          "name": "stdout"
        }
      ]
    },
    {
      "cell_type": "code",
      "metadata": {
        "id": "s0zrImm9s8jt",
        "colab_type": "code",
        "outputId": "967a1234-4266-4129-d03f-bc6205e3a7e5",
        "colab": {
          "base_uri": "https://localhost:8080/",
          "height": 224
        }
      },
      "source": [
        "corpus_tfidf = tfidf[corpus]\n",
        "for doc in corpus_tfidf:\n",
        "    print(doc)"
      ],
      "execution_count": 0,
      "outputs": [
        {
          "output_type": "stream",
          "text": [
            "[(0, 0.5773502691896257), (1, 0.5773502691896257), (2, 0.5773502691896257)]\n",
            "[(0, 0.44424552527467476), (3, 0.44424552527467476), (4, 0.44424552527467476), (5, 0.3244870206138555), (6, 0.44424552527467476), (7, 0.3244870206138555)]\n",
            "[(2, 0.5710059809418182), (5, 0.4170757362022777), (7, 0.4170757362022777), (8, 0.5710059809418182)]\n",
            "[(1, 0.49182558987264147), (5, 0.7184811607083769), (8, 0.49182558987264147)]\n",
            "[(3, 0.6282580468670046), (6, 0.6282580468670046), (7, 0.45889394536615247)]\n",
            "[(9, 1.0)]\n",
            "[(9, 0.7071067811865475), (10, 0.7071067811865475)]\n",
            "[(9, 0.5080429008916749), (10, 0.5080429008916749), (11, 0.695546419520037)]\n",
            "[(4, 0.6282580468670046), (10, 0.45889394536615247), (11, 0.6282580468670046)]\n"
          ],
          "name": "stdout"
        },
        {
          "output_type": "stream",
          "text": [
            "/usr/local/lib/python3.6/dist-packages/smart_open/smart_open_lib.py:402: UserWarning: This function is deprecated, use smart_open.open instead. See the migration notes for details: https://github.com/RaRe-Technologies/smart_open/blob/master/README.rst#migrating-to-the-new-open-function\n",
            "  'See the migration notes for details: %s' % _MIGRATION_NOTES_URL\n"
          ],
          "name": "stderr"
        }
      ]
    },
    {
      "cell_type": "code",
      "metadata": {
        "id": "Z88xvwN0s8ju",
        "colab_type": "code",
        "outputId": "ad2b4df5-32c4-456e-e231-d3a20a7d5354",
        "colab": {
          "base_uri": "https://localhost:8080/",
          "height": 275
        }
      },
      "source": [
        "lsi = models.LsiModel(corpus_tfidf, id2word=dictionary, num_topics=2) # initialize an LSI transformation\n",
        "corpus_lsi = lsi[corpus_tfidf] # create a double wrapper over the original corpus: bow->tfidf->fold-in-lsi"
      ],
      "execution_count": 0,
      "outputs": [
        {
          "output_type": "stream",
          "text": [
            "2019-12-25 06:27:13,328 : INFO : using serial LSI version on this node\n",
            "2019-12-25 06:27:13,330 : INFO : updating model with new documents\n",
            "/usr/local/lib/python3.6/dist-packages/smart_open/smart_open_lib.py:402: UserWarning: This function is deprecated, use smart_open.open instead. See the migration notes for details: https://github.com/RaRe-Technologies/smart_open/blob/master/README.rst#migrating-to-the-new-open-function\n",
            "  'See the migration notes for details: %s' % _MIGRATION_NOTES_URL\n",
            "2019-12-25 06:27:13,333 : INFO : preparing a new chunk of documents\n",
            "2019-12-25 06:27:13,336 : INFO : using 100 extra samples and 2 power iterations\n",
            "2019-12-25 06:27:13,337 : INFO : 1st phase: constructing (12, 102) action matrix\n",
            "2019-12-25 06:27:13,342 : INFO : orthonormalizing (12, 102) action matrix\n",
            "2019-12-25 06:27:13,360 : INFO : 2nd phase: running dense svd on (12, 9) matrix\n",
            "2019-12-25 06:27:13,364 : INFO : computing the final decomposition\n",
            "2019-12-25 06:27:13,365 : INFO : keeping 2 factors (discarding 47.565% of energy spectrum)\n",
            "2019-12-25 06:27:13,370 : INFO : processed documents up to #9\n",
            "2019-12-25 06:27:13,373 : INFO : topic #0(1.594): 0.703*\"trees\" + 0.538*\"graph\" + 0.402*\"minors\" + 0.187*\"survey\" + 0.061*\"system\" + 0.060*\"response\" + 0.060*\"time\" + 0.058*\"user\" + 0.049*\"computer\" + 0.035*\"interface\"\n",
            "2019-12-25 06:27:13,374 : INFO : topic #1(1.476): -0.460*\"system\" + -0.373*\"user\" + -0.332*\"eps\" + -0.328*\"interface\" + -0.320*\"response\" + -0.320*\"time\" + -0.293*\"computer\" + -0.280*\"human\" + -0.171*\"survey\" + 0.161*\"trees\"\n"
          ],
          "name": "stderr"
        }
      ]
    },
    {
      "cell_type": "code",
      "metadata": {
        "id": "_JZ7h_Eks8jx",
        "colab_type": "code",
        "outputId": "e8668328-e4ef-4908-e58e-47349c343edd",
        "colab": {
          "base_uri": "https://localhost:8080/",
          "height": 139
        }
      },
      "source": [
        "lsi.print_topics(2)"
      ],
      "execution_count": 0,
      "outputs": [
        {
          "output_type": "stream",
          "text": [
            "2019-12-25 06:27:17,329 : INFO : topic #0(1.594): 0.703*\"trees\" + 0.538*\"graph\" + 0.402*\"minors\" + 0.187*\"survey\" + 0.061*\"system\" + 0.060*\"response\" + 0.060*\"time\" + 0.058*\"user\" + 0.049*\"computer\" + 0.035*\"interface\"\n",
            "2019-12-25 06:27:17,331 : INFO : topic #1(1.476): -0.460*\"system\" + -0.373*\"user\" + -0.332*\"eps\" + -0.328*\"interface\" + -0.320*\"response\" + -0.320*\"time\" + -0.293*\"computer\" + -0.280*\"human\" + -0.171*\"survey\" + 0.161*\"trees\"\n"
          ],
          "name": "stderr"
        },
        {
          "output_type": "execute_result",
          "data": {
            "text/plain": [
              "[(0,\n",
              "  '0.703*\"trees\" + 0.538*\"graph\" + 0.402*\"minors\" + 0.187*\"survey\" + 0.061*\"system\" + 0.060*\"response\" + 0.060*\"time\" + 0.058*\"user\" + 0.049*\"computer\" + 0.035*\"interface\"'),\n",
              " (1,\n",
              "  '-0.460*\"system\" + -0.373*\"user\" + -0.332*\"eps\" + -0.328*\"interface\" + -0.320*\"response\" + -0.320*\"time\" + -0.293*\"computer\" + -0.280*\"human\" + -0.171*\"survey\" + 0.161*\"trees\"')]"
            ]
          },
          "metadata": {
            "tags": []
          },
          "execution_count": 36
        }
      ]
    },
    {
      "cell_type": "code",
      "metadata": {
        "id": "4u5o-E6Zs8j1",
        "colab_type": "code",
        "outputId": "4b08880b-d051-475d-f4ee-7f99bed66b51",
        "colab": {
          "base_uri": "https://localhost:8080/",
          "height": 224
        }
      },
      "source": [
        "for doc in corpus_lsi: # both bow->tfidf and tfidf->lsi transformations are actually executed here, on the fly\n",
        "    print(doc)"
      ],
      "execution_count": 0,
      "outputs": [
        {
          "output_type": "stream",
          "text": [
            "[(0, 0.06600783396090554), (1, -0.5200703306361844)]\n",
            "[(0, 0.19667592859142888), (1, -0.7609563167700034)]\n",
            "[(0, 0.08992639972446784), (1, -0.7241860626752504)]\n",
            "[(0, 0.07585847652178464), (1, -0.6320551586003422)]\n",
            "[(0, 0.1015029918498045), (1, -0.573730848300295)]\n",
            "[(0, 0.7032108939378295), (1, 0.16115180214026117)]\n",
            "[(0, 0.8774787673119817), (1, 0.16758906864659823)]\n",
            "[(0, 0.9098624686818568), (1, 0.14086553628719467)]\n",
            "[(0, 0.6165825350569287), (1, -0.05392907566389046)]\n"
          ],
          "name": "stdout"
        },
        {
          "output_type": "stream",
          "text": [
            "/usr/local/lib/python3.6/dist-packages/smart_open/smart_open_lib.py:402: UserWarning: This function is deprecated, use smart_open.open instead. See the migration notes for details: https://github.com/RaRe-Technologies/smart_open/blob/master/README.rst#migrating-to-the-new-open-function\n",
            "  'See the migration notes for details: %s' % _MIGRATION_NOTES_URL\n"
          ],
          "name": "stderr"
        }
      ]
    },
    {
      "cell_type": "code",
      "metadata": {
        "id": "VOqfyXOqs8j4",
        "colab_type": "code",
        "outputId": "a3dc6276-9031-47d0-d6e3-ee35aee0330c",
        "colab": {
          "base_uri": "https://localhost:8080/",
          "height": 173
        }
      },
      "source": [
        "lsi.save(os.path.join(TEMP_FOLDER, 'model.lsi')) # same for tfidf, lda, ...\n",
        "#lsi = models.LsiModel.load(os.path.join(TEMP_FOLDER, 'model.lsi'))"
      ],
      "execution_count": 0,
      "outputs": [
        {
          "output_type": "stream",
          "text": [
            "2019-12-25 06:27:25,454 : INFO : saving Projection object under /tmp/model.lsi.projection, separately None\n",
            "/usr/local/lib/python3.6/dist-packages/smart_open/smart_open_lib.py:402: UserWarning: This function is deprecated, use smart_open.open instead. See the migration notes for details: https://github.com/RaRe-Technologies/smart_open/blob/master/README.rst#migrating-to-the-new-open-function\n",
            "  'See the migration notes for details: %s' % _MIGRATION_NOTES_URL\n",
            "2019-12-25 06:27:25,457 : INFO : saved /tmp/model.lsi.projection\n",
            "2019-12-25 06:27:25,458 : INFO : saving LsiModel object under /tmp/model.lsi, separately None\n",
            "2019-12-25 06:27:25,460 : INFO : not storing attribute projection\n",
            "2019-12-25 06:27:25,462 : INFO : not storing attribute dispatcher\n",
            "2019-12-25 06:27:25,467 : INFO : saved /tmp/model.lsi\n"
          ],
          "name": "stderr"
        }
      ]
    },
    {
      "cell_type": "code",
      "metadata": {
        "id": "2PV8xYBTs8j6",
        "colab_type": "code",
        "colab": {}
      },
      "source": [
        ""
      ],
      "execution_count": 0,
      "outputs": []
    }
  ]
}