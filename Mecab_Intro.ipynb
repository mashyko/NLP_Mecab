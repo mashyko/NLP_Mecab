{
  "nbformat": 4,
  "nbformat_minor": 0,
  "metadata": {
    "colab": {
      "name": "Mecab_Intro.ipynb",
      "provenance": [],
      "collapsed_sections": [],
      "include_colab_link": true
    },
    "kernelspec": {
      "name": "python3",
      "display_name": "Python 3"
    }
  },
  "cells": [
    {
      "cell_type": "markdown",
      "metadata": {
        "id": "view-in-github",
        "colab_type": "text"
      },
      "source": [
        "<a href=\"https://colab.research.google.com/github/mashyko/NLP_Mecab/blob/master/Mecab_Intro.ipynb\" target=\"_parent\"><img src=\"https://colab.research.google.com/assets/colab-badge.svg\" alt=\"Open In Colab\"/></a>"
      ]
    },
    {
      "cell_type": "code",
      "metadata": {
        "id": "kq1gRUxthjfD",
        "colab_type": "code",
        "outputId": "c4777c0d-4cd8-48cc-d779-6b18ffdea9a9",
        "colab": {
          "base_uri": "https://localhost:8080/",
          "height": 34
        }
      },
      "source": [
        "!git clone https://github.com/taku910/mecab.git\n"
      ],
      "execution_count": 0,
      "outputs": [
        {
          "output_type": "stream",
          "text": [
            "fatal: destination path 'mecab' already exists and is not an empty directory.\n"
          ],
          "name": "stdout"
        }
      ]
    },
    {
      "cell_type": "code",
      "metadata": {
        "id": "2DHyF_QphwE4",
        "colab_type": "code",
        "outputId": "495c7615-4a03-484c-9c0e-c8e6fd8a0c07",
        "colab": {
          "base_uri": "https://localhost:8080/",
          "height": 34
        }
      },
      "source": [
        "!pip install mecab-python3\n"
      ],
      "execution_count": 0,
      "outputs": [
        {
          "output_type": "stream",
          "text": [
            "Requirement already satisfied: mecab-python3 in /usr/local/lib/python3.6/dist-packages (0.996.2)\n"
          ],
          "name": "stdout"
        }
      ]
    },
    {
      "cell_type": "code",
      "metadata": {
        "id": "vBfMvudNh_JP",
        "colab_type": "code",
        "outputId": "7978628b-a223-4b0c-f08b-6afc2d3f16aa",
        "colab": {
          "base_uri": "https://localhost:8080/",
          "height": 799
        }
      },
      "source": [
        "import MeCab\n",
        "sent =\"気温が上がるとどうしても比例するのが電力使用量だ。９日は、全国の電力会社のうち８社の管内で、いずれも最大電力使用量が今夏最高を記録した。\"\n",
        "tagger = MeCab.Tagger()\n",
        "print(tagger.parse(sent))"
      ],
      "execution_count": 0,
      "outputs": [
        {
          "output_type": "stream",
          "text": [
            "気温\t名詞,一般,*,*,*,*,気温,キオン,キオン\n",
            "が\t助詞,格助詞,一般,*,*,*,が,ガ,ガ\n",
            "上がる\t動詞,自立,*,*,五段・ラ行,基本形,上がる,アガル,アガル\n",
            "と\t助詞,接続助詞,*,*,*,*,と,ト,ト\n",
            "どうしても\t副詞,一般,*,*,*,*,どうしても,ドウシテモ,ドーシテモ\n",
            "比例\t名詞,サ変接続,*,*,*,*,比例,ヒレイ,ヒレイ\n",
            "する\t動詞,自立,*,*,サ変・スル,基本形,する,スル,スル\n",
            "の\t名詞,非自立,一般,*,*,*,の,ノ,ノ\n",
            "が\t助詞,格助詞,一般,*,*,*,が,ガ,ガ\n",
            "電力\t名詞,一般,*,*,*,*,電力,デンリョク,デンリョク\n",
            "使用\t名詞,サ変接続,*,*,*,*,使用,シヨウ,シヨー\n",
            "量\t名詞,接尾,一般,*,*,*,量,リョウ,リョウ\n",
            "だ\t助動詞,*,*,*,特殊・ダ,基本形,だ,ダ,ダ\n",
            "。\t記号,句点,*,*,*,*,。,。,。\n",
            "９\t名詞,数,*,*,*,*,９,キュウ,キュー\n",
            "日\t名詞,接尾,助数詞,*,*,*,日,ニチ,ニチ\n",
            "は\t助詞,係助詞,*,*,*,*,は,ハ,ワ\n",
            "、\t記号,読点,*,*,*,*,、,、,、\n",
            "全国\t名詞,一般,*,*,*,*,全国,ゼンコク,ゼンコク\n",
            "の\t助詞,連体化,*,*,*,*,の,ノ,ノ\n",
            "電力\t名詞,一般,*,*,*,*,電力,デンリョク,デンリョク\n",
            "会社\t名詞,一般,*,*,*,*,会社,カイシャ,カイシャ\n",
            "の\t助詞,連体化,*,*,*,*,の,ノ,ノ\n",
            "うち\t名詞,非自立,副詞可能,*,*,*,うち,ウチ,ウチ\n",
            "８\t名詞,数,*,*,*,*,８,ハチ,ハチ\n",
            "社\t名詞,接尾,助数詞,*,*,*,社,シャ,シャ\n",
            "の\t助詞,連体化,*,*,*,*,の,ノ,ノ\n",
            "管内\t名詞,一般,*,*,*,*,管内,カンナイ,カンナイ\n",
            "で\t助詞,格助詞,一般,*,*,*,で,デ,デ\n",
            "、\t記号,読点,*,*,*,*,、,、,、\n",
            "いずれ\t名詞,代名詞,一般,*,*,*,いずれ,イズレ,イズレ\n",
            "も\t助詞,係助詞,*,*,*,*,も,モ,モ\n",
            "最大\t名詞,一般,*,*,*,*,最大,サイダイ,サイダイ\n",
            "電力\t名詞,一般,*,*,*,*,電力,デンリョク,デンリョク\n",
            "使用\t名詞,サ変接続,*,*,*,*,使用,シヨウ,シヨー\n",
            "量\t名詞,接尾,一般,*,*,*,量,リョウ,リョウ\n",
            "が\t助詞,格助詞,一般,*,*,*,が,ガ,ガ\n",
            "今夏\t名詞,副詞可能,*,*,*,*,今夏,コンカ,コンカ\n",
            "最高\t名詞,一般,*,*,*,*,最高,サイコウ,サイコー\n",
            "を\t助詞,格助詞,一般,*,*,*,を,ヲ,ヲ\n",
            "記録\t名詞,サ変接続,*,*,*,*,記録,キロク,キロク\n",
            "し\t動詞,自立,*,*,サ変・スル,連用形,する,シ,シ\n",
            "た\t助動詞,*,*,*,特殊・タ,基本形,た,タ,タ\n",
            "。\t記号,句点,*,*,*,*,。,。,。\n",
            "EOS\n",
            "\n"
          ],
          "name": "stdout"
        }
      ]
    },
    {
      "cell_type": "code",
      "metadata": {
        "id": "ghUCwHWpj72u",
        "colab_type": "code",
        "colab": {}
      },
      "source": [
        "!apt install mecab-ipadic"
      ],
      "execution_count": 0,
      "outputs": []
    },
    {
      "cell_type": "code",
      "metadata": {
        "id": "u76ewinykLfe",
        "colab_type": "code",
        "colab": {}
      },
      "source": [
        ""
      ],
      "execution_count": 0,
      "outputs": []
    }
  ]
}