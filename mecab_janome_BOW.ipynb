{
  "nbformat": 4,
  "nbformat_minor": 0,
  "metadata": {
    "kernelspec": {
      "display_name": "Python 3",
      "language": "python",
      "name": "python3"
    },
    "language_info": {
      "codemirror_mode": {
        "name": "ipython",
        "version": 3
      },
      "file_extension": ".py",
      "mimetype": "text/x-python",
      "name": "python",
      "nbconvert_exporter": "python",
      "pygments_lexer": "ipython3",
      "version": "3.6.5"
    },
    "colab": {
      "name": "mecab_janome_BOW.ipynb",
      "provenance": [],
      "collapsed_sections": [],
      "include_colab_link": true
    }
  },
  "cells": [
    {
      "cell_type": "markdown",
      "metadata": {
        "id": "view-in-github",
        "colab_type": "text"
      },
      "source": [
        "<a href=\"https://colab.research.google.com/github/mashyko/NLP_Mecab/blob/master/mecab_janome_BOW.ipynb\" target=\"_parent\"><img src=\"https://colab.research.google.com/assets/colab-badge.svg\" alt=\"Open In Colab\"/></a>"
      ]
    },
    {
      "cell_type": "markdown",
      "metadata": {
        "id": "pOEIoxzq3zzh",
        "colab_type": "text"
      },
      "source": [
        "#日本語文書の単語トークン化：語彙の辞書とBOW（Bag-Of-Words）のOne-hot 表現"
      ]
    },
    {
      "cell_type": "markdown",
      "metadata": {
        "id": "VehuDNJEDdbE",
        "colab_type": "text"
      },
      "source": [
        "mecab-python を用いた例"
      ]
    },
    {
      "cell_type": "code",
      "metadata": {
        "id": "f1tKEDdG2d65",
        "colab_type": "code",
        "outputId": "65ec8388-ab0b-4619-fba1-986e01f2af34",
        "colab": {
          "base_uri": "https://localhost:8080/",
          "height": 122
        }
      },
      "source": [
        "!pip install mecab-python3"
      ],
      "execution_count": 1,
      "outputs": [
        {
          "output_type": "stream",
          "text": [
            "Collecting mecab-python3\n",
            "\u001b[?25l  Downloading https://files.pythonhosted.org/packages/18/49/b55a839a77189042960bf96490640c44816073f917d489acbc5d79fa5cc3/mecab_python3-0.996.5-cp36-cp36m-manylinux2010_x86_64.whl (17.1MB)\n",
            "\u001b[K     |████████████████████████████████| 17.1MB 230kB/s \n",
            "\u001b[?25hInstalling collected packages: mecab-python3\n",
            "Successfully installed mecab-python3-0.996.5\n"
          ],
          "name": "stdout"
        }
      ]
    },
    {
      "cell_type": "markdown",
      "metadata": {
        "id": "xZX2v_JeGCEy",
        "colab_type": "text"
      },
      "source": [
        "mecab を用いて形態素解析をします"
      ]
    },
    {
      "cell_type": "code",
      "metadata": {
        "id": "qpzTqPij0Pzu",
        "colab_type": "code",
        "outputId": "91915b4f-ba29-4733-c79c-55a60c21657d",
        "colab": {
          "base_uri": "https://localhost:8080/",
          "height": 68
        }
      },
      "source": [
        "import MeCab\n",
        "sentence = '私はワインを飲みますが、彼女はワインを飲みません。'\n",
        "\n",
        "#分かち書き\n",
        "tagger = MeCab.Tagger(\"-Owakati\")\n",
        "\n",
        "text = tagger.parse(sentence)\n",
        "print('text = ',text)\n",
        "\n",
        "text = text.replace('。','\\n')\n",
        "text = text.replace('、','\\n') \n",
        "\n",
        "words =text.split(' ')\n",
        "print (words)\n",
        "\n"
      ],
      "execution_count": 2,
      "outputs": [
        {
          "output_type": "stream",
          "text": [
            "text =  私 は ワイン を 飲み ます が 、 彼女 は ワイン を 飲み ませ ん 。 \n",
            "\n",
            "['私', 'は', 'ワイン', 'を', '飲み', 'ます', 'が', '\\n', '彼女', 'は', 'ワイン', 'を', '飲み', 'ませ', 'ん', '\\n', '\\n']\n"
          ],
          "name": "stdout"
        }
      ]
    },
    {
      "cell_type": "markdown",
      "metadata": {
        "id": "X-J7FZZRGN2_",
        "colab_type": "text"
      },
      "source": [
        "トークン（単語）を数値化します"
      ]
    },
    {
      "cell_type": "code",
      "metadata": {
        "scrolled": true,
        "id": "iRmKGdsD0Pzw",
        "colab_type": "code",
        "outputId": "f56d886f-635e-41a4-8221-853759b41b39",
        "colab": {
          "base_uri": "https://localhost:8080/",
          "height": 119
        }
      },
      "source": [
        "import numpy as np\n",
        "\n",
        "word_to_id = {}\n",
        "id_to_word = {}\n",
        "for word in words:\n",
        "    if word not in word_to_id:\n",
        "        new_id = len(word_to_id)\n",
        "        word_to_id[word] = new_id\n",
        "        id_to_word[new_id] = word\n",
        "\n",
        "corpus = np.array([word_to_id[w] for w in words])\n",
        "\n",
        "print ('id_to_word \\n', id_to_word)\n",
        "print ('word_to_id \\n', word_to_id)\n",
        "print ('corpus \\n',corpus)"
      ],
      "execution_count": 3,
      "outputs": [
        {
          "output_type": "stream",
          "text": [
            "id_to_word \n",
            " {0: '私', 1: 'は', 2: 'ワイン', 3: 'を', 4: '飲み', 5: 'ます', 6: 'が', 7: '\\n', 8: '彼女', 9: 'ませ', 10: 'ん'}\n",
            "word_to_id \n",
            " {'私': 0, 'は': 1, 'ワイン': 2, 'を': 3, '飲み': 4, 'ます': 5, 'が': 6, '\\n': 7, '彼女': 8, 'ませ': 9, 'ん': 10}\n",
            "corpus \n",
            " [ 0  1  2  3  4  5  6  7  8  1  2  3  4  9 10  7  7]\n"
          ],
          "name": "stdout"
        }
      ]
    },
    {
      "cell_type": "markdown",
      "metadata": {
        "id": "TD0DQ86AGbYp",
        "colab_type": "text"
      },
      "source": [
        "one-hot 表現を作成します。"
      ]
    },
    {
      "cell_type": "code",
      "metadata": {
        "id": "O6mxcThq0Pzy",
        "colab_type": "code",
        "outputId": "da730e78-f35e-48bf-b8c4-24ca9b3c5d72",
        "colab": {
          "base_uri": "https://localhost:8080/",
          "height": 527
        }
      },
      "source": [
        "vocab_size = len(word_to_id)\n",
        "N = corpus.shape[0]\n",
        "\n",
        "one_hot = np.zeros((N, vocab_size), dtype=np.int32)\n",
        "for idx, word_id in enumerate(corpus):\n",
        "    one_hot[idx, word_id] = 1\n",
        "\n",
        "\n",
        "print ('one-hot 表現 \\n',one_hot)\n",
        "\n",
        "\n",
        "def create_co_matrix(corpus, vocab_size, window_size=1):\n",
        "    '''共起行列の作成\n",
        "\n",
        "    :param corpus: コーパス（単語IDのリスト）\n",
        "    :param vocab_size:語彙数\n",
        "    :param window_size:ウィンドウサイズ（ウィンドウサイズが1のときは、単語の左右1単語がコンテキスト）\n",
        "    :return: 共起行列\n",
        "    '''\n",
        "    corpus_size = len(corpus)\n",
        "    co_matrix = np.zeros((vocab_size, vocab_size), dtype=np.int32)\n",
        "\n",
        "    for idx, word_id in enumerate(corpus):\n",
        "        for i in range(1, window_size + 1):\n",
        "            left_idx = idx - i\n",
        "            right_idx = idx + i\n",
        "\n",
        "            if left_idx >= 0:\n",
        "                left_word_id = corpus[left_idx]\n",
        "                co_matrix[word_id, left_word_id] += 1\n",
        "\n",
        "            if right_idx < corpus_size:\n",
        "                right_word_id = corpus[right_idx]\n",
        "                co_matrix[word_id, right_word_id] += 1\n",
        "\n",
        "    return co_matrix\n",
        "\n",
        "matrix = create_co_matrix(corpus, vocab_size, window_size=1)\n",
        "print ('co-matrix = \\n',matrix)"
      ],
      "execution_count": 4,
      "outputs": [
        {
          "output_type": "stream",
          "text": [
            "one-hot 表現 \n",
            " [[1 0 0 0 0 0 0 0 0 0 0]\n",
            " [0 1 0 0 0 0 0 0 0 0 0]\n",
            " [0 0 1 0 0 0 0 0 0 0 0]\n",
            " [0 0 0 1 0 0 0 0 0 0 0]\n",
            " [0 0 0 0 1 0 0 0 0 0 0]\n",
            " [0 0 0 0 0 1 0 0 0 0 0]\n",
            " [0 0 0 0 0 0 1 0 0 0 0]\n",
            " [0 0 0 0 0 0 0 1 0 0 0]\n",
            " [0 0 0 0 0 0 0 0 1 0 0]\n",
            " [0 1 0 0 0 0 0 0 0 0 0]\n",
            " [0 0 1 0 0 0 0 0 0 0 0]\n",
            " [0 0 0 1 0 0 0 0 0 0 0]\n",
            " [0 0 0 0 1 0 0 0 0 0 0]\n",
            " [0 0 0 0 0 0 0 0 0 1 0]\n",
            " [0 0 0 0 0 0 0 0 0 0 1]\n",
            " [0 0 0 0 0 0 0 1 0 0 0]\n",
            " [0 0 0 0 0 0 0 1 0 0 0]]\n",
            "co-matrix = \n",
            " [[0 1 0 0 0 0 0 0 0 0 0]\n",
            " [1 0 2 0 0 0 0 0 1 0 0]\n",
            " [0 2 0 2 0 0 0 0 0 0 0]\n",
            " [0 0 2 0 2 0 0 0 0 0 0]\n",
            " [0 0 0 2 0 1 0 0 0 1 0]\n",
            " [0 0 0 0 1 0 1 0 0 0 0]\n",
            " [0 0 0 0 0 1 0 1 0 0 0]\n",
            " [0 0 0 0 0 0 1 2 1 0 1]\n",
            " [0 1 0 0 0 0 0 1 0 0 0]\n",
            " [0 0 0 0 1 0 0 0 0 0 1]\n",
            " [0 0 0 0 0 0 0 1 0 1 0]]\n"
          ],
          "name": "stdout"
        }
      ]
    },
    {
      "cell_type": "markdown",
      "metadata": {
        "id": "6AQbQ0Mn0Pzg",
        "colab_type": "text"
      },
      "source": [
        "Janomeによる形態素解析:\n",
        "頻出単語の検出\n"
      ]
    },
    {
      "cell_type": "code",
      "metadata": {
        "id": "5PvVwV9H1EXt",
        "colab_type": "code",
        "outputId": "71044c8f-537a-4575-8c25-5fa9d1f16e19",
        "colab": {
          "base_uri": "https://localhost:8080/",
          "height": 122
        }
      },
      "source": [
        "!pip install janome"
      ],
      "execution_count": 5,
      "outputs": [
        {
          "output_type": "stream",
          "text": [
            "Collecting janome\n",
            "\u001b[?25l  Downloading https://files.pythonhosted.org/packages/79/f0/bd7f90806132d7d9d642d418bdc3e870cfdff5947254ea3cab27480983a7/Janome-0.3.10-py2.py3-none-any.whl (21.5MB)\n",
            "\u001b[K     |████████████████████████████████| 21.5MB 1.3MB/s \n",
            "\u001b[?25hInstalling collected packages: janome\n",
            "Successfully installed janome-0.3.10\n"
          ],
          "name": "stdout"
        }
      ]
    },
    {
      "cell_type": "markdown",
      "metadata": {
        "id": "oEuDXnbrEPH8",
        "colab_type": "text"
      },
      "source": [
        "文書データを私のgithub から　git clone します。"
      ]
    },
    {
      "cell_type": "code",
      "metadata": {
        "id": "Fd42zsR-YI1A",
        "colab_type": "code",
        "outputId": "14fc6d97-2c28-4f88-9cb9-ba8c4c004af7",
        "colab": {
          "base_uri": "https://localhost:8080/",
          "height": 238
        }
      },
      "source": [
        "! git clone https://github.com/mashyko/NLP_Mecab\n",
        "%cd NLP_Mecab\n",
        "!ls "
      ],
      "execution_count": 6,
      "outputs": [
        {
          "output_type": "stream",
          "text": [
            "Cloning into 'NLP_Mecab'...\n",
            "remote: Enumerating objects: 50, done.\u001b[K\n",
            "remote: Counting objects:   2% (1/50)\u001b[K\rremote: Counting objects:   4% (2/50)\u001b[K\rremote: Counting objects:   6% (3/50)\u001b[K\rremote: Counting objects:   8% (4/50)\u001b[K\rremote: Counting objects:  10% (5/50)\u001b[K\rremote: Counting objects:  12% (6/50)\u001b[K\rremote: Counting objects:  14% (7/50)\u001b[K\rremote: Counting objects:  16% (8/50)\u001b[K\rremote: Counting objects:  18% (9/50)\u001b[K\rremote: Counting objects:  20% (10/50)\u001b[K\rremote: Counting objects:  22% (11/50)\u001b[K\rremote: Counting objects:  24% (12/50)\u001b[K\rremote: Counting objects:  26% (13/50)\u001b[K\rremote: Counting objects:  28% (14/50)\u001b[K\rremote: Counting objects:  30% (15/50)\u001b[K\rremote: Counting objects:  32% (16/50)\u001b[K\rremote: Counting objects:  34% (17/50)\u001b[K\rremote: Counting objects:  36% (18/50)\u001b[K\rremote: Counting objects:  38% (19/50)\u001b[K\rremote: Counting objects:  40% (20/50)\u001b[K\rremote: Counting objects:  42% (21/50)\u001b[K\rremote: Counting objects:  44% (22/50)\u001b[K\rremote: Counting objects:  46% (23/50)\u001b[K\rremote: Counting objects:  48% (24/50)\u001b[K\rremote: Counting objects:  50% (25/50)\u001b[K\rremote: Counting objects:  52% (26/50)\u001b[K\rremote: Counting objects:  54% (27/50)\u001b[K\rremote: Counting objects:  56% (28/50)\u001b[K\rremote: Counting objects:  58% (29/50)\u001b[K\rremote: Counting objects:  60% (30/50)\u001b[K\rremote: Counting objects:  62% (31/50)\u001b[K\rremote: Counting objects:  64% (32/50)\u001b[K\rremote: Counting objects:  66% (33/50)\u001b[K\rremote: Counting objects:  68% (34/50)\u001b[K\rremote: Counting objects:  70% (35/50)\u001b[K\rremote: Counting objects:  72% (36/50)\u001b[K\rremote: Counting objects:  74% (37/50)\u001b[K\rremote: Counting objects:  76% (38/50)\u001b[K\rremote: Counting objects:  78% (39/50)\u001b[K\rremote: Counting objects:  80% (40/50)\u001b[K\rremote: Counting objects:  82% (41/50)\u001b[K\rremote: Counting objects:  84% (42/50)\u001b[K\rremote: Counting objects:  86% (43/50)\u001b[K\rremote: Counting objects:  88% (44/50)\u001b[K\rremote: Counting objects:  90% (45/50)\u001b[K\rremote: Counting objects:  92% (46/50)\u001b[K\rremote: Counting objects:  94% (47/50)\u001b[K\rremote: Counting objects:  96% (48/50)\u001b[K\rremote: Counting objects:  98% (49/50)\u001b[K\rremote: Counting objects: 100% (50/50)\u001b[K\rremote: Counting objects: 100% (50/50), done.\u001b[K\n",
            "remote: Compressing objects: 100% (50/50), done.\u001b[K\n",
            "remote: Total 152 (delta 23), reused 0 (delta 0), pack-reused 102\u001b[K\n",
            "Receiving objects: 100% (152/152), 12.60 MiB | 20.17 MiB/s, done.\n",
            "Resolving deltas: 100% (64/64), done.\n",
            "/content/NLP_Mecab\n",
            "corpora\t\t      gensim_tutor_English.ipynb  Mecab_janome.ipynb\n",
            "datasets\t      livedoor-news-data\t  Mecab_Neologd_livedoor.ipynb\n",
            "fasttext_intro.ipynb  Livedoor-text\t\t  mecab_python.ipynb\n",
            "Gensim_doc2vec.ipynb  MeCab_1.ipynb\t\t  README.md\n",
            "gensim_topic.ipynb    Mecab_Intro.ipynb\n"
          ],
          "name": "stdout"
        }
      ]
    },
    {
      "cell_type": "markdown",
      "metadata": {
        "id": "iEMToGvFEgmS",
        "colab_type": "text"
      },
      "source": [
        "janome.tokenizer を用いて、文書 blog.txt をトークン化します。\n",
        "トークンのリストと頻出度を表示\n",
        "\n"
      ]
    },
    {
      "cell_type": "code",
      "metadata": {
        "id": "UP3v7Zv20Pzj",
        "colab_type": "code",
        "outputId": "47613318-00b1-4854-f977-ad0f970ae1a3",
        "colab": {
          "base_uri": "https://localhost:8080/",
          "height": 54
        }
      },
      "source": [
        "from janome.tokenizer import Tokenizer\n",
        "\n",
        "blog = open(\"./corpora/blog.txt\", \"r\")\n",
        "txt = blog.read()\n",
        "\n",
        "t = Tokenizer()\n",
        "\n",
        "word_dic = {}\n",
        "lines = txt.split(\"\\r\\n\")\n",
        "for line in lines:\n",
        "    blog_txt = t.tokenize(line)\n",
        "    for w in blog_txt:\n",
        "        word = w.surface\n",
        "        ps = w.part_of_speech\n",
        "        if ps.find('名詞') < 0: continue\n",
        "        if not word in word_dic:\n",
        "            word_dic[word] = 0\n",
        "        word_dic[word] += 1\n",
        "\n",
        "keys = sorted(word_dic.items(), key=lambda x:x[1], reverse=True)\n",
        "for word,cnt in keys[:50]:\n",
        "    print(\"{0}({1}) \".format(word,cnt), end=\"\")\n",
        "\n"
      ],
      "execution_count": 7,
      "outputs": [
        {
          "output_type": "stream",
          "text": [
            "AI(29) こと(20) セミナー(16) よう(13) 理解(13) 参加(10) の(10) 的(8) 説明(7) 大変(6) 仕組み(6) 内容(6) イメージ(5) 自分(5) プログラミング(5) 知識(5) 作成(5) サービス(4) 非常(4) 今回(4) もの(4) 人工(4) 知能(4) 学習(4) 技術(3) ため(3) 満足(3) 今後(3) 活用(3) 提供(3) 丁寧(3) 入門(3) 操作(3) 具体(3) 機械(3) 簡単(3) 体験(3) お話(2) 午後(2) 数学(2) これ(2) 私(2) 興味(2) 開発(2) 講師(2) ご(2) 講義(2) 事(2) 性(2) 感謝(2) "
          ],
          "name": "stdout"
        }
      ]
    },
    {
      "cell_type": "markdown",
      "metadata": {
        "id": "I_xOLBOIE6P6",
        "colab_type": "text"
      },
      "source": [
        "janome.tokenizer を用いて、夏目漱石の小説「こころ」をトークン化します。"
      ]
    },
    {
      "cell_type": "code",
      "metadata": {
        "id": "NXjRmOnN0Pzo",
        "colab_type": "code",
        "outputId": "e83208aa-00c7-4cb9-d204-d00b569fc6f5",
        "colab": {
          "base_uri": "https://localhost:8080/",
          "height": 54
        }
      },
      "source": [
        "from janome.tokenizer import Tokenizer\n",
        "\n",
        "blog = open(\"./corpora/kokoro.txt\", \"r\")\n",
        "txt = blog.read()\n",
        "\n",
        "t = Tokenizer()\n",
        "\n",
        "word_dic = {}\n",
        "lines = txt.split(\"\\r\\n\")\n",
        "for line in lines:\n",
        "    blog_txt = t.tokenize(line)\n",
        "    for w in blog_txt:\n",
        "        word = w.surface\n",
        "        ps = w.part_of_speech\n",
        "        if ps.find('名詞') < 0: continue\n",
        "        if not word in word_dic:\n",
        "            word_dic[word] = 0\n",
        "        word_dic[word] += 1\n",
        "\n",
        "keys = sorted(word_dic.items(), key=lambda x:x[1], reverse=True)\n",
        "for word,cnt in keys[:50]:\n",
        "    print(\"{0}({1}) \".format(word,cnt), end=\"\")\n",
        "\n"
      ],
      "execution_count": 8,
      "outputs": [
        {
          "output_type": "stream",
          "text": [
            "私(2697) の(1483) 先生(597) 事(576) よう(523) それ(408) もの(393) 人(389) 奥さん(388) 時(379) 彼(314) 父(272) 自分(264) 二(263) 中(257) 何(251) 一(246) ん(241) うち(238) い(234) 十(201) 方(200) あなた(187) 母(171) 前(168) お嬢さん(166) 上(154) 気(150) 今(150) 顔(135) め(133) 言葉(128) ため(126) 三(123) 日(123) 眼(123) 字(122) そこ(120) 心(116) ［＃(113) ［＃「(112) 下げ(111) 見出し(111) ５(109) 妻(108) 口(107) 通り(105) お(105) 家(96) 間(93) "
          ],
          "name": "stdout"
        }
      ]
    },
    {
      "cell_type": "markdown",
      "metadata": {
        "id": "sGcSwVLbFWkm",
        "colab_type": "text"
      },
      "source": [
        "janome.tokenizer を用いて、livedoor news の topic-news をトークン化します。"
      ]
    },
    {
      "cell_type": "code",
      "metadata": {
        "id": "bCV4kebE0Pzr",
        "colab_type": "code",
        "outputId": "d0511be6-bbd4-4b57-befd-b1d7c7b17456",
        "colab": {
          "base_uri": "https://localhost:8080/",
          "height": 54
        }
      },
      "source": [
        "from janome.tokenizer import Tokenizer\n",
        "\n",
        "blog = open(\"./livedoor-news-data/topic-news.txt\", \"r\")\n",
        "txt = blog.read()\n",
        "\n",
        "t = Tokenizer()\n",
        "\n",
        "word_dic = {}\n",
        "lines = txt.split(\"\\r\\n\")\n",
        "for line in lines:\n",
        "    blog_txt = t.tokenize(line)\n",
        "    for w in blog_txt:\n",
        "        word = w.surface\n",
        "        ps = w.part_of_speech\n",
        "        if ps.find('名詞') < 0: continue\n",
        "        if not word in word_dic:\n",
        "            word_dic[word] = 0\n",
        "        word_dic[word] += 1\n",
        "\n",
        "keys = sorted(word_dic.items(), key=lambda x:x[1], reverse=True)\n",
        "for word,cnt in keys[:50]:\n",
        "    print(\"{0}({1}) \".format(word,cnt), end=\"\")\n",
        "\n"
      ],
      "execution_count": 9,
      "outputs": [
        {
          "output_type": "stream",
          "text": [
            "/(3711) .(2061) -(1848) ネット(1595) :(1578) の(1450) こと(1322) 日(1229) livedoor(1143) 関連(1124) 韓国(1069) 掲示板(1055) 記事(1050) ://(946) http(927) com(908) 人(894) news(874) detail(861) 声(845) 00(833) article(832) +(774) T(771) 0900(770) 日本(739) 情報(729) ん(603) 2012(600) 者(598) 氏(598) 批判(579) 話題(572) )(526) 番組(524) ユーザー(514) よう(510) AKB(455) 放送(451) ((440) 2(436) 月(435) 的(435) 年(434) これ(426) 発言(417) ニュース(417) 上(381) 12(379) 10(355) "
          ],
          "name": "stdout"
        }
      ]
    },
    {
      "cell_type": "markdown",
      "metadata": {
        "id": "wAo_NsgjGzdk",
        "colab_type": "text"
      },
      "source": [
        "以上\n"
      ]
    }
  ]
}