{
  "nbformat": 4,
  "nbformat_minor": 0,
  "metadata": {
    "colab": {
      "name": "Gensim_doc2vec.ipynb",
      "provenance": [],
      "collapsed_sections": [],
      "include_colab_link": true
    },
    "kernelspec": {
      "name": "python3",
      "display_name": "Python 3"
    },
    "accelerator": "GPU"
  },
  "cells": [
    {
      "cell_type": "markdown",
      "metadata": {
        "id": "view-in-github",
        "colab_type": "text"
      },
      "source": [
        "<a href=\"https://colab.research.google.com/github/mashyko/NLP_Mecab/blob/master/Gensim_doc2vec.ipynb\" target=\"_parent\"><img src=\"https://colab.research.google.com/assets/colab-badge.svg\" alt=\"Open In Colab\"/></a>"
      ]
    },
    {
      "cell_type": "markdown",
      "metadata": {
        "id": "2WFARkrkZS8Q",
        "colab_type": "text"
      },
      "source": [
        "Gensimを用いた文書類似度の判定：Livedoor Newsの使用\n",
        "\n",
        "$wget https://www.rondhuit.com/download/ldcc-20140209.tar.gz\n",
        "\n",
        "上記サイトのlivedoor newsのデータ文書をダウンロードします。\n"
      ]
    },
    {
      "cell_type": "code",
      "metadata": {
        "id": "AjGrMYvGNz77",
        "colab_type": "code",
        "colab": {}
      },
      "source": [
        "!wget https://www.rondhuit.com/download/ldcc-20140209.tar.gz \n",
        "!tar -zxvf ldcc-20140209.tar.gz"
      ],
      "execution_count": 0,
      "outputs": []
    },
    {
      "cell_type": "markdown",
      "metadata": {
        "id": "9rnDlO_YhkY7",
        "colab_type": "text"
      },
      "source": [
        "上記サイトのlivedoor newsから得たデータ文書をもとに作成した訓練用と検証用のデータがdataset_train.csv、 dataset_valid.csvです。\n",
        "\n",
        "以下のコードは、livedoor_text 文書をクラス分けして df_texts (DataFrame 形式で)の中に納めています。このファイルは'class' と’body'という名前の列を持っています。'class' には classes の名前が入ります。'body' に、文章が入ります。csv 形式で保存します。このファイルの内容を知りたいときは、例えば、200行から210行前の内容を表示させたいときは 'print (df_texts[200:211])'と入力します。"
      ]
    },
    {
      "cell_type": "code",
      "metadata": {
        "id": "dxBYucsEoyS7",
        "colab_type": "code",
        "outputId": "6a8e885d-a0c7-4483-a242-6496bad34e1e",
        "colab": {
          "base_uri": "https://localhost:8080/",
          "height": 204
        }
      },
      "source": [
        "import pandas as pd\n",
        "import glob\n",
        "import os\n",
        "\n",
        "classes = [\"dokujo-tsushin\",\"it-life-hack\",\"kaden-channel\",\"livedoor-homme\",\n",
        "           \"movie-enter\",\"peachy\",\"smax\",\"sports-watch\",\"topic-news\"]\n",
        "\n",
        "df_texts = pd.DataFrame(columns=['class','body'])\n",
        "\n",
        "if __name__ == '__main__':\n",
        "\n",
        "    # テキストの抽出\n",
        "    for c in classes:\n",
        "        filepath = './text/' + c + '/*.txt'\n",
        "        files = glob.glob(filepath)\n",
        "\n",
        "        for i in files:\n",
        "            f = open(i)\n",
        "            text = f.read()\n",
        "            text = text.replace(\"\\u3000\",\"\")\n",
        "            f.close()\n",
        "            row = pd.Series([c, \"\".join(text.split(\"\\n\")[3:])], index=df_texts.columns)\n",
        "            df_texts = df_texts.append(row, ignore_index=True)\n",
        "\n",
        "        # トレーニング、バリデーションで 8:2 に分割\n",
        "    df_train = pd.DataFrame(columns=['class','body'])\n",
        "    df_validation = pd.DataFrame(columns=['class','body'])\n",
        "\n",
        "    for c in classes:\n",
        "        df_text_c = df_texts[df_texts['class'] == c]\n",
        "\n",
        "        df_text_c_train = df_text_c.head(round(len(df_text_c)*0.8))\n",
        "        df_train = df_train.append(df_text_c_train, ignore_index=True)\n",
        "\n",
        "        df_text_c_validation = df_text_c.tail(round(len(df_text_c)*0.2))\n",
        "        df_validation = df_validation.append(df_text_c_validation, ignore_index=True)\n",
        "\n",
        "    # テキストの保存\n",
        "    df_train.to_csv('dataset_train.csv')\n",
        "    df_validation.to_csv('dataset_validation.csv')\n",
        "print (df_texts[200:210])\n",
        "\n"
      ],
      "execution_count": 12,
      "outputs": [
        {
          "output_type": "stream",
          "text": [
            "              class                                               body\n",
            "200  dokujo-tsushin  「腐女子」という言葉をご存知でしょうか。いわゆる漫画やアニメキャラなどの男性同士の恋愛（ボー...\n",
            "201  dokujo-tsushin  2010年も残りわずか。 今回は、今年1年を振り返って女性たちの「エラかったね！よくやった！...\n",
            "202  dokujo-tsushin  一生のうちでこんなにも人を愛し、愛されることができたとしたら、その後の人生は一人でも生きてい...\n",
            "203  dokujo-tsushin  ここ数年、美容整形に対する意識は、その手軽さからだいぶ変わってきたのではないだろうか。例えば...\n",
            "204  dokujo-tsushin  2012年の幕開けと同時に恒例の冬のセールもスタート。早速セールに出かけて「昨年から狙ってい...\n",
            "205  dokujo-tsushin  婚活においても、出会いの場と注目されている同窓会。同窓会をきっかけに始まる恋愛を「同窓会恋愛...\n",
            "206  dokujo-tsushin  日本中、小さな街にもひとつくらいコンビニがある。いつでも気軽に欲しいものが手に入るコンビニは...\n",
            "207  dokujo-tsushin  今月もこんにちは、独女の皆様。 お下劣、毒舌、支離滅裂！ドロンジョーヌ恩田です。 夏を迎え、...\n",
            "208  dokujo-tsushin  年下の彼・和也さん（28歳）からの熱烈なアプローチで結婚した美也子さん（32歳）。幸せな毎日...\n",
            "209  dokujo-tsushin  1月も後半に入り、引き続き厳しい寒さが続く中で「早く暖かくならないかなぁ」なんてついつぶやい...\n"
          ],
          "name": "stdout"
        }
      ]
    },
    {
      "cell_type": "markdown",
      "metadata": {
        "id": "8k19JE4yaLDx",
        "colab_type": "text"
      },
      "source": [
        "単語の分かち書き方法\n",
        "\n",
        "文章を単語に分かち書きするにはMeCabを使います。以下のクラスを作成し用いています。 今回は特徴を拾いやすくするために名詞だけ抽出してみることにしました。係り受けなどは考慮しないので、形容詞、副詞、動詞などは今回は含めていません。辞書は neologd を使っています。"
      ]
    },
    {
      "cell_type": "code",
      "metadata": {
        "id": "u76ewinykLfe",
        "colab_type": "code",
        "outputId": "2d111bcd-870e-492c-d3ae-1ae0676ef767",
        "colab": {
          "base_uri": "https://localhost:8080/",
          "height": 34
        }
      },
      "source": [
        "!apt-get -q -y install sudo file mecab libmecab-dev mecab-ipadic-utf8 git curl python-mecab > /dev/null\n",
        "!git clone --depth 1 https://github.com/neologd/mecab-ipadic-neologd.git > /dev/null \n",
        "!echo yes | mecab-ipadic-neologd/bin/install-mecab-ipadic-neologd -n > /dev/null 2>&1\n",
        "!pip install mecab-python3 > /dev/null"
      ],
      "execution_count": 13,
      "outputs": [
        {
          "output_type": "stream",
          "text": [
            "fatal: destination path 'mecab-ipadic-neologd' already exists and is not an empty directory.\n"
          ],
          "name": "stdout"
        }
      ]
    },
    {
      "cell_type": "code",
      "metadata": {
        "id": "7q6EVu1LZOuS",
        "colab_type": "code",
        "colab": {}
      },
      "source": [
        ""
      ],
      "execution_count": 0,
      "outputs": []
    },
    {
      "cell_type": "code",
      "metadata": {
        "id": "Od7tNFDj7rKu",
        "colab_type": "code",
        "outputId": "40b4ecf6-006d-4f1e-afbe-5b3e39125263",
        "colab": {
          "base_uri": "https://localhost:8080/",
          "height": 34
        }
      },
      "source": [
        "!mecab-config --dicdir"
      ],
      "execution_count": 14,
      "outputs": [
        {
          "output_type": "stream",
          "text": [
            "/usr/lib/x86_64-linux-gnu/mecab/dic\n"
          ],
          "name": "stdout"
        }
      ]
    },
    {
      "cell_type": "code",
      "metadata": {
        "id": "IGyTyXmAoyTA",
        "colab_type": "code",
        "colab": {}
      },
      "source": [
        "import sys\n",
        "import MeCab\n",
        "import unicodedata\n",
        "\n",
        "class mecab_split():\n",
        "    \"\"\" mecabで分かち書きなどを行う処理まとめ \"\"\"\n",
        "    def __init__(self):\n",
        "        pass\n",
        "\n",
        "    @staticmethod\n",
        "    def split(text):\n",
        "        #文字コード変換処理。変換しないと濁点と半濁点が分離する。\n",
        "        text = unicodedata.normalize('NFC', text)\n",
        "\n",
        "        result = []\n",
        "        tagger = MeCab.Tagger('-d /usr/lib/x86_64-linux-gnu/mecab/dic/mecab-ipadic-neologd')\n",
        "        tagger.parse('') #parseToNode前に一度parseしておくとsurfaceの読み取りエラーを回避できる\n",
        "\n",
        "        nodes = tagger.parseToNode(text)\n",
        "        while nodes:\n",
        "            if nodes.feature.split(',')[0] in ['名詞']:\n",
        "                word = nodes.surface\n",
        "                result.append(word)\n",
        "            nodes = nodes.next\n",
        "        return ' '.join(result)"
      ],
      "execution_count": 0,
      "outputs": []
    },
    {
      "cell_type": "markdown",
      "metadata": {
        "id": "b7VMS6DUar2q",
        "colab_type": "text"
      },
      "source": [
        "自然言語モデルの作成:Doc2Vec でモデルを作成する\n",
        "\n",
        "gensim というライブラリに Doc2Vec が実装されているのでそれを使います。手法は dmpv という手法を用います。 この手法で学習させる際には文書idをタグとして持つので、以下のように書きます。"
      ]
    },
    {
      "cell_type": "code",
      "metadata": {
        "id": "Af8aWlYEW0Ae",
        "colab_type": "code",
        "outputId": "1f733e9b-9f30-4c4f-8100-eb504bf60bf5",
        "colab": {
          "base_uri": "https://localhost:8080/",
          "height": 326
        }
      },
      "source": [
        "!pip install gensim"
      ],
      "execution_count": 16,
      "outputs": [
        {
          "output_type": "stream",
          "text": [
            "Requirement already satisfied: gensim in /usr/local/lib/python3.6/dist-packages (3.6.0)\n",
            "Requirement already satisfied: six>=1.5.0 in /usr/local/lib/python3.6/dist-packages (from gensim) (1.12.0)\n",
            "Requirement already satisfied: numpy>=1.11.3 in /usr/local/lib/python3.6/dist-packages (from gensim) (1.17.4)\n",
            "Requirement already satisfied: scipy>=0.18.1 in /usr/local/lib/python3.6/dist-packages (from gensim) (1.3.3)\n",
            "Requirement already satisfied: smart-open>=1.2.1 in /usr/local/lib/python3.6/dist-packages (from gensim) (1.9.0)\n",
            "Requirement already satisfied: boto>=2.32 in /usr/local/lib/python3.6/dist-packages (from smart-open>=1.2.1->gensim) (2.49.0)\n",
            "Requirement already satisfied: requests in /usr/local/lib/python3.6/dist-packages (from smart-open>=1.2.1->gensim) (2.21.0)\n",
            "Requirement already satisfied: boto3 in /usr/local/lib/python3.6/dist-packages (from smart-open>=1.2.1->gensim) (1.10.40)\n",
            "Requirement already satisfied: urllib3<1.25,>=1.21.1 in /usr/local/lib/python3.6/dist-packages (from requests->smart-open>=1.2.1->gensim) (1.24.3)\n",
            "Requirement already satisfied: certifi>=2017.4.17 in /usr/local/lib/python3.6/dist-packages (from requests->smart-open>=1.2.1->gensim) (2019.11.28)\n",
            "Requirement already satisfied: idna<2.9,>=2.5 in /usr/local/lib/python3.6/dist-packages (from requests->smart-open>=1.2.1->gensim) (2.8)\n",
            "Requirement already satisfied: chardet<3.1.0,>=3.0.2 in /usr/local/lib/python3.6/dist-packages (from requests->smart-open>=1.2.1->gensim) (3.0.4)\n",
            "Requirement already satisfied: botocore<1.14.0,>=1.13.40 in /usr/local/lib/python3.6/dist-packages (from boto3->smart-open>=1.2.1->gensim) (1.13.40)\n",
            "Requirement already satisfied: s3transfer<0.3.0,>=0.2.0 in /usr/local/lib/python3.6/dist-packages (from boto3->smart-open>=1.2.1->gensim) (0.2.1)\n",
            "Requirement already satisfied: jmespath<1.0.0,>=0.7.1 in /usr/local/lib/python3.6/dist-packages (from boto3->smart-open>=1.2.1->gensim) (0.9.4)\n",
            "Requirement already satisfied: python-dateutil<2.8.1,>=2.1; python_version >= \"2.7\" in /usr/local/lib/python3.6/dist-packages (from botocore<1.14.0,>=1.13.40->boto3->smart-open>=1.2.1->gensim) (2.6.1)\n",
            "Requirement already satisfied: docutils<0.16,>=0.10 in /usr/local/lib/python3.6/dist-packages (from botocore<1.14.0,>=1.13.40->boto3->smart-open>=1.2.1->gensim) (0.15.2)\n"
          ],
          "name": "stdout"
        }
      ]
    },
    {
      "cell_type": "code",
      "metadata": {
        "id": "2qBKNxW2oyTE",
        "colab_type": "code",
        "colab": {}
      },
      "source": [
        "import sys\n",
        "import os\n",
        "import pandas as pd\n",
        "from gensim.models.doc2vec import Doc2Vec\n",
        "from gensim.models.doc2vec import TaggedDocument\n",
        "\n",
        "sys.path.append(os.pardir)\n",
        "#from lib.mecab_split import mecab_split as ms\n",
        "ms = mecab_split()\n",
        "\n",
        "dataset_file = 'dataset_train.csv'\n",
        "#dataset_file = '/content/drive/My Drive/NLP/livedoor-text/dataset_train.csv'\n",
        "\n",
        "df_text = pd.read_csv(dataset_file)\n",
        "trainings = [TaggedDocument(words = ms.split(body), tags = [i])\n",
        "             for i, body in enumerate(df_text['body'])]"
      ],
      "execution_count": 0,
      "outputs": []
    },
    {
      "cell_type": "code",
      "metadata": {
        "id": "iQnadUOmoyTG",
        "colab_type": "code",
        "outputId": "688fe0b0-2d4f-488a-b07b-7d7eafebc468",
        "colab": {
          "base_uri": "https://localhost:8080/",
          "height": 71
        }
      },
      "source": [
        "# モデルの学習, dmpvで学習させる\n",
        "model = Doc2Vec(documents=trainings, dm=1, size=300, window=5, min_count=5)\n",
        "\n",
        "# モデルの保存\n",
        "#model.save('/content/drive/My Drive/NLP/livedoor-text/doc2vec.model')\n"
      ],
      "execution_count": 18,
      "outputs": [
        {
          "output_type": "stream",
          "text": [
            "/usr/local/lib/python3.6/dist-packages/gensim/models/doc2vec.py:570: UserWarning: The parameter `size` is deprecated, will be removed in 4.0.0, use `vector_size` instead.\n",
            "  warnings.warn(\"The parameter `size` is deprecated, will be removed in 4.0.0, use `vector_size` instead.\")\n"
          ],
          "name": "stderr"
        }
      ]
    },
    {
      "cell_type": "code",
      "metadata": {
        "id": "1lDDauoVoyTK",
        "colab_type": "code",
        "outputId": "d91de957-9e71-4b07-c77d-e3f5ef5e141b",
        "colab": {
          "base_uri": "https://localhost:8080/",
          "height": 241
        }
      },
      "source": [
        "#model = Doc2Vec.load('/content/drive/My Drive/NLP/livedoor-text/doc2vec.model')\n",
        "model.docvecs.most_similar(500)\n"
      ],
      "execution_count": 19,
      "outputs": [
        {
          "output_type": "stream",
          "text": [
            "/usr/local/lib/python3.6/dist-packages/gensim/matutils.py:737: FutureWarning: Conversion of the second argument of issubdtype from `int` to `np.signedinteger` is deprecated. In future, it will be treated as `np.int64 == np.dtype(int).type`.\n",
            "  if np.issubdtype(vec.dtype, np.int):\n"
          ],
          "name": "stderr"
        },
        {
          "output_type": "execute_result",
          "data": {
            "text/plain": [
              "[(578, 0.8063284158706665),\n",
              " (526, 0.7901571989059448),\n",
              " (123, 0.7558071613311768),\n",
              " (515, 0.7411441206932068),\n",
              " (347, 0.7408869862556458),\n",
              " (2154, 0.7338988184928894),\n",
              " (371, 0.7334645390510559),\n",
              " (11, 0.7311739921569824),\n",
              " (938, 0.7248408198356628),\n",
              " (1121, 0.7241316437721252)]"
            ]
          },
          "metadata": {
            "tags": []
          },
          "execution_count": 19
        }
      ]
    },
    {
      "cell_type": "code",
      "metadata": {
        "id": "o8AdCpKRoyTP",
        "colab_type": "code",
        "outputId": "23657747-f73b-4499-83b3-f21875d1d21a",
        "colab": {
          "base_uri": "https://localhost:8080/",
          "height": 88
        }
      },
      "source": [
        "model.docvecs.similarity(1,307)\n",
        "#文書1と文書307の間の類似度"
      ],
      "execution_count": 20,
      "outputs": [
        {
          "output_type": "stream",
          "text": [
            "/usr/local/lib/python3.6/dist-packages/gensim/matutils.py:737: FutureWarning: Conversion of the second argument of issubdtype from `int` to `np.signedinteger` is deprecated. In future, it will be treated as `np.int64 == np.dtype(int).type`.\n",
            "  if np.issubdtype(vec.dtype, np.int):\n"
          ],
          "name": "stderr"
        },
        {
          "output_type": "execute_result",
          "data": {
            "text/plain": [
              "0.4200067"
            ]
          },
          "metadata": {
            "tags": []
          },
          "execution_count": 20
        }
      ]
    },
    {
      "cell_type": "markdown",
      "metadata": {
        "id": "LM9uUNNRbJvh",
        "colab_type": "text"
      },
      "source": [
        "学習したモデルを使って、新規に与えた文書の同士の類似度を調べる"
      ]
    },
    {
      "cell_type": "code",
      "metadata": {
        "id": "dy-X4nOfoyTS",
        "colab_type": "code",
        "outputId": "50aabb1e-607e-43aa-c3a0-bbf8885714c6",
        "colab": {
          "base_uri": "https://localhost:8080/",
          "height": 207
        }
      },
      "source": [
        "#例えば、以下の４つの新規文書の、いくつかの組み合わせの類似度を計算してみる\n",
        "doc_words1 = [\"ラスト\", \"展開\" ,\"早い\" ,\"他\" ,\"作品\", \"衝撃\", \"受ける\" ,\"裏の裏\" ,\"つく\", \"トリック\" ,\"毎度\" ,\"こと\", \"脱帽\", \"する\", \"読む\", \"やすい\" ,\"め\" ,\"ミステリー\"]\n",
        "doc_words2 = [ \"イニシエーション・ラブ\", \"同様\" ,\"最後\", \"数行\", \"どんでん返し\", \"いく\", \"時\", \"時\", \"様々\", \"シーン\", \"する\" ,\"れる\", \"伏線\" ,\"散りばめる\", \"られる\" ,\"いる\", \"こと\", \"気づく\"]\n",
        "doc_words3 = [\"ラスト\", \"展開\" ,\"早い\" ,\"他\" ,\"作品\", \"衝撃\", \"受ける\" ,\"裏の裏\" ,\"つく\",\"ミステリー\"]\n",
        "doc_words4 = [\"独特\", \"世界観\", \"日常\" ,\"離れる\",\"落ち着く\",\"時\",\"読む\",\"本\"]\n",
        "\n",
        "print (\"1-2 similarity\")\n",
        "sim_value = model.docvecs.similarity_unseen_docs(m, doc_words1, doc_words2, alpha=1, min_alpha=0.0001, steps=5)\n",
        "print (sim_value)\n",
        "\n",
        "print (\"1-3 sim\")\n",
        "print (model.docvecs.similarity_unseen_docs(m, doc_words1, doc_words3, alpha=1, min_alpha=0.0001, steps=5))\n",
        "\n",
        "print (\"1-4 sim\")\n",
        "print (model.docvecs.similarity_unseen_docs(m, doc_words1, doc_words4, alpha=1, min_alpha=0.0001, steps=5))\n",
        "\n",
        "print (\"2-3 sim\")\n",
        "print (model.docvecs.similarity_unseen_docs(m, doc_words2, doc_words3, alpha=1, min_alpha=0.0001, steps=5))\n"
      ],
      "execution_count": 21,
      "outputs": [
        {
          "output_type": "stream",
          "text": [
            "1-2 similarity\n",
            "0.21265341\n",
            "1-3 sim\n",
            "0.7133255\n",
            "1-4 sim\n",
            "0.43777364\n",
            "2-3 sim\n",
            "0.42022422\n"
          ],
          "name": "stdout"
        },
        {
          "output_type": "stream",
          "text": [
            "/usr/local/lib/python3.6/dist-packages/gensim/matutils.py:737: FutureWarning: Conversion of the second argument of issubdtype from `int` to `np.signedinteger` is deprecated. In future, it will be treated as `np.int64 == np.dtype(int).type`.\n",
            "  if np.issubdtype(vec.dtype, np.int):\n"
          ],
          "name": "stderr"
        }
      ]
    },
    {
      "cell_type": "markdown",
      "metadata": {
        "id": "q8idMiigbQSL",
        "colab_type": "text"
      },
      "source": [
        "以上\n"
      ]
    }
  ]
}