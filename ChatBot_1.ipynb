{
  "nbformat": 4,
  "nbformat_minor": 0,
  "metadata": {
    "colab": {
      "name": "ChatBot_1.ipynb",
      "provenance": [],
      "collapsed_sections": [],
      "include_colab_link": true
    },
    "kernelspec": {
      "name": "python3",
      "display_name": "Python 3"
    }
  },
  "cells": [
    {
      "cell_type": "markdown",
      "metadata": {
        "id": "view-in-github",
        "colab_type": "text"
      },
      "source": [
        "<a href=\"https://colab.research.google.com/github/mashyko/NLP_Mecab/blob/master/ChatBot_1.ipynb\" target=\"_parent\"><img src=\"https://colab.research.google.com/assets/colab-badge.svg\" alt=\"Open In Colab\"/></a>"
      ]
    },
    {
      "cell_type": "markdown",
      "metadata": {
        "id": "Ht57cByqxJLy",
        "colab_type": "text"
      },
      "source": [
        "ChatBot制作の初歩：\n",
        "\n",
        "以下のサイトを参考にしました：Chatbots Lifeより https://chatbotslife.com\n",
        "\n",
        "https://chatbotslife.com/how-to-create-an-intelligent-chatbot-in-python-c655eb39d6b1"
      ]
    },
    {
      "cell_type": "code",
      "metadata": {
        "id": "3wqINYkyw9ZI",
        "colab_type": "code",
        "outputId": "7ee81b20-1c44-4408-955d-771d35e40c98",
        "colab": {
          "base_uri": "https://localhost:8080/",
          "height": 1000
        }
      },
      "source": [
        "!pip install chatterbot\n",
        "!pip install chatterbot_corpus"
      ],
      "execution_count": 0,
      "outputs": [
        {
          "output_type": "stream",
          "text": [
            "Collecting chatterbot\n",
            "\u001b[?25l  Downloading https://files.pythonhosted.org/packages/6c/0e/dac0d82f34f86bf509cf5ef3e2dfc5aa7d444bd843a2330ceb7d854f84f2/ChatterBot-1.0.5-py2.py3-none-any.whl (67kB)\n",
            "\u001b[K     |████████████████████████████████| 71kB 6.2MB/s \n",
            "\u001b[?25hCollecting mathparse<0.2,>=0.1\n",
            "  Downloading https://files.pythonhosted.org/packages/c3/e5/4910fb85950cb960fcf3f5aabe1c8e55f5c9201788a1c1302b570a7e1f84/mathparse-0.1.2-py3-none-any.whl\n",
            "Requirement already satisfied: nltk<4.0,>=3.2 in /usr/local/lib/python3.6/dist-packages (from chatterbot) (3.2.5)\n",
            "Collecting sqlalchemy<1.3,>=1.2\n",
            "\u001b[?25l  Downloading https://files.pythonhosted.org/packages/f9/67/d07cf7ac7e6dd0bc55ba62816753f86d7c558107104ca915e730c9ec2512/SQLAlchemy-1.2.19.tar.gz (5.7MB)\n",
            "\u001b[K     |████████████████████████████████| 5.7MB 25.6MB/s \n",
            "\u001b[?25hRequirement already satisfied: pymongo<4.0,>=3.3 in /usr/local/lib/python3.6/dist-packages (from chatterbot) (3.10.0)\n",
            "Requirement already satisfied: pytz in /usr/local/lib/python3.6/dist-packages (from chatterbot) (2018.9)\n",
            "Requirement already satisfied: spacy<2.2,>=2.1 in /usr/local/lib/python3.6/dist-packages (from chatterbot) (2.1.9)\n",
            "Collecting python-dateutil<2.8,>=2.7\n",
            "\u001b[?25l  Downloading https://files.pythonhosted.org/packages/74/68/d87d9b36af36f44254a8d512cbfc48369103a3b9e474be9bdfe536abfc45/python_dateutil-2.7.5-py2.py3-none-any.whl (225kB)\n",
            "\u001b[K     |████████████████████████████████| 235kB 53.1MB/s \n",
            "\u001b[?25hCollecting pyyaml<5.2,>=5.1\n",
            "\u001b[?25l  Downloading https://files.pythonhosted.org/packages/e3/e8/b3212641ee2718d556df0f23f78de8303f068fe29cdaa7a91018849582fe/PyYAML-5.1.2.tar.gz (265kB)\n",
            "\u001b[K     |████████████████████████████████| 266kB 76.1MB/s \n",
            "\u001b[?25hCollecting pint>=0.8.1\n",
            "\u001b[?25l  Downloading https://files.pythonhosted.org/packages/15/9d/bf177ebbc57d25e9e296addc14a1303d1e34d7964af5df428a8332349c42/Pint-0.9-py2.py3-none-any.whl (138kB)\n",
            "\u001b[K     |████████████████████████████████| 143kB 61.6MB/s \n",
            "\u001b[?25hRequirement already satisfied: six in /usr/local/lib/python3.6/dist-packages (from nltk<4.0,>=3.2->chatterbot) (1.12.0)\n",
            "Requirement already satisfied: numpy>=1.15.0 in /usr/local/lib/python3.6/dist-packages (from spacy<2.2,>=2.1->chatterbot) (1.17.4)\n",
            "Requirement already satisfied: requests<3.0.0,>=2.13.0 in /usr/local/lib/python3.6/dist-packages (from spacy<2.2,>=2.1->chatterbot) (2.21.0)\n",
            "Requirement already satisfied: srsly<1.1.0,>=0.0.6 in /usr/local/lib/python3.6/dist-packages (from spacy<2.2,>=2.1->chatterbot) (0.2.0)\n",
            "Requirement already satisfied: blis<0.3.0,>=0.2.2 in /usr/local/lib/python3.6/dist-packages (from spacy<2.2,>=2.1->chatterbot) (0.2.4)\n",
            "Requirement already satisfied: plac<1.0.0,>=0.9.6 in /usr/local/lib/python3.6/dist-packages (from spacy<2.2,>=2.1->chatterbot) (0.9.6)\n",
            "Requirement already satisfied: thinc<7.1.0,>=7.0.8 in /usr/local/lib/python3.6/dist-packages (from spacy<2.2,>=2.1->chatterbot) (7.0.8)\n",
            "Requirement already satisfied: cymem<2.1.0,>=2.0.2 in /usr/local/lib/python3.6/dist-packages (from spacy<2.2,>=2.1->chatterbot) (2.0.3)\n",
            "Requirement already satisfied: murmurhash<1.1.0,>=0.28.0 in /usr/local/lib/python3.6/dist-packages (from spacy<2.2,>=2.1->chatterbot) (1.0.2)\n",
            "Requirement already satisfied: preshed<2.1.0,>=2.0.1 in /usr/local/lib/python3.6/dist-packages (from spacy<2.2,>=2.1->chatterbot) (2.0.1)\n",
            "Requirement already satisfied: wasabi<1.1.0,>=0.2.0 in /usr/local/lib/python3.6/dist-packages (from spacy<2.2,>=2.1->chatterbot) (0.4.2)\n",
            "Requirement already satisfied: urllib3<1.25,>=1.21.1 in /usr/local/lib/python3.6/dist-packages (from requests<3.0.0,>=2.13.0->spacy<2.2,>=2.1->chatterbot) (1.24.3)\n",
            "Requirement already satisfied: idna<2.9,>=2.5 in /usr/local/lib/python3.6/dist-packages (from requests<3.0.0,>=2.13.0->spacy<2.2,>=2.1->chatterbot) (2.8)\n",
            "Requirement already satisfied: chardet<3.1.0,>=3.0.2 in /usr/local/lib/python3.6/dist-packages (from requests<3.0.0,>=2.13.0->spacy<2.2,>=2.1->chatterbot) (3.0.4)\n",
            "Requirement already satisfied: certifi>=2017.4.17 in /usr/local/lib/python3.6/dist-packages (from requests<3.0.0,>=2.13.0->spacy<2.2,>=2.1->chatterbot) (2019.11.28)\n",
            "Requirement already satisfied: tqdm<5.0.0,>=4.10.0 in /usr/local/lib/python3.6/dist-packages (from thinc<7.1.0,>=7.0.8->spacy<2.2,>=2.1->chatterbot) (4.28.1)\n",
            "Building wheels for collected packages: sqlalchemy, pyyaml\n",
            "  Building wheel for sqlalchemy (setup.py) ... \u001b[?25l\u001b[?25hdone\n",
            "  Created wheel for sqlalchemy: filename=SQLAlchemy-1.2.19-cp36-cp36m-linux_x86_64.whl size=1151159 sha256=7a669b95aa1b88f1e7f55e35d504dde12ca034dee05866eb2f277eea918d1242\n",
            "  Stored in directory: /root/.cache/pip/wheels/2c/90/a7/3b40c6cc468abff357b38fd075429920bd0d313659d889cf8a\n",
            "  Building wheel for pyyaml (setup.py) ... \u001b[?25l\u001b[?25hdone\n",
            "  Created wheel for pyyaml: filename=PyYAML-5.1.2-cp36-cp36m-linux_x86_64.whl size=44104 sha256=111583c595267c31951c5efa763d63aa76af074db66dfa5ae0e8469efe25291e\n",
            "  Stored in directory: /root/.cache/pip/wheels/d9/45/dd/65f0b38450c47cf7e5312883deb97d065e030c5cca0a365030\n",
            "Successfully built sqlalchemy pyyaml\n",
            "\u001b[31mERROR: albumentations 0.1.12 has requirement imgaug<0.2.7,>=0.2.5, but you'll have imgaug 0.2.9 which is incompatible.\u001b[0m\n",
            "Installing collected packages: mathparse, sqlalchemy, python-dateutil, pyyaml, pint, chatterbot\n",
            "  Found existing installation: SQLAlchemy 1.3.12\n",
            "    Uninstalling SQLAlchemy-1.3.12:\n",
            "      Successfully uninstalled SQLAlchemy-1.3.12\n",
            "  Found existing installation: python-dateutil 2.6.1\n",
            "    Uninstalling python-dateutil-2.6.1:\n",
            "      Successfully uninstalled python-dateutil-2.6.1\n",
            "  Found existing installation: PyYAML 3.13\n",
            "    Uninstalling PyYAML-3.13:\n",
            "      Successfully uninstalled PyYAML-3.13\n",
            "Successfully installed chatterbot-1.0.5 mathparse-0.1.2 pint-0.9 python-dateutil-2.7.5 pyyaml-5.1.2 sqlalchemy-1.2.19\n"
          ],
          "name": "stdout"
        },
        {
          "output_type": "display_data",
          "data": {
            "application/vnd.colab-display-data+json": {
              "pip_warning": {
                "packages": [
                  "dateutil"
                ]
              }
            }
          },
          "metadata": {
            "tags": []
          }
        },
        {
          "output_type": "stream",
          "text": [
            "Collecting chatterbot_corpus\n",
            "\u001b[?25l  Downloading https://files.pythonhosted.org/packages/ed/19/f8b41daf36fe4b0f43e283a820362ffdb2c1128600ab4ee187e84262fa4d/chatterbot_corpus-1.2.0-py2.py3-none-any.whl (117kB)\n",
            "\r\u001b[K     |██▉                             | 10kB 31.9MB/s eta 0:00:01\r\u001b[K     |█████▋                          | 20kB 5.9MB/s eta 0:00:01\r\u001b[K     |████████▍                       | 30kB 8.4MB/s eta 0:00:01\r\u001b[K     |███████████▏                    | 40kB 5.5MB/s eta 0:00:01\r\u001b[K     |██████████████                  | 51kB 6.8MB/s eta 0:00:01\r\u001b[K     |████████████████▊               | 61kB 8.0MB/s eta 0:00:01\r\u001b[K     |███████████████████▋            | 71kB 9.2MB/s eta 0:00:01\r\u001b[K     |██████████████████████▍         | 81kB 10.3MB/s eta 0:00:01\r\u001b[K     |█████████████████████████▏      | 92kB 11.4MB/s eta 0:00:01\r\u001b[K     |████████████████████████████    | 102kB 9.0MB/s eta 0:00:01\r\u001b[K     |██████████████████████████████▊ | 112kB 9.0MB/s eta 0:00:01\r\u001b[K     |████████████████████████████████| 122kB 9.0MB/s \n",
            "\u001b[?25hCollecting PyYAML<4.0,>=3.12\n",
            "\u001b[?25l  Downloading https://files.pythonhosted.org/packages/9e/a3/1d13970c3f36777c583f136c136f804d70f500168edc1edea6daa7200769/PyYAML-3.13.tar.gz (270kB)\n",
            "\r\u001b[K     |█▏                              | 10kB 33.2MB/s eta 0:00:01\r\u001b[K     |██▍                             | 20kB 42.1MB/s eta 0:00:01\r\u001b[K     |███▋                            | 30kB 50.1MB/s eta 0:00:01\r\u001b[K     |████▉                           | 40kB 55.0MB/s eta 0:00:01\r\u001b[K     |██████                          | 51kB 56.9MB/s eta 0:00:01\r\u001b[K     |███████▎                        | 61kB 60.2MB/s eta 0:00:01\r\u001b[K     |████████▌                       | 71kB 61.8MB/s eta 0:00:01\r\u001b[K     |█████████▊                      | 81kB 61.6MB/s eta 0:00:01\r\u001b[K     |███████████                     | 92kB 63.5MB/s eta 0:00:01\r\u001b[K     |████████████                    | 102kB 29.8MB/s eta 0:00:01\r\u001b[K     |█████████████▎                  | 112kB 29.8MB/s eta 0:00:01\r\u001b[K     |██████████████▌                 | 122kB 29.8MB/s eta 0:00:01\r\u001b[K     |███████████████▊                | 133kB 29.8MB/s eta 0:00:01\r\u001b[K     |█████████████████               | 143kB 29.8MB/s eta 0:00:01\r\u001b[K     |██████████████████▏             | 153kB 29.8MB/s eta 0:00:01\r\u001b[K     |███████████████████▍            | 163kB 29.8MB/s eta 0:00:01\r\u001b[K     |████████████████████▋           | 174kB 29.8MB/s eta 0:00:01\r\u001b[K     |█████████████████████▉          | 184kB 29.8MB/s eta 0:00:01\r\u001b[K     |███████████████████████         | 194kB 29.8MB/s eta 0:00:01\r\u001b[K     |████████████████████████▏       | 204kB 29.8MB/s eta 0:00:01\r\u001b[K     |█████████████████████████▍      | 215kB 29.8MB/s eta 0:00:01\r\u001b[K     |██████████████████████████▋     | 225kB 29.8MB/s eta 0:00:01\r\u001b[K     |███████████████████████████▉    | 235kB 29.8MB/s eta 0:00:01\r\u001b[K     |█████████████████████████████   | 245kB 29.8MB/s eta 0:00:01\r\u001b[K     |██████████████████████████████▎ | 256kB 29.8MB/s eta 0:00:01\r\u001b[K     |███████████████████████████████▌| 266kB 29.8MB/s eta 0:00:01\r\u001b[K     |████████████████████████████████| 276kB 29.8MB/s \n",
            "\u001b[?25hBuilding wheels for collected packages: PyYAML\n",
            "  Building wheel for PyYAML (setup.py) ... \u001b[?25l\u001b[?25hdone\n",
            "  Created wheel for PyYAML: filename=PyYAML-3.13-cp36-cp36m-linux_x86_64.whl size=43087 sha256=da0e404120c3b2b77571a934e715dd95b6455a19a0f066404a1abbe2390cad6f\n",
            "  Stored in directory: /root/.cache/pip/wheels/ad/da/0c/74eb680767247273e2cf2723482cb9c924fe70af57c334513f\n",
            "Successfully built PyYAML\n",
            "\u001b[31mERROR: chatterbot 1.0.5 has requirement pyyaml<5.2,>=5.1, but you'll have pyyaml 3.13 which is incompatible.\u001b[0m\n",
            "Installing collected packages: PyYAML, chatterbot-corpus\n",
            "  Found existing installation: PyYAML 5.1.2\n",
            "    Uninstalling PyYAML-5.1.2:\n",
            "      Successfully uninstalled PyYAML-5.1.2\n",
            "Successfully installed PyYAML-3.13 chatterbot-corpus-1.2.0\n"
          ],
          "name": "stdout"
        }
      ]
    },
    {
      "cell_type": "code",
      "metadata": {
        "id": "oeSEdFfixfzQ",
        "colab_type": "code",
        "colab": {}
      },
      "source": [
        "from chatterbot import ChatBot\n",
        "from chatterbot.trainers import ListTrainer"
      ],
      "execution_count": 0,
      "outputs": []
    },
    {
      "cell_type": "code",
      "metadata": {
        "id": "eXVg8DcEyxzX",
        "colab_type": "code",
        "outputId": "26893c01-7ee5-4a8d-feb3-9acbffa5af5e",
        "colab": {
          "base_uri": "https://localhost:8080/",
          "height": 136
        }
      },
      "source": [
        "my_bot = ChatBot(name='PyBot', read_only=True,\n",
        "                 logic_adapters=['chatterbot.logic.MathematicalEvaluation',\n",
        "                                 'chatterbot.logic.BestMatch'])\n"
      ],
      "execution_count": 0,
      "outputs": [
        {
          "output_type": "stream",
          "text": [
            "[nltk_data] Downloading package wordnet to /root/nltk_data...\n",
            "[nltk_data]   Unzipping corpora/wordnet.zip.\n",
            "[nltk_data] Downloading package stopwords to /root/nltk_data...\n",
            "[nltk_data]   Unzipping corpora/stopwords.zip.\n",
            "[nltk_data] Downloading package averaged_perceptron_tagger to\n",
            "[nltk_data]     /root/nltk_data...\n",
            "[nltk_data]   Unzipping taggers/averaged_perceptron_tagger.zip.\n"
          ],
          "name": "stdout"
        }
      ]
    },
    {
      "cell_type": "code",
      "metadata": {
        "id": "gsNP68VDy9Ol",
        "colab_type": "code",
        "colab": {}
      },
      "source": [
        "small_talk = ['こんにちは!',\n",
        "              'こんにちは!',\n",
        "              '元気ですか?',\n",
        "              'どうしてまか?',\n",
        "              '元気ですよ.',\n",
        "              'あなたは、どうですか?',\n",
        "              'いつも元気です.',\n",
        "              '大丈夫だよ',\n",
        "              'それを聞いて安心した.',\n",
        "              '私も元気だよ.',\n",
        "              'それを聞いてよかった.',\n",
        "              '私も大いに健康です',\n",
        "              '素晴らしい.私も嬉しい.',\n",
        "              '体調はあまり優れない.',\n",
        "              'それは残念.',\n",
        "              '君の名はなんて言うの?',\n",
        "              '私の名は pybot. 数学公式についての質問もしてよ.']\n",
        "math_talk_1 = ['ピタゴラスの定理とは',\n",
        "               'aの二乗とbの二乗の和はcの二乗の和です.']\n",
        "math_talk_2 = ['余弦定理',\n",
        "               'ベクトルaとbの積は＝ a**2 + b**2 - 2 * a * b * cos(gamma)']\n"
      ],
      "execution_count": 0,
      "outputs": []
    },
    {
      "cell_type": "code",
      "metadata": {
        "id": "ytc6p1PWzExk",
        "colab_type": "code",
        "outputId": "2be6054d-3548-4aca-de31-2752d2791a42",
        "colab": {
          "base_uri": "https://localhost:8080/",
          "height": 68
        }
      },
      "source": [
        "list_trainer = ListTrainer(my_bot)\n",
        "for item in (small_talk, math_talk_1, math_talk_2):\n",
        "    list_trainer.train(item)"
      ],
      "execution_count": 0,
      "outputs": [
        {
          "output_type": "stream",
          "text": [
            "List Trainer: [####################] 100%\n",
            "List Trainer: [####################] 100%\n",
            "List Trainer: [####################] 100%\n"
          ],
          "name": "stdout"
        }
      ]
    },
    {
      "cell_type": "code",
      "metadata": {
        "id": "7wX_mRuzy-wn",
        "colab_type": "code",
        "outputId": "bce7ccf1-36a2-41dd-c9cd-b9b994cab7f2",
        "colab": {
          "base_uri": "https://localhost:8080/",
          "height": 34
        }
      },
      "source": [
        "print(my_bot.get_response(\"こんにちは\"))"
      ],
      "execution_count": 0,
      "outputs": [
        {
          "output_type": "stream",
          "text": [
            "こんにちは!\n"
          ],
          "name": "stdout"
        }
      ]
    },
    {
      "cell_type": "code",
      "metadata": {
        "id": "gxgFbNA7zeXn",
        "colab_type": "code",
        "outputId": "c784ede0-9016-4012-9908-ab9b62b7b96c",
        "colab": {
          "base_uri": "https://localhost:8080/",
          "height": 34
        }
      },
      "source": [
        "print(my_bot.get_response(\"私も大いに健康です\"))"
      ],
      "execution_count": 0,
      "outputs": [
        {
          "output_type": "stream",
          "text": [
            "素晴らしい.私も嬉しい.\n"
          ],
          "name": "stdout"
        }
      ]
    },
    {
      "cell_type": "code",
      "metadata": {
        "id": "yFQwBpVHzmo7",
        "colab_type": "code",
        "outputId": "94392d5e-e286-4bd9-b9a8-aff04b941370",
        "colab": {
          "base_uri": "https://localhost:8080/",
          "height": 34
        }
      },
      "source": [
        "print(my_bot.get_response(\"君の名は?\"))"
      ],
      "execution_count": 0,
      "outputs": [
        {
          "output_type": "stream",
          "text": [
            "私のなは pybot. 数学公式についての質問もしてよ.\n"
          ],
          "name": "stdout"
        }
      ]
    },
    {
      "cell_type": "code",
      "metadata": {
        "id": "HR1c7e-AzwDY",
        "colab_type": "code",
        "outputId": "84f2f558-138c-409a-8c3b-5dde0966c861",
        "colab": {
          "base_uri": "https://localhost:8080/",
          "height": 34
        }
      },
      "source": [
        "print(my_bot.get_response(\"ピタゴラスの定理とは\"))"
      ],
      "execution_count": 0,
      "outputs": [
        {
          "output_type": "stream",
          "text": [
            "aの二乗とbの二乗の和はcの二乗の和です.\n"
          ],
          "name": "stdout"
        }
      ]
    }
  ]
}